{
 "cells": [
  {
   "cell_type": "code",
   "execution_count": 1122,
   "metadata": {},
   "outputs": [],
   "source": [
    "import warnings\n",
    "warnings.filterwarnings('ignore')\n",
    "\n",
    "import numpy as np\n",
    "import pandas as pd\n",
    "import matplotlib.pyplot as plt\n",
    "import seaborn as sns\n",
    "from sklearn.preprocessing import StandardScaler\n"
   ]
  },
  {
   "cell_type": "code",
   "execution_count": 1123,
   "metadata": {},
   "outputs": [
    {
     "data": {
      "text/html": [
       "<div>\n",
       "<style scoped>\n",
       "    .dataframe tbody tr th:only-of-type {\n",
       "        vertical-align: middle;\n",
       "    }\n",
       "\n",
       "    .dataframe tbody tr th {\n",
       "        vertical-align: top;\n",
       "    }\n",
       "\n",
       "    .dataframe thead th {\n",
       "        text-align: right;\n",
       "    }\n",
       "</style>\n",
       "<table border=\"1\" class=\"dataframe\">\n",
       "  <thead>\n",
       "    <tr style=\"text-align: right;\">\n",
       "      <th></th>\n",
       "      <th>Prospect ID</th>\n",
       "      <th>Lead Number</th>\n",
       "      <th>Lead Origin</th>\n",
       "      <th>Lead Source</th>\n",
       "      <th>Do Not Email</th>\n",
       "      <th>Do Not Call</th>\n",
       "      <th>Converted</th>\n",
       "      <th>TotalVisits</th>\n",
       "      <th>Total Time Spent on Website</th>\n",
       "      <th>Page Views Per Visit</th>\n",
       "      <th>...</th>\n",
       "      <th>Get updates on DM Content</th>\n",
       "      <th>Lead Profile</th>\n",
       "      <th>City</th>\n",
       "      <th>Asymmetrique Activity Index</th>\n",
       "      <th>Asymmetrique Profile Index</th>\n",
       "      <th>Asymmetrique Activity Score</th>\n",
       "      <th>Asymmetrique Profile Score</th>\n",
       "      <th>I agree to pay the amount through cheque</th>\n",
       "      <th>A free copy of Mastering The Interview</th>\n",
       "      <th>Last Notable Activity</th>\n",
       "    </tr>\n",
       "  </thead>\n",
       "  <tbody>\n",
       "    <tr>\n",
       "      <th>0</th>\n",
       "      <td>7927b2df-8bba-4d29-b9a2-b6e0beafe620</td>\n",
       "      <td>660737</td>\n",
       "      <td>API</td>\n",
       "      <td>Olark Chat</td>\n",
       "      <td>No</td>\n",
       "      <td>No</td>\n",
       "      <td>0</td>\n",
       "      <td>0.0</td>\n",
       "      <td>0</td>\n",
       "      <td>0.0</td>\n",
       "      <td>...</td>\n",
       "      <td>No</td>\n",
       "      <td>Select</td>\n",
       "      <td>Select</td>\n",
       "      <td>02.Medium</td>\n",
       "      <td>02.Medium</td>\n",
       "      <td>15.0</td>\n",
       "      <td>15.0</td>\n",
       "      <td>No</td>\n",
       "      <td>No</td>\n",
       "      <td>Modified</td>\n",
       "    </tr>\n",
       "    <tr>\n",
       "      <th>1</th>\n",
       "      <td>2a272436-5132-4136-86fa-dcc88c88f482</td>\n",
       "      <td>660728</td>\n",
       "      <td>API</td>\n",
       "      <td>Organic Search</td>\n",
       "      <td>No</td>\n",
       "      <td>No</td>\n",
       "      <td>0</td>\n",
       "      <td>5.0</td>\n",
       "      <td>674</td>\n",
       "      <td>2.5</td>\n",
       "      <td>...</td>\n",
       "      <td>No</td>\n",
       "      <td>Select</td>\n",
       "      <td>Select</td>\n",
       "      <td>02.Medium</td>\n",
       "      <td>02.Medium</td>\n",
       "      <td>15.0</td>\n",
       "      <td>15.0</td>\n",
       "      <td>No</td>\n",
       "      <td>No</td>\n",
       "      <td>Email Opened</td>\n",
       "    </tr>\n",
       "    <tr>\n",
       "      <th>2</th>\n",
       "      <td>8cc8c611-a219-4f35-ad23-fdfd2656bd8a</td>\n",
       "      <td>660727</td>\n",
       "      <td>Landing Page Submission</td>\n",
       "      <td>Direct Traffic</td>\n",
       "      <td>No</td>\n",
       "      <td>No</td>\n",
       "      <td>1</td>\n",
       "      <td>2.0</td>\n",
       "      <td>1532</td>\n",
       "      <td>2.0</td>\n",
       "      <td>...</td>\n",
       "      <td>No</td>\n",
       "      <td>Potential Lead</td>\n",
       "      <td>Mumbai</td>\n",
       "      <td>02.Medium</td>\n",
       "      <td>01.High</td>\n",
       "      <td>14.0</td>\n",
       "      <td>20.0</td>\n",
       "      <td>No</td>\n",
       "      <td>Yes</td>\n",
       "      <td>Email Opened</td>\n",
       "    </tr>\n",
       "    <tr>\n",
       "      <th>3</th>\n",
       "      <td>0cc2df48-7cf4-4e39-9de9-19797f9b38cc</td>\n",
       "      <td>660719</td>\n",
       "      <td>Landing Page Submission</td>\n",
       "      <td>Direct Traffic</td>\n",
       "      <td>No</td>\n",
       "      <td>No</td>\n",
       "      <td>0</td>\n",
       "      <td>1.0</td>\n",
       "      <td>305</td>\n",
       "      <td>1.0</td>\n",
       "      <td>...</td>\n",
       "      <td>No</td>\n",
       "      <td>Select</td>\n",
       "      <td>Mumbai</td>\n",
       "      <td>02.Medium</td>\n",
       "      <td>01.High</td>\n",
       "      <td>13.0</td>\n",
       "      <td>17.0</td>\n",
       "      <td>No</td>\n",
       "      <td>No</td>\n",
       "      <td>Modified</td>\n",
       "    </tr>\n",
       "    <tr>\n",
       "      <th>4</th>\n",
       "      <td>3256f628-e534-4826-9d63-4a8b88782852</td>\n",
       "      <td>660681</td>\n",
       "      <td>Landing Page Submission</td>\n",
       "      <td>Google</td>\n",
       "      <td>No</td>\n",
       "      <td>No</td>\n",
       "      <td>1</td>\n",
       "      <td>2.0</td>\n",
       "      <td>1428</td>\n",
       "      <td>1.0</td>\n",
       "      <td>...</td>\n",
       "      <td>No</td>\n",
       "      <td>Select</td>\n",
       "      <td>Mumbai</td>\n",
       "      <td>02.Medium</td>\n",
       "      <td>01.High</td>\n",
       "      <td>15.0</td>\n",
       "      <td>18.0</td>\n",
       "      <td>No</td>\n",
       "      <td>No</td>\n",
       "      <td>Modified</td>\n",
       "    </tr>\n",
       "  </tbody>\n",
       "</table>\n",
       "<p>5 rows × 37 columns</p>\n",
       "</div>"
      ],
      "text/plain": [
       "                            Prospect ID  Lead Number              Lead Origin  \\\n",
       "0  7927b2df-8bba-4d29-b9a2-b6e0beafe620       660737                      API   \n",
       "1  2a272436-5132-4136-86fa-dcc88c88f482       660728                      API   \n",
       "2  8cc8c611-a219-4f35-ad23-fdfd2656bd8a       660727  Landing Page Submission   \n",
       "3  0cc2df48-7cf4-4e39-9de9-19797f9b38cc       660719  Landing Page Submission   \n",
       "4  3256f628-e534-4826-9d63-4a8b88782852       660681  Landing Page Submission   \n",
       "\n",
       "      Lead Source Do Not Email Do Not Call  Converted  TotalVisits  \\\n",
       "0      Olark Chat           No          No          0          0.0   \n",
       "1  Organic Search           No          No          0          5.0   \n",
       "2  Direct Traffic           No          No          1          2.0   \n",
       "3  Direct Traffic           No          No          0          1.0   \n",
       "4          Google           No          No          1          2.0   \n",
       "\n",
       "   Total Time Spent on Website  Page Views Per Visit  ...  \\\n",
       "0                            0                   0.0  ...   \n",
       "1                          674                   2.5  ...   \n",
       "2                         1532                   2.0  ...   \n",
       "3                          305                   1.0  ...   \n",
       "4                         1428                   1.0  ...   \n",
       "\n",
       "  Get updates on DM Content    Lead Profile    City  \\\n",
       "0                        No          Select  Select   \n",
       "1                        No          Select  Select   \n",
       "2                        No  Potential Lead  Mumbai   \n",
       "3                        No          Select  Mumbai   \n",
       "4                        No          Select  Mumbai   \n",
       "\n",
       "  Asymmetrique Activity Index Asymmetrique Profile Index  \\\n",
       "0                   02.Medium                  02.Medium   \n",
       "1                   02.Medium                  02.Medium   \n",
       "2                   02.Medium                    01.High   \n",
       "3                   02.Medium                    01.High   \n",
       "4                   02.Medium                    01.High   \n",
       "\n",
       "  Asymmetrique Activity Score Asymmetrique Profile Score  \\\n",
       "0                        15.0                       15.0   \n",
       "1                        15.0                       15.0   \n",
       "2                        14.0                       20.0   \n",
       "3                        13.0                       17.0   \n",
       "4                        15.0                       18.0   \n",
       "\n",
       "  I agree to pay the amount through cheque  \\\n",
       "0                                       No   \n",
       "1                                       No   \n",
       "2                                       No   \n",
       "3                                       No   \n",
       "4                                       No   \n",
       "\n",
       "  A free copy of Mastering The Interview Last Notable Activity  \n",
       "0                                     No              Modified  \n",
       "1                                     No          Email Opened  \n",
       "2                                    Yes          Email Opened  \n",
       "3                                     No              Modified  \n",
       "4                                     No              Modified  \n",
       "\n",
       "[5 rows x 37 columns]"
      ]
     },
     "execution_count": 1123,
     "metadata": {},
     "output_type": "execute_result"
    }
   ],
   "source": [
    "leads= pd.read_csv('Leads.csv')\n",
    "leads.head()"
   ]
  },
  {
   "cell_type": "code",
   "execution_count": 1124,
   "metadata": {},
   "outputs": [
    {
     "data": {
      "text/plain": [
       "(9240, 37)"
      ]
     },
     "execution_count": 1124,
     "metadata": {},
     "output_type": "execute_result"
    }
   ],
   "source": [
    "leads.shape"
   ]
  },
  {
   "cell_type": "code",
   "execution_count": 1125,
   "metadata": {},
   "outputs": [
    {
     "data": {
      "text/html": [
       "<div>\n",
       "<style scoped>\n",
       "    .dataframe tbody tr th:only-of-type {\n",
       "        vertical-align: middle;\n",
       "    }\n",
       "\n",
       "    .dataframe tbody tr th {\n",
       "        vertical-align: top;\n",
       "    }\n",
       "\n",
       "    .dataframe thead th {\n",
       "        text-align: right;\n",
       "    }\n",
       "</style>\n",
       "<table border=\"1\" class=\"dataframe\">\n",
       "  <thead>\n",
       "    <tr style=\"text-align: right;\">\n",
       "      <th></th>\n",
       "      <th>Lead Number</th>\n",
       "      <th>Converted</th>\n",
       "      <th>TotalVisits</th>\n",
       "      <th>Total Time Spent on Website</th>\n",
       "      <th>Page Views Per Visit</th>\n",
       "      <th>Asymmetrique Activity Score</th>\n",
       "      <th>Asymmetrique Profile Score</th>\n",
       "    </tr>\n",
       "  </thead>\n",
       "  <tbody>\n",
       "    <tr>\n",
       "      <th>count</th>\n",
       "      <td>9240.000000</td>\n",
       "      <td>9240.000000</td>\n",
       "      <td>9103.000000</td>\n",
       "      <td>9240.000000</td>\n",
       "      <td>9103.000000</td>\n",
       "      <td>5022.000000</td>\n",
       "      <td>5022.000000</td>\n",
       "    </tr>\n",
       "    <tr>\n",
       "      <th>mean</th>\n",
       "      <td>617188.435606</td>\n",
       "      <td>0.385390</td>\n",
       "      <td>3.445238</td>\n",
       "      <td>487.698268</td>\n",
       "      <td>2.362820</td>\n",
       "      <td>14.306252</td>\n",
       "      <td>16.344883</td>\n",
       "    </tr>\n",
       "    <tr>\n",
       "      <th>std</th>\n",
       "      <td>23405.995698</td>\n",
       "      <td>0.486714</td>\n",
       "      <td>4.854853</td>\n",
       "      <td>548.021466</td>\n",
       "      <td>2.161418</td>\n",
       "      <td>1.386694</td>\n",
       "      <td>1.811395</td>\n",
       "    </tr>\n",
       "    <tr>\n",
       "      <th>min</th>\n",
       "      <td>579533.000000</td>\n",
       "      <td>0.000000</td>\n",
       "      <td>0.000000</td>\n",
       "      <td>0.000000</td>\n",
       "      <td>0.000000</td>\n",
       "      <td>7.000000</td>\n",
       "      <td>11.000000</td>\n",
       "    </tr>\n",
       "    <tr>\n",
       "      <th>25%</th>\n",
       "      <td>596484.500000</td>\n",
       "      <td>0.000000</td>\n",
       "      <td>1.000000</td>\n",
       "      <td>12.000000</td>\n",
       "      <td>1.000000</td>\n",
       "      <td>14.000000</td>\n",
       "      <td>15.000000</td>\n",
       "    </tr>\n",
       "    <tr>\n",
       "      <th>50%</th>\n",
       "      <td>615479.000000</td>\n",
       "      <td>0.000000</td>\n",
       "      <td>3.000000</td>\n",
       "      <td>248.000000</td>\n",
       "      <td>2.000000</td>\n",
       "      <td>14.000000</td>\n",
       "      <td>16.000000</td>\n",
       "    </tr>\n",
       "    <tr>\n",
       "      <th>75%</th>\n",
       "      <td>637387.250000</td>\n",
       "      <td>1.000000</td>\n",
       "      <td>5.000000</td>\n",
       "      <td>936.000000</td>\n",
       "      <td>3.000000</td>\n",
       "      <td>15.000000</td>\n",
       "      <td>18.000000</td>\n",
       "    </tr>\n",
       "    <tr>\n",
       "      <th>max</th>\n",
       "      <td>660737.000000</td>\n",
       "      <td>1.000000</td>\n",
       "      <td>251.000000</td>\n",
       "      <td>2272.000000</td>\n",
       "      <td>55.000000</td>\n",
       "      <td>18.000000</td>\n",
       "      <td>20.000000</td>\n",
       "    </tr>\n",
       "  </tbody>\n",
       "</table>\n",
       "</div>"
      ],
      "text/plain": [
       "         Lead Number    Converted  TotalVisits  Total Time Spent on Website  \\\n",
       "count    9240.000000  9240.000000  9103.000000                  9240.000000   \n",
       "mean   617188.435606     0.385390     3.445238                   487.698268   \n",
       "std     23405.995698     0.486714     4.854853                   548.021466   \n",
       "min    579533.000000     0.000000     0.000000                     0.000000   \n",
       "25%    596484.500000     0.000000     1.000000                    12.000000   \n",
       "50%    615479.000000     0.000000     3.000000                   248.000000   \n",
       "75%    637387.250000     1.000000     5.000000                   936.000000   \n",
       "max    660737.000000     1.000000   251.000000                  2272.000000   \n",
       "\n",
       "       Page Views Per Visit  Asymmetrique Activity Score  \\\n",
       "count           9103.000000                  5022.000000   \n",
       "mean               2.362820                    14.306252   \n",
       "std                2.161418                     1.386694   \n",
       "min                0.000000                     7.000000   \n",
       "25%                1.000000                    14.000000   \n",
       "50%                2.000000                    14.000000   \n",
       "75%                3.000000                    15.000000   \n",
       "max               55.000000                    18.000000   \n",
       "\n",
       "       Asymmetrique Profile Score  \n",
       "count                 5022.000000  \n",
       "mean                    16.344883  \n",
       "std                      1.811395  \n",
       "min                     11.000000  \n",
       "25%                     15.000000  \n",
       "50%                     16.000000  \n",
       "75%                     18.000000  \n",
       "max                     20.000000  "
      ]
     },
     "execution_count": 1125,
     "metadata": {},
     "output_type": "execute_result"
    }
   ],
   "source": [
    "leads.describe()"
   ]
  },
  {
   "cell_type": "code",
   "execution_count": 1126,
   "metadata": {},
   "outputs": [
    {
     "name": "stdout",
     "output_type": "stream",
     "text": [
      "<class 'pandas.core.frame.DataFrame'>\n",
      "RangeIndex: 9240 entries, 0 to 9239\n",
      "Data columns (total 37 columns):\n",
      "Prospect ID                                      9240 non-null object\n",
      "Lead Number                                      9240 non-null int64\n",
      "Lead Origin                                      9240 non-null object\n",
      "Lead Source                                      9204 non-null object\n",
      "Do Not Email                                     9240 non-null object\n",
      "Do Not Call                                      9240 non-null object\n",
      "Converted                                        9240 non-null int64\n",
      "TotalVisits                                      9103 non-null float64\n",
      "Total Time Spent on Website                      9240 non-null int64\n",
      "Page Views Per Visit                             9103 non-null float64\n",
      "Last Activity                                    9137 non-null object\n",
      "Country                                          6779 non-null object\n",
      "Specialization                                   7802 non-null object\n",
      "How did you hear about X Education               7033 non-null object\n",
      "What is your current occupation                  6550 non-null object\n",
      "What matters most to you in choosing a course    6531 non-null object\n",
      "Search                                           9240 non-null object\n",
      "Magazine                                         9240 non-null object\n",
      "Newspaper Article                                9240 non-null object\n",
      "X Education Forums                               9240 non-null object\n",
      "Newspaper                                        9240 non-null object\n",
      "Digital Advertisement                            9240 non-null object\n",
      "Through Recommendations                          9240 non-null object\n",
      "Receive More Updates About Our Courses           9240 non-null object\n",
      "Tags                                             5887 non-null object\n",
      "Lead Quality                                     4473 non-null object\n",
      "Update me on Supply Chain Content                9240 non-null object\n",
      "Get updates on DM Content                        9240 non-null object\n",
      "Lead Profile                                     6531 non-null object\n",
      "City                                             7820 non-null object\n",
      "Asymmetrique Activity Index                      5022 non-null object\n",
      "Asymmetrique Profile Index                       5022 non-null object\n",
      "Asymmetrique Activity Score                      5022 non-null float64\n",
      "Asymmetrique Profile Score                       5022 non-null float64\n",
      "I agree to pay the amount through cheque         9240 non-null object\n",
      "A free copy of Mastering The Interview           9240 non-null object\n",
      "Last Notable Activity                            9240 non-null object\n",
      "dtypes: float64(4), int64(3), object(30)\n",
      "memory usage: 2.6+ MB\n"
     ]
    }
   ],
   "source": [
    "leads.info()"
   ]
  },
  {
   "cell_type": "code",
   "execution_count": 1127,
   "metadata": {},
   "outputs": [
    {
     "data": {
      "text/plain": [
       "Prospect ID                                       0.00\n",
       "Lead Number                                       0.00\n",
       "Lead Origin                                       0.00\n",
       "Lead Source                                       0.39\n",
       "Do Not Email                                      0.00\n",
       "Do Not Call                                       0.00\n",
       "Converted                                         0.00\n",
       "TotalVisits                                       1.48\n",
       "Total Time Spent on Website                       0.00\n",
       "Page Views Per Visit                              1.48\n",
       "Last Activity                                     1.11\n",
       "Country                                          26.63\n",
       "Specialization                                   15.56\n",
       "How did you hear about X Education               23.89\n",
       "What is your current occupation                  29.11\n",
       "What matters most to you in choosing a course    29.32\n",
       "Search                                            0.00\n",
       "Magazine                                          0.00\n",
       "Newspaper Article                                 0.00\n",
       "X Education Forums                                0.00\n",
       "Newspaper                                         0.00\n",
       "Digital Advertisement                             0.00\n",
       "Through Recommendations                           0.00\n",
       "Receive More Updates About Our Courses            0.00\n",
       "Tags                                             36.29\n",
       "Lead Quality                                     51.59\n",
       "Update me on Supply Chain Content                 0.00\n",
       "Get updates on DM Content                         0.00\n",
       "Lead Profile                                     29.32\n",
       "City                                             15.37\n",
       "Asymmetrique Activity Index                      45.65\n",
       "Asymmetrique Profile Index                       45.65\n",
       "Asymmetrique Activity Score                      45.65\n",
       "Asymmetrique Profile Score                       45.65\n",
       "I agree to pay the amount through cheque          0.00\n",
       "A free copy of Mastering The Interview            0.00\n",
       "Last Notable Activity                             0.00\n",
       "dtype: float64"
      ]
     },
     "execution_count": 1127,
     "metadata": {},
     "output_type": "execute_result"
    }
   ],
   "source": [
    "round(100*(leads.isnull().sum()/len(leads)), 2)"
   ]
  },
  {
   "cell_type": "code",
   "execution_count": 1128,
   "metadata": {},
   "outputs": [
    {
     "data": {
      "text/plain": [
       "Prospect ID                                       0.00\n",
       "Lead Number                                       0.00\n",
       "Lead Origin                                       0.00\n",
       "Lead Source                                       0.39\n",
       "Do Not Email                                      0.00\n",
       "Do Not Call                                       0.00\n",
       "Converted                                         0.00\n",
       "TotalVisits                                       1.48\n",
       "Total Time Spent on Website                       0.00\n",
       "Page Views Per Visit                              1.48\n",
       "Last Activity                                     1.11\n",
       "Country                                          26.63\n",
       "Specialization                                   36.58\n",
       "How did you hear about X Education               78.46\n",
       "What is your current occupation                  29.11\n",
       "What matters most to you in choosing a course    29.32\n",
       "Search                                            0.00\n",
       "Magazine                                          0.00\n",
       "Newspaper Article                                 0.00\n",
       "X Education Forums                                0.00\n",
       "Newspaper                                         0.00\n",
       "Digital Advertisement                             0.00\n",
       "Through Recommendations                           0.00\n",
       "Receive More Updates About Our Courses            0.00\n",
       "Tags                                             36.29\n",
       "Lead Quality                                     51.59\n",
       "Update me on Supply Chain Content                 0.00\n",
       "Get updates on DM Content                         0.00\n",
       "Lead Profile                                     74.19\n",
       "City                                             39.71\n",
       "Asymmetrique Activity Index                      45.65\n",
       "Asymmetrique Profile Index                       45.65\n",
       "Asymmetrique Activity Score                      45.65\n",
       "Asymmetrique Profile Score                       45.65\n",
       "I agree to pay the amount through cheque          0.00\n",
       "A free copy of Mastering The Interview            0.00\n",
       "Last Notable Activity                             0.00\n",
       "dtype: float64"
      ]
     },
     "execution_count": 1128,
     "metadata": {},
     "output_type": "execute_result"
    }
   ],
   "source": [
    "def checkSelect(value):\n",
    "    if(value=='Select'):\n",
    "        return None\n",
    "    else:\n",
    "        return value\n",
    "\n",
    "for column in leads.columns:\n",
    "    leads[column]=leads[column].apply(checkSelect)\n",
    "\n",
    "round(100*(leads.isnull().sum()/len(leads)), 2)\n"
   ]
  },
  {
   "cell_type": "code",
   "execution_count": 1129,
   "metadata": {},
   "outputs": [],
   "source": [
    "def getPercentage(value):\n",
    "    return round(100*(value.isnull().sum()/len(value)), 2) > 50.00\n",
    "\n",
    "leads1=  leads.drop(leads.columns[leads.apply(getPercentage)], axis=1)\n",
    "\n"
   ]
  },
  {
   "cell_type": "code",
   "execution_count": 1130,
   "metadata": {},
   "outputs": [
    {
     "data": {
      "text/plain": [
       "Prospect ID                                       0.00\n",
       "Lead Number                                       0.00\n",
       "Lead Origin                                       0.00\n",
       "Lead Source                                       0.39\n",
       "Do Not Email                                      0.00\n",
       "Do Not Call                                       0.00\n",
       "Converted                                         0.00\n",
       "TotalVisits                                       1.48\n",
       "Total Time Spent on Website                       0.00\n",
       "Page Views Per Visit                              1.48\n",
       "Last Activity                                     1.11\n",
       "Country                                          26.63\n",
       "Specialization                                   36.58\n",
       "What is your current occupation                  29.11\n",
       "What matters most to you in choosing a course    29.32\n",
       "Search                                            0.00\n",
       "Magazine                                          0.00\n",
       "Newspaper Article                                 0.00\n",
       "X Education Forums                                0.00\n",
       "Newspaper                                         0.00\n",
       "Digital Advertisement                             0.00\n",
       "Through Recommendations                           0.00\n",
       "Receive More Updates About Our Courses            0.00\n",
       "Tags                                             36.29\n",
       "Update me on Supply Chain Content                 0.00\n",
       "Get updates on DM Content                         0.00\n",
       "City                                             39.71\n",
       "Asymmetrique Activity Index                      45.65\n",
       "Asymmetrique Profile Index                       45.65\n",
       "Asymmetrique Activity Score                      45.65\n",
       "Asymmetrique Profile Score                       45.65\n",
       "I agree to pay the amount through cheque          0.00\n",
       "A free copy of Mastering The Interview            0.00\n",
       "Last Notable Activity                             0.00\n",
       "dtype: float64"
      ]
     },
     "execution_count": 1130,
     "metadata": {},
     "output_type": "execute_result"
    }
   ],
   "source": [
    "round(100*(leads1.isnull().sum()/len(leads1)), 2)"
   ]
  },
  {
   "cell_type": "code",
   "execution_count": 1131,
   "metadata": {},
   "outputs": [],
   "source": [
    "# it seems 'What matters most to you in choosing a course' column contains same values. Hence we can drop the column\n",
    "\n",
    "leads1.drop(['What matters most to you in choosing a course'], axis=1 , inplace = True)\n"
   ]
  },
  {
   "cell_type": "code",
   "execution_count": 1132,
   "metadata": {},
   "outputs": [
    {
     "data": {
      "text/plain": [
       "Prospect ID                                  0.00\n",
       "Lead Number                                  0.00\n",
       "Lead Origin                                  0.00\n",
       "Lead Source                                  0.16\n",
       "Do Not Email                                 0.00\n",
       "Do Not Call                                  0.00\n",
       "Converted                                    0.00\n",
       "TotalVisits                                  0.48\n",
       "Total Time Spent on Website                  0.00\n",
       "Page Views Per Visit                         0.48\n",
       "Last Activity                                0.29\n",
       "Country                                     13.05\n",
       "Specialization                              22.65\n",
       "What is your current occupation             16.36\n",
       "Search                                       0.00\n",
       "Magazine                                     0.00\n",
       "Newspaper Article                            0.00\n",
       "X Education Forums                           0.00\n",
       "Newspaper                                    0.00\n",
       "Digital Advertisement                        0.00\n",
       "Through Recommendations                      0.00\n",
       "Receive More Updates About Our Courses       0.00\n",
       "Tags                                        21.28\n",
       "Update me on Supply Chain Content            0.00\n",
       "Get updates on DM Content                    0.00\n",
       "City                                        24.95\n",
       "Asymmetrique Activity Index                 26.68\n",
       "Asymmetrique Profile Index                  26.68\n",
       "Asymmetrique Activity Score                 26.68\n",
       "Asymmetrique Profile Score                  26.68\n",
       "I agree to pay the amount through cheque     0.00\n",
       "A free copy of Mastering The Interview       0.00\n",
       "Last Notable Activity                        0.00\n",
       "dtype: float64"
      ]
     },
     "execution_count": 1132,
     "metadata": {},
     "output_type": "execute_result"
    }
   ],
   "source": [
    "leads2= leads1[leads1.isnull().sum(axis=1) <5]\n",
    "\n",
    "round(100*(leads2.isnull().sum()/len(leads2)), 2)\n"
   ]
  },
  {
   "cell_type": "code",
   "execution_count": 1133,
   "metadata": {},
   "outputs": [
    {
     "data": {
      "text/plain": [
       "(6193, 33)"
      ]
     },
     "execution_count": 1133,
     "metadata": {},
     "output_type": "execute_result"
    }
   ],
   "source": [
    "leads2.shape"
   ]
  },
  {
   "cell_type": "code",
   "execution_count": 1134,
   "metadata": {},
   "outputs": [
    {
     "data": {
      "text/plain": [
       "India                   5155\n",
       "United States             56\n",
       "United Arab Emirates      44\n",
       "Singapore                 19\n",
       "Saudi Arabia              17\n",
       "United Kingdom            11\n",
       "Australia                 10\n",
       "Qatar                      7\n",
       "Hong Kong                  6\n",
       "Bahrain                    6\n",
       "France                     6\n",
       "Kuwait                     4\n",
       "South Africa               4\n",
       "Oman                       4\n",
       "Nigeria                    4\n",
       "Canada                     3\n",
       "Germany                    2\n",
       "Bangladesh                 2\n",
       "Ghana                      2\n",
       "Sweden                     2\n",
       "Philippines                2\n",
       "unknown                    2\n",
       "Netherlands                2\n",
       "China                      2\n",
       "Kenya                      1\n",
       "Malaysia                   1\n",
       "Russia                     1\n",
       "Uganda                     1\n",
       "Italy                      1\n",
       "Denmark                    1\n",
       "Asia/Pacific Region        1\n",
       "Tanzania                   1\n",
       "Switzerland                1\n",
       "Indonesia                  1\n",
       "Sri Lanka                  1\n",
       "Belgium                    1\n",
       "Vietnam                    1\n",
       "Name: Country, dtype: int64"
      ]
     },
     "execution_count": 1134,
     "metadata": {},
     "output_type": "execute_result"
    }
   ],
   "source": [
    "leads2['Country'].value_counts()"
   ]
  },
  {
   "cell_type": "code",
   "execution_count": 1135,
   "metadata": {},
   "outputs": [
    {
     "data": {
      "text/plain": [
       "India                   5965\n",
       "United States             56\n",
       "United Arab Emirates      44\n",
       "Singapore                 19\n",
       "Saudi Arabia              17\n",
       "United Kingdom            11\n",
       "Australia                 10\n",
       "Qatar                      7\n",
       "Bahrain                    6\n",
       "Hong Kong                  6\n",
       "France                     6\n",
       "Kuwait                     4\n",
       "South Africa               4\n",
       "Nigeria                    4\n",
       "Oman                       4\n",
       "Canada                     3\n",
       "Philippines                2\n",
       "Bangladesh                 2\n",
       "Ghana                      2\n",
       "China                      2\n",
       "Sweden                     2\n",
       "Netherlands                2\n",
       "Germany                    2\n",
       "Italy                      1\n",
       "Asia/Pacific Region        1\n",
       "Switzerland                1\n",
       "Indonesia                  1\n",
       "Belgium                    1\n",
       "Kenya                      1\n",
       "Sri Lanka                  1\n",
       "Tanzania                   1\n",
       "Denmark                    1\n",
       "Uganda                     1\n",
       "Russia                     1\n",
       "Malaysia                   1\n",
       "Vietnam                    1\n",
       "Name: Country, dtype: int64"
      ]
     },
     "execution_count": 1135,
     "metadata": {},
     "output_type": "execute_result"
    }
   ],
   "source": [
    "\n",
    "def imputeMissingCountryValue(value):\n",
    "   \n",
    "    if(value == 'nan' or value== 'unknown'):\n",
    "        return 'India'\n",
    "    else:\n",
    "        return value\n",
    "leads2['Country'] = leads2['Country'].astype(str)\n",
    "leads2['Country']=leads2['Country'].apply(imputeMissingCountryValue)\n",
    "leads2['Country'].value_counts()\n"
   ]
  },
  {
   "cell_type": "code",
   "execution_count": 1136,
   "metadata": {
    "scrolled": true
   },
   "outputs": [
    {
     "data": {
      "text/plain": [
       "Prospect ID                                  0.00\n",
       "Lead Number                                  0.00\n",
       "Lead Origin                                  0.00\n",
       "Lead Source                                  0.16\n",
       "Do Not Email                                 0.00\n",
       "Do Not Call                                  0.00\n",
       "Converted                                    0.00\n",
       "TotalVisits                                  0.48\n",
       "Total Time Spent on Website                  0.00\n",
       "Page Views Per Visit                         0.48\n",
       "Last Activity                                0.29\n",
       "Country                                      0.00\n",
       "Specialization                              22.65\n",
       "What is your current occupation             16.36\n",
       "Search                                       0.00\n",
       "Magazine                                     0.00\n",
       "Newspaper Article                            0.00\n",
       "X Education Forums                           0.00\n",
       "Newspaper                                    0.00\n",
       "Digital Advertisement                        0.00\n",
       "Through Recommendations                      0.00\n",
       "Receive More Updates About Our Courses       0.00\n",
       "Tags                                        21.28\n",
       "Update me on Supply Chain Content            0.00\n",
       "Get updates on DM Content                    0.00\n",
       "Asymmetrique Activity Index                 26.68\n",
       "Asymmetrique Profile Index                  26.68\n",
       "Asymmetrique Activity Score                 26.68\n",
       "Asymmetrique Profile Score                  26.68\n",
       "I agree to pay the amount through cheque     0.00\n",
       "A free copy of Mastering The Interview       0.00\n",
       "Last Notable Activity                        0.00\n",
       "dtype: float64"
      ]
     },
     "execution_count": 1136,
     "metadata": {},
     "output_type": "execute_result"
    }
   ],
   "source": [
    "# City doesnt have enough information. either the values are wrong or missing. Hence deleting the column\n",
    "\n",
    "leads2.drop(['City'], axis=1 , inplace = True)\n",
    "round(100*(leads2.isnull().sum()/len(leads2)), 2)\n"
   ]
  },
  {
   "cell_type": "code",
   "execution_count": 1137,
   "metadata": {},
   "outputs": [
    {
     "data": {
      "text/plain": [
       "Unemployed              4479\n",
       "Working Professional     538\n",
       "Student                  135\n",
       "Other                     14\n",
       "Businessman                7\n",
       "Housewife                  7\n",
       "Name: What is your current occupation, dtype: int64"
      ]
     },
     "execution_count": 1137,
     "metadata": {},
     "output_type": "execute_result"
    }
   ],
   "source": [
    "leads2['What is your current occupation'].value_counts()\n"
   ]
  },
  {
   "cell_type": "code",
   "execution_count": 1138,
   "metadata": {},
   "outputs": [
    {
     "data": {
      "text/plain": [
       "Unemployed              4479\n",
       "Other                   1027\n",
       "Working Professional     538\n",
       "Student                  135\n",
       "Businessman                7\n",
       "Housewife                  7\n",
       "Name: What is your current occupation, dtype: int64"
      ]
     },
     "execution_count": 1138,
     "metadata": {},
     "output_type": "execute_result"
    }
   ],
   "source": [
    "def imputeMissingOccupationValue(value):\n",
    "    if(value == 'nan' ):\n",
    "        return 'Other'\n",
    "    else:\n",
    "        return value\n",
    "leads2['What is your current occupation'] = leads2['What is your current occupation'].astype(str)\n",
    "leads2['What is your current occupation']=leads2['What is your current occupation'].apply(imputeMissingOccupationValue)\n",
    "leads2['What is your current occupation'].value_counts()"
   ]
  },
  {
   "cell_type": "code",
   "execution_count": 1139,
   "metadata": {},
   "outputs": [
    {
     "data": {
      "text/plain": [
       "Other                                1058\n",
       "Finance Management                    799\n",
       "Human Resource Management             674\n",
       "Marketing Management                  657\n",
       "Operations Management                 407\n",
       "nan                                   345\n",
       "Business Administration               339\n",
       "IT Projects Management                308\n",
       "Supply Chain Management               305\n",
       "Banking, Investment And Insurance     287\n",
       "Media and Advertising                 169\n",
       "Travel and Tourism                    166\n",
       "International Business                143\n",
       "Healthcare Management                 124\n",
       "Hospitality Management                 92\n",
       "E-COMMERCE                             92\n",
       "Retail Management                      81\n",
       "Rural and Agribusiness                 63\n",
       "E-Business                             49\n",
       "Services Excellence                    35\n",
       "Name: Specialization, dtype: int64"
      ]
     },
     "execution_count": 1139,
     "metadata": {},
     "output_type": "execute_result"
    }
   ],
   "source": [
    "def imputeMissingSpecializationValue(value):\n",
    "    if(value == 'None' ):\n",
    "        return 'Other'\n",
    "    else:\n",
    "        return value\n",
    "leads2['Specialization'] = leads2['Specialization'].astype(str)\n",
    "leads2['Specialization']=leads2['Specialization'].apply(imputeMissingSpecializationValue)\n",
    "leads2['Specialization'].value_counts()\n"
   ]
  },
  {
   "cell_type": "code",
   "execution_count": 1140,
   "metadata": {},
   "outputs": [
    {
     "data": {
      "text/plain": [
       "Asymmetrique Activity Score\n",
       "7.0        1\n",
       "8.0        4\n",
       "9.0        9\n",
       "10.0      57\n",
       "11.0      93\n",
       "12.0     189\n",
       "13.0     756\n",
       "14.0    1697\n",
       "15.0    1230\n",
       "16.0     398\n",
       "17.0     102\n",
       "18.0       5\n",
       "Name: Converted, dtype: int64"
      ]
     },
     "execution_count": 1140,
     "metadata": {},
     "output_type": "execute_result"
    }
   ],
   "source": [
    "leads2.groupby('Asymmetrique Activity Score')['Converted'].count()"
   ]
  },
  {
   "cell_type": "code",
   "execution_count": 1141,
   "metadata": {},
   "outputs": [
    {
     "data": {
      "text/plain": [
       "Asymmetrique Activity Score\n",
       "0.0     1652\n",
       "7.0        1\n",
       "8.0        4\n",
       "9.0        9\n",
       "10.0      57\n",
       "11.0      93\n",
       "12.0     189\n",
       "13.0     756\n",
       "14.0    1697\n",
       "15.0    1230\n",
       "16.0     398\n",
       "17.0     102\n",
       "18.0       5\n",
       "Name: Converted, dtype: int64"
      ]
     },
     "execution_count": 1141,
     "metadata": {},
     "output_type": "execute_result"
    }
   ],
   "source": [
    "import math\n",
    "def imputeMissingASMScorenValue(value):\n",
    "    if(math.isnan(value)):\n",
    "        return 0\n",
    "    else:\n",
    "        return value\n",
    "\n",
    "leads2['Asymmetrique Activity Score']=leads2['Asymmetrique Activity Score'].apply(imputeMissingASMScorenValue)\n",
    "leads2.groupby('Asymmetrique Activity Score')['Converted'].count()\n"
   ]
  },
  {
   "cell_type": "code",
   "execution_count": 1142,
   "metadata": {},
   "outputs": [
    {
     "name": "stdout",
     "output_type": "stream",
     "text": [
      "14.0    1697\n",
      "0.0     1652\n",
      "15.0    1230\n",
      "13.0     756\n",
      "16.0     398\n",
      "12.0     189\n",
      "17.0     102\n",
      "11.0      93\n",
      "10.0      57\n",
      "9.0        9\n",
      "18.0       5\n",
      "8.0        4\n",
      "7.0        1\n",
      "Name: Asymmetrique Activity Score, dtype: int64\n"
     ]
    },
    {
     "data": {
      "text/plain": [
       "14.0    27.40\n",
       "0.0     26.68\n",
       "15.0    19.86\n",
       "13.0    12.21\n",
       "16.0     6.43\n",
       "12.0     3.05\n",
       "17.0     1.65\n",
       "11.0     1.50\n",
       "10.0     0.92\n",
       "9.0      0.15\n",
       "18.0     0.08\n",
       "8.0      0.06\n",
       "7.0      0.02\n",
       "Name: Asymmetrique Activity Score, dtype: float64"
      ]
     },
     "execution_count": 1142,
     "metadata": {},
     "output_type": "execute_result"
    }
   ],
   "source": [
    "print(leads2['Asymmetrique Activity Score'].value_counts())\n",
    "len(leads2['Asymmetrique Activity Score'])\n",
    "round(100* (leads2['Asymmetrique Activity Score'].value_counts()/len(leads2['Asymmetrique Activity Score'])),2)"
   ]
  },
  {
   "cell_type": "markdown",
   "metadata": {},
   "source": [
    "### inferences\n",
    "Since the missing assymetric score has same conversion rate as of aysmmetrique score 14, We impute the msissing value with 14."
   ]
  },
  {
   "cell_type": "code",
   "execution_count": 1143,
   "metadata": {},
   "outputs": [
    {
     "data": {
      "text/plain": [
       "Asymmetrique Activity Score\n",
       "7.0        1\n",
       "8.0        4\n",
       "9.0        9\n",
       "10.0      57\n",
       "11.0      93\n",
       "12.0     189\n",
       "13.0     756\n",
       "14.0    3349\n",
       "15.0    1230\n",
       "16.0     398\n",
       "17.0     102\n",
       "18.0       5\n",
       "Name: Converted, dtype: int64"
      ]
     },
     "execution_count": 1143,
     "metadata": {},
     "output_type": "execute_result"
    }
   ],
   "source": [
    "import math\n",
    "def imputeMissingASMSValue(value):\n",
    "    if(value == 0.0):\n",
    "        return 14.0\n",
    "    else:\n",
    "        return value\n",
    "\n",
    "leads2['Asymmetrique Activity Score']=leads2['Asymmetrique Activity Score'].apply(imputeMissingASMSValue)\n",
    "leads2.groupby('Asymmetrique Activity Score')['Converted'].count()"
   ]
  },
  {
   "cell_type": "code",
   "execution_count": null,
   "metadata": {},
   "outputs": [],
   "source": []
  },
  {
   "cell_type": "code",
   "execution_count": 1144,
   "metadata": {},
   "outputs": [
    {
     "data": {
      "text/plain": [
       "Asymmetrique Profile Score\n",
       "0.0     1652\n",
       "11.0       9\n",
       "12.0      22\n",
       "13.0     199\n",
       "14.0     220\n",
       "15.0    1319\n",
       "16.0     591\n",
       "17.0     569\n",
       "18.0    1068\n",
       "19.0     236\n",
       "20.0     308\n",
       "Name: Converted, dtype: int64"
      ]
     },
     "execution_count": 1144,
     "metadata": {},
     "output_type": "execute_result"
    }
   ],
   "source": [
    "import math\n",
    "def imputeMissingASPScorenValue(value):\n",
    "    if(math.isnan(value)):\n",
    "        return 0\n",
    "    else:\n",
    "        return value\n",
    "\n",
    "leads2['Asymmetrique Profile Score']=leads2['Asymmetrique Profile Score'].apply(imputeMissingASPScorenValue)\n",
    "leads2.groupby('Asymmetrique Profile Score')['Converted'].count()\n"
   ]
  },
  {
   "cell_type": "markdown",
   "metadata": {},
   "source": [
    "### inferences\n",
    "Since the missing assymetric score has same conversion rate as of aysmmetrique score 15, We impute the msissing value with 15."
   ]
  },
  {
   "cell_type": "code",
   "execution_count": 1145,
   "metadata": {},
   "outputs": [
    {
     "data": {
      "text/plain": [
       "Asymmetrique Profile Score\n",
       "11.0       9\n",
       "12.0      22\n",
       "13.0     199\n",
       "14.0     220\n",
       "15.0    2971\n",
       "16.0     591\n",
       "17.0     569\n",
       "18.0    1068\n",
       "19.0     236\n",
       "20.0     308\n",
       "Name: Converted, dtype: int64"
      ]
     },
     "execution_count": 1145,
     "metadata": {},
     "output_type": "execute_result"
    }
   ],
   "source": [
    "\n",
    "def imputeMissingASPSValue(value):\n",
    "    if(value == 0.0):\n",
    "        return 15.0\n",
    "    else:\n",
    "        return value\n",
    "\n",
    "leads2['Asymmetrique Profile Score']=leads2['Asymmetrique Profile Score'].apply(imputeMissingASPSValue)\n",
    "leads2.groupby('Asymmetrique Profile Score')['Converted'].count()"
   ]
  },
  {
   "cell_type": "code",
   "execution_count": 1146,
   "metadata": {},
   "outputs": [
    {
     "data": {
      "text/plain": [
       "Asymmetrique Profile Index\n",
       "01.High      2181\n",
       "02.Medium    2329\n",
       "03.Low         31\n",
       "nan          1652\n",
       "Name: Converted, dtype: int64"
      ]
     },
     "execution_count": 1146,
     "metadata": {},
     "output_type": "execute_result"
    }
   ],
   "source": [
    "def imputeMissingSpecializationValue(value):\n",
    "    if(value == 'None' ):\n",
    "        return 'Other'\n",
    "    else:\n",
    "        return value\n",
    "leads2['Asymmetrique Profile Index'] = leads2['Asymmetrique Profile Index'].astype(str)\n",
    "leads2['Asymmetrique Profile Index']=leads2['Asymmetrique Profile Index'].apply(imputeMissingSpecializationValue)\n",
    "leads2.groupby('Asymmetrique Profile Index')['Converted'].count()\n"
   ]
  },
  {
   "cell_type": "code",
   "execution_count": 1147,
   "metadata": {},
   "outputs": [
    {
     "data": {
      "text/plain": [
       "Asymmetrique Profile Index\n",
       "01.High      2181\n",
       "02.Medium    3981\n",
       "03.Low         31\n",
       "Name: Converted, dtype: int64"
      ]
     },
     "execution_count": 1147,
     "metadata": {},
     "output_type": "execute_result"
    }
   ],
   "source": [
    "def imputeMissingAPIValue(value):\n",
    "    if(value == 'nan' ):\n",
    "        return '02.Medium'\n",
    "    else:\n",
    "        return value\n",
    "leads2['Asymmetrique Profile Index'] = leads2['Asymmetrique Profile Index'].astype(str)\n",
    "leads2['Asymmetrique Profile Index']=leads2['Asymmetrique Profile Index'].apply(imputeMissingAPIValue)\n",
    "leads2.groupby('Asymmetrique Profile Index')['Converted'].count()"
   ]
  },
  {
   "cell_type": "code",
   "execution_count": 1148,
   "metadata": {},
   "outputs": [
    {
     "data": {
      "text/plain": [
       "Asymmetrique Activity Index\n",
       "01.High       505\n",
       "02.Medium    3683\n",
       "03.Low        353\n",
       "nan          1652\n",
       "Name: Converted, dtype: int64"
      ]
     },
     "execution_count": 1148,
     "metadata": {},
     "output_type": "execute_result"
    }
   ],
   "source": [
    "def imputeMissingSpecializationValue(value):\n",
    "    if(value == 'None' ):\n",
    "        return 'Other'\n",
    "    else:\n",
    "        return value\n",
    "leads2['Asymmetrique Activity Index'] = leads2['Asymmetrique Activity Index'] .astype(str)\n",
    "leads2['Asymmetrique Activity Index'] =leads2['Asymmetrique Activity Index'] .apply(imputeMissingSpecializationValue)\n",
    "leads2.groupby('Asymmetrique Activity Index')['Converted'].count()"
   ]
  },
  {
   "cell_type": "code",
   "execution_count": 1149,
   "metadata": {},
   "outputs": [
    {
     "data": {
      "text/plain": [
       "Asymmetrique Activity Index\n",
       "01.High       505\n",
       "02.Medium    5335\n",
       "03.Low        353\n",
       "Name: Converted, dtype: int64"
      ]
     },
     "execution_count": 1149,
     "metadata": {},
     "output_type": "execute_result"
    }
   ],
   "source": [
    "def imputeMissingAPIValue(value):\n",
    "    if(value == 'nan' ):\n",
    "        return '02.Medium'\n",
    "    else:\n",
    "        return value\n",
    "leads2['Asymmetrique Activity Index'] = leads2['Asymmetrique Activity Index'] .astype(str)\n",
    "leads2['Asymmetrique Activity Index'] =leads2['Asymmetrique Activity Index'] .apply(imputeMissingAPIValue)\n",
    "leads2.groupby('Asymmetrique Activity Index')['Converted'].count()"
   ]
  },
  {
   "cell_type": "code",
   "execution_count": 1150,
   "metadata": {},
   "outputs": [
    {
     "data": {
      "text/plain": [
       "Prospect ID                                  0.00\n",
       "Lead Number                                  0.00\n",
       "Lead Origin                                  0.00\n",
       "Lead Source                                  0.16\n",
       "Do Not Email                                 0.00\n",
       "Do Not Call                                  0.00\n",
       "Converted                                    0.00\n",
       "TotalVisits                                  0.48\n",
       "Total Time Spent on Website                  0.00\n",
       "Page Views Per Visit                         0.48\n",
       "Last Activity                                0.29\n",
       "Country                                      0.00\n",
       "Specialization                               0.00\n",
       "What is your current occupation              0.00\n",
       "Search                                       0.00\n",
       "Magazine                                     0.00\n",
       "Newspaper Article                            0.00\n",
       "X Education Forums                           0.00\n",
       "Newspaper                                    0.00\n",
       "Digital Advertisement                        0.00\n",
       "Through Recommendations                      0.00\n",
       "Receive More Updates About Our Courses       0.00\n",
       "Tags                                        21.28\n",
       "Update me on Supply Chain Content            0.00\n",
       "Get updates on DM Content                    0.00\n",
       "Asymmetrique Activity Index                  0.00\n",
       "Asymmetrique Profile Index                   0.00\n",
       "Asymmetrique Activity Score                  0.00\n",
       "Asymmetrique Profile Score                   0.00\n",
       "I agree to pay the amount through cheque     0.00\n",
       "A free copy of Mastering The Interview       0.00\n",
       "Last Notable Activity                        0.00\n",
       "dtype: float64"
      ]
     },
     "execution_count": 1150,
     "metadata": {},
     "output_type": "execute_result"
    }
   ],
   "source": [
    "round(100*(leads2.isnull().sum()/len(leads2)), 2)"
   ]
  },
  {
   "cell_type": "code",
   "execution_count": 1151,
   "metadata": {},
   "outputs": [
    {
     "data": {
      "text/plain": [
       "Will revert after reading the email                  1696\n",
       "Ringing                                              1041\n",
       "Interested in other courses                           427\n",
       "Already a student                                     364\n",
       "Closed by Horizzon                                    253\n",
       "switched off                                          211\n",
       "Busy                                                  170\n",
       "Lost to EINS                                          134\n",
       "Not doing further education                           124\n",
       "Interested  in full time MBA                          101\n",
       "Graduation in progress                                 92\n",
       "invalid number                                         75\n",
       "Diploma holder (Not Eligible)                          47\n",
       "wrong number given                                     45\n",
       "opp hangup                                             30\n",
       "number not provided                                    23\n",
       "in touch with EINS                                     10\n",
       "Still Thinking                                          6\n",
       "Lost to Others                                          6\n",
       "In confusion whether part time or DLP                   5\n",
       "Want to take admission but has financial problems       4\n",
       "Interested in Next batch                                4\n",
       "Shall take in the next coming month                     2\n",
       "Lateral student                                         2\n",
       "University not recognized                               2\n",
       "Recognition issue (DEC approval)                        1\n",
       "Name: Tags, dtype: int64"
      ]
     },
     "execution_count": 1151,
     "metadata": {},
     "output_type": "execute_result"
    }
   ],
   "source": [
    "leads2['Tags'].value_counts()"
   ]
  },
  {
   "cell_type": "code",
   "execution_count": 1152,
   "metadata": {},
   "outputs": [
    {
     "data": {
      "text/plain": [
       "Will revert after reading the email                  1696\n",
       "Other                                                1318\n",
       "Ringing                                              1041\n",
       "Interested in other courses                           427\n",
       "Already a student                                     364\n",
       "Closed by Horizzon                                    253\n",
       "switched off                                          211\n",
       "Busy                                                  170\n",
       "Lost to EINS                                          134\n",
       "Not doing further education                           124\n",
       "Interested  in full time MBA                          101\n",
       "Graduation in progress                                 92\n",
       "invalid number                                         75\n",
       "Diploma holder (Not Eligible)                          47\n",
       "wrong number given                                     45\n",
       "opp hangup                                             30\n",
       "number not provided                                    23\n",
       "in touch with EINS                                     10\n",
       "Still Thinking                                          6\n",
       "Lost to Others                                          6\n",
       "In confusion whether part time or DLP                   5\n",
       "Want to take admission but has financial problems       4\n",
       "Interested in Next batch                                4\n",
       "Shall take in the next coming month                     2\n",
       "Lateral student                                         2\n",
       "University not recognized                               2\n",
       "Recognition issue (DEC approval)                        1\n",
       "Name: Tags, dtype: int64"
      ]
     },
     "execution_count": 1152,
     "metadata": {},
     "output_type": "execute_result"
    }
   ],
   "source": [
    "def imputeMissingTagValue(value):\n",
    "    if(value == 'nan' ):\n",
    "        return 'Other'\n",
    "    else:\n",
    "        return value\n",
    "leads2['Tags'] = leads2['Tags'].astype(str)\n",
    "leads2['Tags']=leads2['Tags'].apply(imputeMissingTagValue)\n",
    "leads2['Tags'].value_counts()"
   ]
  },
  {
   "cell_type": "code",
   "execution_count": 1153,
   "metadata": {},
   "outputs": [
    {
     "data": {
      "text/plain": [
       "Prospect ID                                 0.00\n",
       "Lead Number                                 0.00\n",
       "Lead Origin                                 0.00\n",
       "Lead Source                                 0.16\n",
       "Do Not Email                                0.00\n",
       "Do Not Call                                 0.00\n",
       "Converted                                   0.00\n",
       "TotalVisits                                 0.48\n",
       "Total Time Spent on Website                 0.00\n",
       "Page Views Per Visit                        0.48\n",
       "Last Activity                               0.29\n",
       "Country                                     0.00\n",
       "Specialization                              0.00\n",
       "What is your current occupation             0.00\n",
       "Search                                      0.00\n",
       "Magazine                                    0.00\n",
       "Newspaper Article                           0.00\n",
       "X Education Forums                          0.00\n",
       "Newspaper                                   0.00\n",
       "Digital Advertisement                       0.00\n",
       "Through Recommendations                     0.00\n",
       "Receive More Updates About Our Courses      0.00\n",
       "Tags                                        0.00\n",
       "Update me on Supply Chain Content           0.00\n",
       "Get updates on DM Content                   0.00\n",
       "Asymmetrique Activity Index                 0.00\n",
       "Asymmetrique Profile Index                  0.00\n",
       "Asymmetrique Activity Score                 0.00\n",
       "Asymmetrique Profile Score                  0.00\n",
       "I agree to pay the amount through cheque    0.00\n",
       "A free copy of Mastering The Interview      0.00\n",
       "Last Notable Activity                       0.00\n",
       "dtype: float64"
      ]
     },
     "execution_count": 1153,
     "metadata": {},
     "output_type": "execute_result"
    }
   ],
   "source": [
    "round(100*(leads2.isnull().sum()/len(leads2)), 2)"
   ]
  },
  {
   "cell_type": "code",
   "execution_count": 1154,
   "metadata": {},
   "outputs": [
    {
     "data": {
      "text/plain": [
       "Prospect ID                                 0.0\n",
       "Lead Number                                 0.0\n",
       "Lead Origin                                 0.0\n",
       "Lead Source                                 0.0\n",
       "Do Not Email                                0.0\n",
       "Do Not Call                                 0.0\n",
       "Converted                                   0.0\n",
       "TotalVisits                                 0.0\n",
       "Total Time Spent on Website                 0.0\n",
       "Page Views Per Visit                        0.0\n",
       "Last Activity                               0.0\n",
       "Country                                     0.0\n",
       "Specialization                              0.0\n",
       "What is your current occupation             0.0\n",
       "Search                                      0.0\n",
       "Magazine                                    0.0\n",
       "Newspaper Article                           0.0\n",
       "X Education Forums                          0.0\n",
       "Newspaper                                   0.0\n",
       "Digital Advertisement                       0.0\n",
       "Through Recommendations                     0.0\n",
       "Receive More Updates About Our Courses      0.0\n",
       "Tags                                        0.0\n",
       "Update me on Supply Chain Content           0.0\n",
       "Get updates on DM Content                   0.0\n",
       "Asymmetrique Activity Index                 0.0\n",
       "Asymmetrique Profile Index                  0.0\n",
       "Asymmetrique Activity Score                 0.0\n",
       "Asymmetrique Profile Score                  0.0\n",
       "I agree to pay the amount through cheque    0.0\n",
       "A free copy of Mastering The Interview      0.0\n",
       "Last Notable Activity                       0.0\n",
       "dtype: float64"
      ]
     },
     "execution_count": 1154,
     "metadata": {},
     "output_type": "execute_result"
    }
   ],
   "source": [
    "leads2= leads2[leads2.isnull().sum(axis=1) <1]\n",
    "round(100*(leads2.isnull().sum()/len(leads2)), 2)"
   ]
  },
  {
   "cell_type": "code",
   "execution_count": 1155,
   "metadata": {},
   "outputs": [
    {
     "data": {
      "text/plain": [
       "(6153, 32)"
      ]
     },
     "execution_count": 1155,
     "metadata": {},
     "output_type": "execute_result"
    }
   ],
   "source": [
    "leads2.shape"
   ]
  },
  {
   "cell_type": "code",
   "execution_count": 1156,
   "metadata": {},
   "outputs": [],
   "source": [
    "from sklearn.preprocessing import LabelEncoder\n",
    "le =LabelEncoder()\n",
    "values= ['Lead Origin','Lead Source','Do Not Email','Do Not Call','Last Activity','Country','Specialization','What is your current occupation','Search','Magazine','Newspaper Article','X Education Forums','Newspaper','Digital Advertisement','Through Recommendations','Receive More Updates About Our Courses','Tags','Update me on Supply Chain Content','Get updates on DM Content','Asymmetrique Activity Index','Asymmetrique Profile Index','I agree to pay the amount through cheque','A free copy of Mastering The Interview','Last Notable Activity']\n",
    "for column in values:\n",
    "    leads2[column] = le.fit_transform(leads2[column])"
   ]
  },
  {
   "cell_type": "code",
   "execution_count": 1157,
   "metadata": {},
   "outputs": [
    {
     "data": {
      "text/html": [
       "<div>\n",
       "<style scoped>\n",
       "    .dataframe tbody tr th:only-of-type {\n",
       "        vertical-align: middle;\n",
       "    }\n",
       "\n",
       "    .dataframe tbody tr th {\n",
       "        vertical-align: top;\n",
       "    }\n",
       "\n",
       "    .dataframe thead th {\n",
       "        text-align: right;\n",
       "    }\n",
       "</style>\n",
       "<table border=\"1\" class=\"dataframe\">\n",
       "  <thead>\n",
       "    <tr style=\"text-align: right;\">\n",
       "      <th></th>\n",
       "      <th>Prospect ID</th>\n",
       "      <th>Lead Number</th>\n",
       "      <th>Lead Origin</th>\n",
       "      <th>Lead Source</th>\n",
       "      <th>Do Not Email</th>\n",
       "      <th>Do Not Call</th>\n",
       "      <th>Converted</th>\n",
       "      <th>TotalVisits</th>\n",
       "      <th>Total Time Spent on Website</th>\n",
       "      <th>Page Views Per Visit</th>\n",
       "      <th>...</th>\n",
       "      <th>Tags</th>\n",
       "      <th>Update me on Supply Chain Content</th>\n",
       "      <th>Get updates on DM Content</th>\n",
       "      <th>Asymmetrique Activity Index</th>\n",
       "      <th>Asymmetrique Profile Index</th>\n",
       "      <th>Asymmetrique Activity Score</th>\n",
       "      <th>Asymmetrique Profile Score</th>\n",
       "      <th>I agree to pay the amount through cheque</th>\n",
       "      <th>A free copy of Mastering The Interview</th>\n",
       "      <th>Last Notable Activity</th>\n",
       "    </tr>\n",
       "  </thead>\n",
       "  <tbody>\n",
       "    <tr>\n",
       "      <th>0</th>\n",
       "      <td>7927b2df-8bba-4d29-b9a2-b6e0beafe620</td>\n",
       "      <td>660737</td>\n",
       "      <td>0</td>\n",
       "      <td>6</td>\n",
       "      <td>0</td>\n",
       "      <td>0</td>\n",
       "      <td>0</td>\n",
       "      <td>0.0</td>\n",
       "      <td>0</td>\n",
       "      <td>0.0</td>\n",
       "      <td>...</td>\n",
       "      <td>8</td>\n",
       "      <td>0</td>\n",
       "      <td>0</td>\n",
       "      <td>1</td>\n",
       "      <td>1</td>\n",
       "      <td>15.0</td>\n",
       "      <td>15.0</td>\n",
       "      <td>0</td>\n",
       "      <td>0</td>\n",
       "      <td>7</td>\n",
       "    </tr>\n",
       "    <tr>\n",
       "      <th>1</th>\n",
       "      <td>2a272436-5132-4136-86fa-dcc88c88f482</td>\n",
       "      <td>660728</td>\n",
       "      <td>0</td>\n",
       "      <td>7</td>\n",
       "      <td>0</td>\n",
       "      <td>0</td>\n",
       "      <td>0</td>\n",
       "      <td>5.0</td>\n",
       "      <td>674</td>\n",
       "      <td>2.5</td>\n",
       "      <td>...</td>\n",
       "      <td>15</td>\n",
       "      <td>0</td>\n",
       "      <td>0</td>\n",
       "      <td>1</td>\n",
       "      <td>1</td>\n",
       "      <td>15.0</td>\n",
       "      <td>15.0</td>\n",
       "      <td>0</td>\n",
       "      <td>0</td>\n",
       "      <td>4</td>\n",
       "    </tr>\n",
       "    <tr>\n",
       "      <th>2</th>\n",
       "      <td>8cc8c611-a219-4f35-ad23-fdfd2656bd8a</td>\n",
       "      <td>660727</td>\n",
       "      <td>1</td>\n",
       "      <td>1</td>\n",
       "      <td>0</td>\n",
       "      <td>0</td>\n",
       "      <td>1</td>\n",
       "      <td>2.0</td>\n",
       "      <td>1532</td>\n",
       "      <td>2.0</td>\n",
       "      <td>...</td>\n",
       "      <td>20</td>\n",
       "      <td>0</td>\n",
       "      <td>0</td>\n",
       "      <td>1</td>\n",
       "      <td>0</td>\n",
       "      <td>14.0</td>\n",
       "      <td>20.0</td>\n",
       "      <td>0</td>\n",
       "      <td>1</td>\n",
       "      <td>4</td>\n",
       "    </tr>\n",
       "    <tr>\n",
       "      <th>3</th>\n",
       "      <td>0cc2df48-7cf4-4e39-9de9-19797f9b38cc</td>\n",
       "      <td>660719</td>\n",
       "      <td>1</td>\n",
       "      <td>1</td>\n",
       "      <td>0</td>\n",
       "      <td>0</td>\n",
       "      <td>0</td>\n",
       "      <td>1.0</td>\n",
       "      <td>305</td>\n",
       "      <td>1.0</td>\n",
       "      <td>...</td>\n",
       "      <td>15</td>\n",
       "      <td>0</td>\n",
       "      <td>0</td>\n",
       "      <td>1</td>\n",
       "      <td>0</td>\n",
       "      <td>13.0</td>\n",
       "      <td>17.0</td>\n",
       "      <td>0</td>\n",
       "      <td>0</td>\n",
       "      <td>7</td>\n",
       "    </tr>\n",
       "    <tr>\n",
       "      <th>4</th>\n",
       "      <td>3256f628-e534-4826-9d63-4a8b88782852</td>\n",
       "      <td>660681</td>\n",
       "      <td>1</td>\n",
       "      <td>3</td>\n",
       "      <td>0</td>\n",
       "      <td>0</td>\n",
       "      <td>1</td>\n",
       "      <td>2.0</td>\n",
       "      <td>1428</td>\n",
       "      <td>1.0</td>\n",
       "      <td>...</td>\n",
       "      <td>20</td>\n",
       "      <td>0</td>\n",
       "      <td>0</td>\n",
       "      <td>1</td>\n",
       "      <td>0</td>\n",
       "      <td>15.0</td>\n",
       "      <td>18.0</td>\n",
       "      <td>0</td>\n",
       "      <td>0</td>\n",
       "      <td>7</td>\n",
       "    </tr>\n",
       "  </tbody>\n",
       "</table>\n",
       "<p>5 rows × 32 columns</p>\n",
       "</div>"
      ],
      "text/plain": [
       "                            Prospect ID  Lead Number  Lead Origin  \\\n",
       "0  7927b2df-8bba-4d29-b9a2-b6e0beafe620       660737            0   \n",
       "1  2a272436-5132-4136-86fa-dcc88c88f482       660728            0   \n",
       "2  8cc8c611-a219-4f35-ad23-fdfd2656bd8a       660727            1   \n",
       "3  0cc2df48-7cf4-4e39-9de9-19797f9b38cc       660719            1   \n",
       "4  3256f628-e534-4826-9d63-4a8b88782852       660681            1   \n",
       "\n",
       "   Lead Source  Do Not Email  Do Not Call  Converted  TotalVisits  \\\n",
       "0            6             0            0          0          0.0   \n",
       "1            7             0            0          0          5.0   \n",
       "2            1             0            0          1          2.0   \n",
       "3            1             0            0          0          1.0   \n",
       "4            3             0            0          1          2.0   \n",
       "\n",
       "   Total Time Spent on Website  Page Views Per Visit  ...  Tags  \\\n",
       "0                            0                   0.0  ...     8   \n",
       "1                          674                   2.5  ...    15   \n",
       "2                         1532                   2.0  ...    20   \n",
       "3                          305                   1.0  ...    15   \n",
       "4                         1428                   1.0  ...    20   \n",
       "\n",
       "   Update me on Supply Chain Content  Get updates on DM Content  \\\n",
       "0                                  0                          0   \n",
       "1                                  0                          0   \n",
       "2                                  0                          0   \n",
       "3                                  0                          0   \n",
       "4                                  0                          0   \n",
       "\n",
       "   Asymmetrique Activity Index  Asymmetrique Profile Index  \\\n",
       "0                            1                           1   \n",
       "1                            1                           1   \n",
       "2                            1                           0   \n",
       "3                            1                           0   \n",
       "4                            1                           0   \n",
       "\n",
       "   Asymmetrique Activity Score  Asymmetrique Profile Score  \\\n",
       "0                         15.0                        15.0   \n",
       "1                         15.0                        15.0   \n",
       "2                         14.0                        20.0   \n",
       "3                         13.0                        17.0   \n",
       "4                         15.0                        18.0   \n",
       "\n",
       "   I agree to pay the amount through cheque  \\\n",
       "0                                         0   \n",
       "1                                         0   \n",
       "2                                         0   \n",
       "3                                         0   \n",
       "4                                         0   \n",
       "\n",
       "   A free copy of Mastering The Interview  Last Notable Activity  \n",
       "0                                       0                      7  \n",
       "1                                       0                      4  \n",
       "2                                       1                      4  \n",
       "3                                       0                      7  \n",
       "4                                       0                      7  \n",
       "\n",
       "[5 rows x 32 columns]"
      ]
     },
     "execution_count": 1157,
     "metadata": {},
     "output_type": "execute_result"
    }
   ],
   "source": [
    "leads2.head()"
   ]
  },
  {
   "cell_type": "code",
   "execution_count": 1158,
   "metadata": {},
   "outputs": [
    {
     "data": {
      "text/plain": [
       "(6153, 32)"
      ]
     },
     "execution_count": 1158,
     "metadata": {},
     "output_type": "execute_result"
    }
   ],
   "source": [
    "leads2.shape"
   ]
  },
  {
   "cell_type": "code",
   "execution_count": 1159,
   "metadata": {},
   "outputs": [],
   "source": [
    "from sklearn.model_selection import train_test_split"
   ]
  },
  {
   "cell_type": "code",
   "execution_count": 1160,
   "metadata": {},
   "outputs": [
    {
     "data": {
      "image/png": "[encoded data removed]",
      "text/plain": [
       "<Figure size 1440x1440 with 2 Axes>"
      ]
     },
     "metadata": {
      "needs_background": "light"
     },
     "output_type": "display_data"
    }
   ],
   "source": [
    "# Let's see the correlation matrix \n",
    "plt.figure(figsize = (20,20))        # Size of the figure\n",
    "sns.heatmap(leads2.corr(),annot = True)\n",
    "plt.show()"
   ]
  },
  {
   "cell_type": "code",
   "execution_count": 1161,
   "metadata": {},
   "outputs": [],
   "source": [
    "# Dropping the highly correlated values\n",
    "leads2 = leads2.drop(['Magazine','Newspaper','Receive More Updates About Our Courses','Update me on Supply Chain Content',\n",
    "                       'Get updates on DM Content','I agree to pay the amount through cheque','X Education Forums','Asymmetrique Activity Index','Asymmetrique Profile Index'], 1)"
   ]
  },
  {
   "cell_type": "code",
   "execution_count": 1162,
   "metadata": {},
   "outputs": [
    {
     "data": {
      "image/png": "[encoded data removed]",
      "text/plain": [
       "<Figure size 1440x1440 with 2 Axes>"
      ]
     },
     "metadata": {
      "needs_background": "light"
     },
     "output_type": "display_data"
    }
   ],
   "source": [
    "# Let's see the correlation matrix \n",
    "plt.figure(figsize = (20,20))        # Size of the figure\n",
    "sns.heatmap(leads2.corr(),annot = True)\n",
    "plt.show()"
   ]
  },
  {
   "cell_type": "code",
   "execution_count": 1163,
   "metadata": {},
   "outputs": [
    {
     "data": {
      "text/html": [
       "<div>\n",
       "<style scoped>\n",
       "    .dataframe tbody tr th:only-of-type {\n",
       "        vertical-align: middle;\n",
       "    }\n",
       "\n",
       "    .dataframe tbody tr th {\n",
       "        vertical-align: top;\n",
       "    }\n",
       "\n",
       "    .dataframe thead th {\n",
       "        text-align: right;\n",
       "    }\n",
       "</style>\n",
       "<table border=\"1\" class=\"dataframe\">\n",
       "  <thead>\n",
       "    <tr style=\"text-align: right;\">\n",
       "      <th></th>\n",
       "      <th>Lead Origin</th>\n",
       "      <th>Lead Source</th>\n",
       "      <th>Do Not Email</th>\n",
       "      <th>Do Not Call</th>\n",
       "      <th>TotalVisits</th>\n",
       "      <th>Total Time Spent on Website</th>\n",
       "      <th>Page Views Per Visit</th>\n",
       "      <th>Last Activity</th>\n",
       "      <th>Country</th>\n",
       "      <th>Specialization</th>\n",
       "      <th>What is your current occupation</th>\n",
       "      <th>Search</th>\n",
       "      <th>Newspaper Article</th>\n",
       "      <th>Digital Advertisement</th>\n",
       "      <th>Through Recommendations</th>\n",
       "      <th>Tags</th>\n",
       "      <th>Asymmetrique Activity Score</th>\n",
       "      <th>Asymmetrique Profile Score</th>\n",
       "      <th>A free copy of Mastering The Interview</th>\n",
       "      <th>Last Notable Activity</th>\n",
       "    </tr>\n",
       "  </thead>\n",
       "  <tbody>\n",
       "    <tr>\n",
       "      <th>0</th>\n",
       "      <td>0</td>\n",
       "      <td>6</td>\n",
       "      <td>0</td>\n",
       "      <td>0</td>\n",
       "      <td>0.0</td>\n",
       "      <td>0</td>\n",
       "      <td>0.0</td>\n",
       "      <td>10</td>\n",
       "      <td>12</td>\n",
       "      <td>13</td>\n",
       "      <td>4</td>\n",
       "      <td>0</td>\n",
       "      <td>0</td>\n",
       "      <td>0</td>\n",
       "      <td>0</td>\n",
       "      <td>8</td>\n",
       "      <td>15.0</td>\n",
       "      <td>15.0</td>\n",
       "      <td>0</td>\n",
       "      <td>7</td>\n",
       "    </tr>\n",
       "    <tr>\n",
       "      <th>1</th>\n",
       "      <td>0</td>\n",
       "      <td>7</td>\n",
       "      <td>0</td>\n",
       "      <td>0</td>\n",
       "      <td>5.0</td>\n",
       "      <td>674</td>\n",
       "      <td>2.5</td>\n",
       "      <td>5</td>\n",
       "      <td>12</td>\n",
       "      <td>13</td>\n",
       "      <td>4</td>\n",
       "      <td>0</td>\n",
       "      <td>0</td>\n",
       "      <td>0</td>\n",
       "      <td>0</td>\n",
       "      <td>15</td>\n",
       "      <td>15.0</td>\n",
       "      <td>15.0</td>\n",
       "      <td>0</td>\n",
       "      <td>4</td>\n",
       "    </tr>\n",
       "    <tr>\n",
       "      <th>2</th>\n",
       "      <td>1</td>\n",
       "      <td>1</td>\n",
       "      <td>0</td>\n",
       "      <td>0</td>\n",
       "      <td>2.0</td>\n",
       "      <td>1532</td>\n",
       "      <td>2.0</td>\n",
       "      <td>5</td>\n",
       "      <td>12</td>\n",
       "      <td>1</td>\n",
       "      <td>3</td>\n",
       "      <td>0</td>\n",
       "      <td>0</td>\n",
       "      <td>0</td>\n",
       "      <td>0</td>\n",
       "      <td>20</td>\n",
       "      <td>14.0</td>\n",
       "      <td>20.0</td>\n",
       "      <td>1</td>\n",
       "      <td>4</td>\n",
       "    </tr>\n",
       "    <tr>\n",
       "      <th>3</th>\n",
       "      <td>1</td>\n",
       "      <td>1</td>\n",
       "      <td>0</td>\n",
       "      <td>0</td>\n",
       "      <td>1.0</td>\n",
       "      <td>305</td>\n",
       "      <td>1.0</td>\n",
       "      <td>12</td>\n",
       "      <td>12</td>\n",
       "      <td>11</td>\n",
       "      <td>4</td>\n",
       "      <td>0</td>\n",
       "      <td>0</td>\n",
       "      <td>0</td>\n",
       "      <td>0</td>\n",
       "      <td>15</td>\n",
       "      <td>13.0</td>\n",
       "      <td>17.0</td>\n",
       "      <td>0</td>\n",
       "      <td>7</td>\n",
       "    </tr>\n",
       "    <tr>\n",
       "      <th>4</th>\n",
       "      <td>1</td>\n",
       "      <td>3</td>\n",
       "      <td>0</td>\n",
       "      <td>0</td>\n",
       "      <td>2.0</td>\n",
       "      <td>1428</td>\n",
       "      <td>1.0</td>\n",
       "      <td>1</td>\n",
       "      <td>12</td>\n",
       "      <td>13</td>\n",
       "      <td>4</td>\n",
       "      <td>0</td>\n",
       "      <td>0</td>\n",
       "      <td>0</td>\n",
       "      <td>0</td>\n",
       "      <td>20</td>\n",
       "      <td>15.0</td>\n",
       "      <td>18.0</td>\n",
       "      <td>0</td>\n",
       "      <td>7</td>\n",
       "    </tr>\n",
       "  </tbody>\n",
       "</table>\n",
       "</div>"
      ],
      "text/plain": [
       "   Lead Origin  Lead Source  Do Not Email  Do Not Call  TotalVisits  \\\n",
       "0            0            6             0            0          0.0   \n",
       "1            0            7             0            0          5.0   \n",
       "2            1            1             0            0          2.0   \n",
       "3            1            1             0            0          1.0   \n",
       "4            1            3             0            0          2.0   \n",
       "\n",
       "   Total Time Spent on Website  Page Views Per Visit  Last Activity  Country  \\\n",
       "0                            0                   0.0             10       12   \n",
       "1                          674                   2.5              5       12   \n",
       "2                         1532                   2.0              5       12   \n",
       "3                          305                   1.0             12       12   \n",
       "4                         1428                   1.0              1       12   \n",
       "\n",
       "   Specialization  What is your current occupation  Search  Newspaper Article  \\\n",
       "0              13                                4       0                  0   \n",
       "1              13                                4       0                  0   \n",
       "2               1                                3       0                  0   \n",
       "3              11                                4       0                  0   \n",
       "4              13                                4       0                  0   \n",
       "\n",
       "   Digital Advertisement  Through Recommendations  Tags  \\\n",
       "0                      0                        0     8   \n",
       "1                      0                        0    15   \n",
       "2                      0                        0    20   \n",
       "3                      0                        0    15   \n",
       "4                      0                        0    20   \n",
       "\n",
       "   Asymmetrique Activity Score  Asymmetrique Profile Score  \\\n",
       "0                         15.0                        15.0   \n",
       "1                         15.0                        15.0   \n",
       "2                         14.0                        20.0   \n",
       "3                         13.0                        17.0   \n",
       "4                         15.0                        18.0   \n",
       "\n",
       "   A free copy of Mastering The Interview  Last Notable Activity  \n",
       "0                                       0                      7  \n",
       "1                                       0                      4  \n",
       "2                                       1                      4  \n",
       "3                                       0                      7  \n",
       "4                                       0                      7  "
      ]
     },
     "execution_count": 1163,
     "metadata": {},
     "output_type": "execute_result"
    }
   ],
   "source": [
    "# Putting feature variable to X\n",
    "X = leads2.drop(['Prospect ID','Lead Number','Converted'], axis=1)\n",
    "\n",
    "X.head()"
   ]
  },
  {
   "cell_type": "code",
   "execution_count": 1164,
   "metadata": {},
   "outputs": [
    {
     "data": {
      "text/plain": [
       "0    0\n",
       "1    0\n",
       "2    1\n",
       "3    0\n",
       "4    1\n",
       "Name: Converted, dtype: int64"
      ]
     },
     "execution_count": 1164,
     "metadata": {},
     "output_type": "execute_result"
    }
   ],
   "source": [
    "# Putting response variable to y\n",
    "y = leads2['Converted']\n",
    "\n",
    "y.head()"
   ]
  },
  {
   "cell_type": "code",
   "execution_count": 1165,
   "metadata": {},
   "outputs": [],
   "source": [
    "# Splitting the data into train and test\n",
    "X_train, X_test, y_train, y_test = train_test_split(X, y, train_size=0.7, test_size=0.3, random_state=100)"
   ]
  },
  {
   "cell_type": "code",
   "execution_count": 1166,
   "metadata": {},
   "outputs": [],
   "source": [
    "from sklearn.preprocessing import StandardScaler"
   ]
  },
  {
   "cell_type": "code",
   "execution_count": 1167,
   "metadata": {},
   "outputs": [
    {
     "data": {
      "text/html": [
       "<div>\n",
       "<style scoped>\n",
       "    .dataframe tbody tr th:only-of-type {\n",
       "        vertical-align: middle;\n",
       "    }\n",
       "\n",
       "    .dataframe tbody tr th {\n",
       "        vertical-align: top;\n",
       "    }\n",
       "\n",
       "    .dataframe thead th {\n",
       "        text-align: right;\n",
       "    }\n",
       "</style>\n",
       "<table border=\"1\" class=\"dataframe\">\n",
       "  <thead>\n",
       "    <tr style=\"text-align: right;\">\n",
       "      <th></th>\n",
       "      <th>Lead Origin</th>\n",
       "      <th>Lead Source</th>\n",
       "      <th>Do Not Email</th>\n",
       "      <th>Do Not Call</th>\n",
       "      <th>TotalVisits</th>\n",
       "      <th>Total Time Spent on Website</th>\n",
       "      <th>Page Views Per Visit</th>\n",
       "      <th>Last Activity</th>\n",
       "      <th>Country</th>\n",
       "      <th>Specialization</th>\n",
       "      <th>What is your current occupation</th>\n",
       "      <th>Search</th>\n",
       "      <th>Newspaper Article</th>\n",
       "      <th>Digital Advertisement</th>\n",
       "      <th>Through Recommendations</th>\n",
       "      <th>Tags</th>\n",
       "      <th>Asymmetrique Activity Score</th>\n",
       "      <th>Asymmetrique Profile Score</th>\n",
       "      <th>A free copy of Mastering The Interview</th>\n",
       "      <th>Last Notable Activity</th>\n",
       "    </tr>\n",
       "  </thead>\n",
       "  <tbody>\n",
       "    <tr>\n",
       "      <th>8050</th>\n",
       "      <td>1</td>\n",
       "      <td>7</td>\n",
       "      <td>0</td>\n",
       "      <td>0</td>\n",
       "      <td>0.878443</td>\n",
       "      <td>0.741154</td>\n",
       "      <td>2.803892</td>\n",
       "      <td>11</td>\n",
       "      <td>12</td>\n",
       "      <td>11</td>\n",
       "      <td>4</td>\n",
       "      <td>0</td>\n",
       "      <td>0</td>\n",
       "      <td>0</td>\n",
       "      <td>0</td>\n",
       "      <td>20</td>\n",
       "      <td>0.815620</td>\n",
       "      <td>0.556753</td>\n",
       "      <td>1</td>\n",
       "      <td>10</td>\n",
       "    </tr>\n",
       "    <tr>\n",
       "      <th>4317</th>\n",
       "      <td>1</td>\n",
       "      <td>1</td>\n",
       "      <td>0</td>\n",
       "      <td>0</td>\n",
       "      <td>-0.197115</td>\n",
       "      <td>-0.805207</td>\n",
       "      <td>0.073989</td>\n",
       "      <td>5</td>\n",
       "      <td>12</td>\n",
       "      <td>10</td>\n",
       "      <td>4</td>\n",
       "      <td>0</td>\n",
       "      <td>0</td>\n",
       "      <td>0</td>\n",
       "      <td>0</td>\n",
       "      <td>20</td>\n",
       "      <td>-0.098239</td>\n",
       "      <td>-0.630638</td>\n",
       "      <td>1</td>\n",
       "      <td>4</td>\n",
       "    </tr>\n",
       "    <tr>\n",
       "      <th>580</th>\n",
       "      <td>1</td>\n",
       "      <td>3</td>\n",
       "      <td>0</td>\n",
       "      <td>0</td>\n",
       "      <td>0.340664</td>\n",
       "      <td>0.932197</td>\n",
       "      <td>0.073989</td>\n",
       "      <td>10</td>\n",
       "      <td>12</td>\n",
       "      <td>4</td>\n",
       "      <td>4</td>\n",
       "      <td>0</td>\n",
       "      <td>0</td>\n",
       "      <td>0</td>\n",
       "      <td>0</td>\n",
       "      <td>13</td>\n",
       "      <td>0.815620</td>\n",
       "      <td>1.150449</td>\n",
       "      <td>0</td>\n",
       "      <td>9</td>\n",
       "    </tr>\n",
       "    <tr>\n",
       "      <th>846</th>\n",
       "      <td>2</td>\n",
       "      <td>10</td>\n",
       "      <td>0</td>\n",
       "      <td>0</td>\n",
       "      <td>-0.734894</td>\n",
       "      <td>-1.035900</td>\n",
       "      <td>-1.290963</td>\n",
       "      <td>5</td>\n",
       "      <td>12</td>\n",
       "      <td>4</td>\n",
       "      <td>4</td>\n",
       "      <td>0</td>\n",
       "      <td>0</td>\n",
       "      <td>0</td>\n",
       "      <td>0</td>\n",
       "      <td>20</td>\n",
       "      <td>0.815620</td>\n",
       "      <td>1.744145</td>\n",
       "      <td>0</td>\n",
       "      <td>4</td>\n",
       "    </tr>\n",
       "    <tr>\n",
       "      <th>2348</th>\n",
       "      <td>0</td>\n",
       "      <td>3</td>\n",
       "      <td>0</td>\n",
       "      <td>0</td>\n",
       "      <td>-0.197115</td>\n",
       "      <td>-0.241092</td>\n",
       "      <td>0.073989</td>\n",
       "      <td>5</td>\n",
       "      <td>12</td>\n",
       "      <td>19</td>\n",
       "      <td>2</td>\n",
       "      <td>0</td>\n",
       "      <td>0</td>\n",
       "      <td>0</td>\n",
       "      <td>0</td>\n",
       "      <td>13</td>\n",
       "      <td>-0.098239</td>\n",
       "      <td>-0.630638</td>\n",
       "      <td>0</td>\n",
       "      <td>7</td>\n",
       "    </tr>\n",
       "  </tbody>\n",
       "</table>\n",
       "</div>"
      ],
      "text/plain": [
       "      Lead Origin  Lead Source  Do Not Email  Do Not Call  TotalVisits  \\\n",
       "8050            1            7             0            0     0.878443   \n",
       "4317            1            1             0            0    -0.197115   \n",
       "580             1            3             0            0     0.340664   \n",
       "846             2           10             0            0    -0.734894   \n",
       "2348            0            3             0            0    -0.197115   \n",
       "\n",
       "      Total Time Spent on Website  Page Views Per Visit  Last Activity  \\\n",
       "8050                     0.741154              2.803892             11   \n",
       "4317                    -0.805207              0.073989              5   \n",
       "580                      0.932197              0.073989             10   \n",
       "846                     -1.035900             -1.290963              5   \n",
       "2348                    -0.241092              0.073989              5   \n",
       "\n",
       "      Country  Specialization  What is your current occupation  Search  \\\n",
       "8050       12              11                                4       0   \n",
       "4317       12              10                                4       0   \n",
       "580        12               4                                4       0   \n",
       "846        12               4                                4       0   \n",
       "2348       12              19                                2       0   \n",
       "\n",
       "      Newspaper Article  Digital Advertisement  Through Recommendations  Tags  \\\n",
       "8050                  0                      0                        0    20   \n",
       "4317                  0                      0                        0    20   \n",
       "580                   0                      0                        0    13   \n",
       "846                   0                      0                        0    20   \n",
       "2348                  0                      0                        0    13   \n",
       "\n",
       "      Asymmetrique Activity Score  Asymmetrique Profile Score  \\\n",
       "8050                     0.815620                    0.556753   \n",
       "4317                    -0.098239                   -0.630638   \n",
       "580                      0.815620                    1.150449   \n",
       "846                      0.815620                    1.744145   \n",
       "2348                    -0.098239                   -0.630638   \n",
       "\n",
       "      A free copy of Mastering The Interview  Last Notable Activity  \n",
       "8050                                       1                     10  \n",
       "4317                                       1                      4  \n",
       "580                                        0                      9  \n",
       "846                                        0                      4  \n",
       "2348                                       0                      7  "
      ]
     },
     "execution_count": 1167,
     "metadata": {},
     "output_type": "execute_result"
    }
   ],
   "source": [
    "scaler = StandardScaler()\n",
    "\n",
    "X_train[['TotalVisits','Total Time Spent on Website','Page Views Per Visit','Asymmetrique Activity Score','Asymmetrique Profile Score']] = scaler.fit_transform(X_train[['TotalVisits','Total Time Spent on Website','Page Views Per Visit','Asymmetrique Activity Score','Asymmetrique Profile Score']])\n",
    "\n",
    "X_train.head()"
   ]
  },
  {
   "cell_type": "code",
   "execution_count": 1168,
   "metadata": {},
   "outputs": [
    {
     "data": {
      "text/plain": [
       "41.053144807411016"
      ]
     },
     "execution_count": 1168,
     "metadata": {},
     "output_type": "execute_result"
    }
   ],
   "source": [
    "### Checking the Converted Rate\n",
    "converted = (sum(leads2['Converted'])/len(leads2['Converted'].index))*100\n",
    "converted"
   ]
  },
  {
   "cell_type": "code",
   "execution_count": 1169,
   "metadata": {},
   "outputs": [],
   "source": [
    "import statsmodels.api as sm"
   ]
  },
  {
   "cell_type": "code",
   "execution_count": 1170,
   "metadata": {},
   "outputs": [
    {
     "data": {
      "text/html": [
       "<table class=\"simpletable\">\n",
       "<caption>Generalized Linear Model Regression Results</caption>\n",
       "<tr>\n",
       "  <th>Dep. Variable:</th>      <td>Converted</td>    <th>  No. Observations:  </th>  <td>  4307</td>  \n",
       "</tr>\n",
       "<tr>\n",
       "  <th>Model:</th>                 <td>GLM</td>       <th>  Df Residuals:      </th>  <td>  4287</td>  \n",
       "</tr>\n",
       "<tr>\n",
       "  <th>Model Family:</th>       <td>Binomial</td>     <th>  Df Model:          </th>  <td>    19</td>  \n",
       "</tr>\n",
       "<tr>\n",
       "  <th>Link Function:</th>        <td>logit</td>      <th>  Scale:             </th> <td>  1.0000</td> \n",
       "</tr>\n",
       "<tr>\n",
       "  <th>Method:</th>               <td>IRLS</td>       <th>  Log-Likelihood:    </th> <td> -1850.8</td> \n",
       "</tr>\n",
       "<tr>\n",
       "  <th>Date:</th>           <td>Mon, 07 Oct 2019</td> <th>  Deviance:          </th> <td>  3701.6</td> \n",
       "</tr>\n",
       "<tr>\n",
       "  <th>Time:</th>               <td>04:46:42</td>     <th>  Pearson chi2:      </th> <td>4.81e+03</td> \n",
       "</tr>\n",
       "<tr>\n",
       "  <th>No. Iterations:</th>        <td>20</td>        <th>  Covariance Type:   </th> <td>nonrobust</td>\n",
       "</tr>\n",
       "</table>\n",
       "<table class=\"simpletable\">\n",
       "<tr>\n",
       "                     <td></td>                       <th>coef</th>     <th>std err</th>      <th>z</th>      <th>P>|z|</th>  <th>[0.025</th>    <th>0.975]</th>  \n",
       "</tr>\n",
       "<tr>\n",
       "  <th>const</th>                                  <td>   -6.4917</td> <td>    0.342</td> <td>  -18.979</td> <td> 0.000</td> <td>   -7.162</td> <td>   -5.821</td>\n",
       "</tr>\n",
       "<tr>\n",
       "  <th>Lead Origin</th>                            <td>    0.4438</td> <td>    0.087</td> <td>    5.105</td> <td> 0.000</td> <td>    0.273</td> <td>    0.614</td>\n",
       "</tr>\n",
       "<tr>\n",
       "  <th>Lead Source</th>                            <td>    0.1504</td> <td>    0.016</td> <td>    9.493</td> <td> 0.000</td> <td>    0.119</td> <td>    0.181</td>\n",
       "</tr>\n",
       "<tr>\n",
       "  <th>Do Not Email</th>                           <td>   -1.5536</td> <td>    0.195</td> <td>   -7.956</td> <td> 0.000</td> <td>   -1.936</td> <td>   -1.171</td>\n",
       "</tr>\n",
       "<tr>\n",
       "  <th>Do Not Call</th>                            <td>   19.6571</td> <td> 2.01e+04</td> <td>    0.001</td> <td> 0.999</td> <td>-3.95e+04</td> <td> 3.95e+04</td>\n",
       "</tr>\n",
       "<tr>\n",
       "  <th>TotalVisits</th>                            <td>    0.1014</td> <td>    0.049</td> <td>    2.074</td> <td> 0.038</td> <td>    0.006</td> <td>    0.197</td>\n",
       "</tr>\n",
       "<tr>\n",
       "  <th>Total Time Spent on Website</th>            <td>    1.0641</td> <td>    0.046</td> <td>   23.109</td> <td> 0.000</td> <td>    0.974</td> <td>    1.154</td>\n",
       "</tr>\n",
       "<tr>\n",
       "  <th>Page Views Per Visit</th>                   <td>   -0.4048</td> <td>    0.051</td> <td>   -7.871</td> <td> 0.000</td> <td>   -0.506</td> <td>   -0.304</td>\n",
       "</tr>\n",
       "<tr>\n",
       "  <th>Last Activity</th>                          <td>    0.0832</td> <td>    0.019</td> <td>    4.305</td> <td> 0.000</td> <td>    0.045</td> <td>    0.121</td>\n",
       "</tr>\n",
       "<tr>\n",
       "  <th>Country</th>                                <td>   -0.0046</td> <td>    0.013</td> <td>   -0.345</td> <td> 0.730</td> <td>   -0.031</td> <td>    0.021</td>\n",
       "</tr>\n",
       "<tr>\n",
       "  <th>Specialization</th>                         <td>   -0.0191</td> <td>    0.009</td> <td>   -2.157</td> <td> 0.031</td> <td>   -0.036</td> <td>   -0.002</td>\n",
       "</tr>\n",
       "<tr>\n",
       "  <th>What is your current occupation</th>        <td>    0.9081</td> <td>    0.061</td> <td>   14.863</td> <td> 0.000</td> <td>    0.788</td> <td>    1.028</td>\n",
       "</tr>\n",
       "<tr>\n",
       "  <th>Search</th>                                 <td>   -0.1690</td> <td>    1.284</td> <td>   -0.132</td> <td> 0.895</td> <td>   -2.685</td> <td>    2.347</td>\n",
       "</tr>\n",
       "<tr>\n",
       "  <th>Newspaper Article</th>                      <td>-7.368e-11</td> <td> 1.15e-07</td> <td>   -0.001</td> <td> 0.999</td> <td>-2.25e-07</td> <td> 2.25e-07</td>\n",
       "</tr>\n",
       "<tr>\n",
       "  <th>Digital Advertisement</th>                  <td>  -22.0501</td> <td> 2.92e+04</td> <td>   -0.001</td> <td> 0.999</td> <td>-5.73e+04</td> <td> 5.73e+04</td>\n",
       "</tr>\n",
       "<tr>\n",
       "  <th>Through Recommendations</th>                <td>    0.3631</td> <td>    1.935</td> <td>    0.188</td> <td> 0.851</td> <td>   -3.430</td> <td>    4.156</td>\n",
       "</tr>\n",
       "<tr>\n",
       "  <th>Tags</th>                                   <td>    0.0950</td> <td>    0.006</td> <td>   14.709</td> <td> 0.000</td> <td>    0.082</td> <td>    0.108</td>\n",
       "</tr>\n",
       "<tr>\n",
       "  <th>Asymmetrique Activity Score</th>            <td>    0.8996</td> <td>    0.054</td> <td>   16.576</td> <td> 0.000</td> <td>    0.793</td> <td>    1.006</td>\n",
       "</tr>\n",
       "<tr>\n",
       "  <th>Asymmetrique Profile Score</th>             <td>    0.3187</td> <td>    0.046</td> <td>    6.939</td> <td> 0.000</td> <td>    0.229</td> <td>    0.409</td>\n",
       "</tr>\n",
       "<tr>\n",
       "  <th>A free copy of Mastering The Interview</th> <td>   -0.1557</td> <td>    0.094</td> <td>   -1.663</td> <td> 0.096</td> <td>   -0.339</td> <td>    0.028</td>\n",
       "</tr>\n",
       "<tr>\n",
       "  <th>Last Notable Activity</th>                  <td>    0.0201</td> <td>    0.025</td> <td>    0.796</td> <td> 0.426</td> <td>   -0.029</td> <td>    0.070</td>\n",
       "</tr>\n",
       "</table>"
      ],
      "text/plain": [
       "<class 'statsmodels.iolib.summary.Summary'>\n",
       "\"\"\"\n",
       "                 Generalized Linear Model Regression Results                  \n",
       "==============================================================================\n",
       "Dep. Variable:              Converted   No. Observations:                 4307\n",
       "Model:                            GLM   Df Residuals:                     4287\n",
       "Model Family:                Binomial   Df Model:                           19\n",
       "Link Function:                  logit   Scale:                          1.0000\n",
       "Method:                          IRLS   Log-Likelihood:                -1850.8\n",
       "Date:                Mon, 07 Oct 2019   Deviance:                       3701.6\n",
       "Time:                        04:46:42   Pearson chi2:                 4.81e+03\n",
       "No. Iterations:                    20   Covariance Type:             nonrobust\n",
       "==========================================================================================================\n",
       "                                             coef    std err          z      P>|z|      [0.025      0.975]\n",
       "----------------------------------------------------------------------------------------------------------\n",
       "const                                     -6.4917      0.342    -18.979      0.000      -7.162      -5.821\n",
       "Lead Origin                                0.4438      0.087      5.105      0.000       0.273       0.614\n",
       "Lead Source                                0.1504      0.016      9.493      0.000       0.119       0.181\n",
       "Do Not Email                              -1.5536      0.195     -7.956      0.000      -1.936      -1.171\n",
       "Do Not Call                               19.6571   2.01e+04      0.001      0.999   -3.95e+04    3.95e+04\n",
       "TotalVisits                                0.1014      0.049      2.074      0.038       0.006       0.197\n",
       "Total Time Spent on Website                1.0641      0.046     23.109      0.000       0.974       1.154\n",
       "Page Views Per Visit                      -0.4048      0.051     -7.871      0.000      -0.506      -0.304\n",
       "Last Activity                              0.0832      0.019      4.305      0.000       0.045       0.121\n",
       "Country                                   -0.0046      0.013     -0.345      0.730      -0.031       0.021\n",
       "Specialization                            -0.0191      0.009     -2.157      0.031      -0.036      -0.002\n",
       "What is your current occupation            0.9081      0.061     14.863      0.000       0.788       1.028\n",
       "Search                                    -0.1690      1.284     -0.132      0.895      -2.685       2.347\n",
       "Newspaper Article                      -7.368e-11   1.15e-07     -0.001      0.999   -2.25e-07    2.25e-07\n",
       "Digital Advertisement                    -22.0501   2.92e+04     -0.001      0.999   -5.73e+04    5.73e+04\n",
       "Through Recommendations                    0.3631      1.935      0.188      0.851      -3.430       4.156\n",
       "Tags                                       0.0950      0.006     14.709      0.000       0.082       0.108\n",
       "Asymmetrique Activity Score                0.8996      0.054     16.576      0.000       0.793       1.006\n",
       "Asymmetrique Profile Score                 0.3187      0.046      6.939      0.000       0.229       0.409\n",
       "A free copy of Mastering The Interview    -0.1557      0.094     -1.663      0.096      -0.339       0.028\n",
       "Last Notable Activity                      0.0201      0.025      0.796      0.426      -0.029       0.070\n",
       "==========================================================================================================\n",
       "\"\"\""
      ]
     },
     "execution_count": 1170,
     "metadata": {},
     "output_type": "execute_result"
    }
   ],
   "source": [
    "# Logistic regression model\n",
    "logm1 = sm.GLM(y_train,(sm.add_constant(X_train)), family = sm.families.Binomial())\n",
    "logm1.fit().summary()\n",
    "\n"
   ]
  },
  {
   "cell_type": "code",
   "execution_count": 1171,
   "metadata": {},
   "outputs": [],
   "source": [
    "from sklearn.linear_model import LogisticRegression\n",
    "logreg = LogisticRegression()"
   ]
  },
  {
   "cell_type": "code",
   "execution_count": 1172,
   "metadata": {},
   "outputs": [],
   "source": [
    "from sklearn.feature_selection import RFE\n",
    "rfe = RFE(logreg, 15)             # running RFE with 13 variables as output\n",
    "rfe = rfe.fit(X_train, y_train)"
   ]
  },
  {
   "cell_type": "code",
   "execution_count": 1173,
   "metadata": {},
   "outputs": [
    {
     "data": {
      "text/plain": [
       "array([ True,  True,  True,  True,  True,  True,  True,  True, False,\n",
       "       False,  True, False, False,  True,  True,  True,  True,  True,\n",
       "        True, False])"
      ]
     },
     "execution_count": 1173,
     "metadata": {},
     "output_type": "execute_result"
    }
   ],
   "source": [
    "rfe.support_"
   ]
  },
  {
   "cell_type": "code",
   "execution_count": 1174,
   "metadata": {},
   "outputs": [
    {
     "data": {
      "text/plain": [
       "[('Lead Origin', True, 1),\n",
       " ('Lead Source', True, 1),\n",
       " ('Do Not Email', True, 1),\n",
       " ('Do Not Call', True, 1),\n",
       " ('TotalVisits', True, 1),\n",
       " ('Total Time Spent on Website', True, 1),\n",
       " ('Page Views Per Visit', True, 1),\n",
       " ('Last Activity', True, 1),\n",
       " ('Country', False, 4),\n",
       " ('Specialization', False, 3),\n",
       " ('What is your current occupation', True, 1),\n",
       " ('Search', False, 2),\n",
       " ('Newspaper Article', False, 6),\n",
       " ('Digital Advertisement', True, 1),\n",
       " ('Through Recommendations', True, 1),\n",
       " ('Tags', True, 1),\n",
       " ('Asymmetrique Activity Score', True, 1),\n",
       " ('Asymmetrique Profile Score', True, 1),\n",
       " ('A free copy of Mastering The Interview', True, 1),\n",
       " ('Last Notable Activity', False, 5)]"
      ]
     },
     "execution_count": 1174,
     "metadata": {},
     "output_type": "execute_result"
    }
   ],
   "source": [
    "list(zip(X_train.columns, rfe.support_, rfe.ranking_))"
   ]
  },
  {
   "cell_type": "code",
   "execution_count": 1175,
   "metadata": {},
   "outputs": [
    {
     "name": "stdout",
     "output_type": "stream",
     "text": [
      "Index(['Lead Origin', 'Lead Source', 'Do Not Email', 'Do Not Call',\n",
      "       'TotalVisits', 'Total Time Spent on Website', 'Page Views Per Visit',\n",
      "       'Last Activity', 'What is your current occupation',\n",
      "       'Digital Advertisement', 'Through Recommendations', 'Tags',\n",
      "       'Asymmetrique Activity Score', 'Asymmetrique Profile Score',\n",
      "       'A free copy of Mastering The Interview'],\n",
      "      dtype='object')\n"
     ]
    }
   ],
   "source": [
    "col = X_train.columns[rfe.support_]\n",
    "print(col)"
   ]
  },
  {
   "cell_type": "code",
   "execution_count": 1176,
   "metadata": {},
   "outputs": [
    {
     "data": {
      "text/plain": [
       "Index(['Country', 'Specialization', 'Search', 'Newspaper Article',\n",
       "       'Last Notable Activity'],\n",
       "      dtype='object')"
      ]
     },
     "execution_count": 1176,
     "metadata": {},
     "output_type": "execute_result"
    }
   ],
   "source": [
    "X_train.columns[~rfe.support_]"
   ]
  },
  {
   "cell_type": "code",
   "execution_count": 1177,
   "metadata": {},
   "outputs": [
    {
     "data": {
      "text/html": [
       "<table class=\"simpletable\">\n",
       "<caption>Generalized Linear Model Regression Results</caption>\n",
       "<tr>\n",
       "  <th>Dep. Variable:</th>      <td>Converted</td>    <th>  No. Observations:  </th>  <td>  4307</td>  \n",
       "</tr>\n",
       "<tr>\n",
       "  <th>Model:</th>                 <td>GLM</td>       <th>  Df Residuals:      </th>  <td>  4291</td>  \n",
       "</tr>\n",
       "<tr>\n",
       "  <th>Model Family:</th>       <td>Binomial</td>     <th>  Df Model:          </th>  <td>    15</td>  \n",
       "</tr>\n",
       "<tr>\n",
       "  <th>Link Function:</th>        <td>logit</td>      <th>  Scale:             </th> <td>  1.0000</td> \n",
       "</tr>\n",
       "<tr>\n",
       "  <th>Method:</th>               <td>IRLS</td>       <th>  Log-Likelihood:    </th> <td> -1853.5</td> \n",
       "</tr>\n",
       "<tr>\n",
       "  <th>Date:</th>           <td>Mon, 07 Oct 2019</td> <th>  Deviance:          </th> <td>  3707.1</td> \n",
       "</tr>\n",
       "<tr>\n",
       "  <th>Time:</th>               <td>04:46:43</td>     <th>  Pearson chi2:      </th> <td>4.84e+03</td> \n",
       "</tr>\n",
       "<tr>\n",
       "  <th>No. Iterations:</th>        <td>20</td>        <th>  Covariance Type:   </th> <td>nonrobust</td>\n",
       "</tr>\n",
       "</table>\n",
       "<table class=\"simpletable\">\n",
       "<tr>\n",
       "                     <td></td>                       <th>coef</th>     <th>std err</th>      <th>z</th>      <th>P>|z|</th>  <th>[0.025</th>    <th>0.975]</th>  \n",
       "</tr>\n",
       "<tr>\n",
       "  <th>const</th>                                  <td>   -6.7371</td> <td>    0.282</td> <td>  -23.893</td> <td> 0.000</td> <td>   -7.290</td> <td>   -6.184</td>\n",
       "</tr>\n",
       "<tr>\n",
       "  <th>Lead Origin</th>                            <td>    0.4823</td> <td>    0.085</td> <td>    5.661</td> <td> 0.000</td> <td>    0.315</td> <td>    0.649</td>\n",
       "</tr>\n",
       "<tr>\n",
       "  <th>Lead Source</th>                            <td>    0.1442</td> <td>    0.016</td> <td>    9.257</td> <td> 0.000</td> <td>    0.114</td> <td>    0.175</td>\n",
       "</tr>\n",
       "<tr>\n",
       "  <th>Do Not Email</th>                           <td>   -1.5393</td> <td>    0.194</td> <td>   -7.920</td> <td> 0.000</td> <td>   -1.920</td> <td>   -1.158</td>\n",
       "</tr>\n",
       "<tr>\n",
       "  <th>Do Not Call</th>                            <td>   19.7241</td> <td> 2.02e+04</td> <td>    0.001</td> <td> 0.999</td> <td>-3.95e+04</td> <td> 3.95e+04</td>\n",
       "</tr>\n",
       "<tr>\n",
       "  <th>TotalVisits</th>                            <td>    0.1020</td> <td>    0.050</td> <td>    2.037</td> <td> 0.042</td> <td>    0.004</td> <td>    0.200</td>\n",
       "</tr>\n",
       "<tr>\n",
       "  <th>Total Time Spent on Website</th>            <td>    1.0651</td> <td>    0.046</td> <td>   23.192</td> <td> 0.000</td> <td>    0.975</td> <td>    1.155</td>\n",
       "</tr>\n",
       "<tr>\n",
       "  <th>Page Views Per Visit</th>                   <td>   -0.4009</td> <td>    0.051</td> <td>   -7.805</td> <td> 0.000</td> <td>   -0.502</td> <td>   -0.300</td>\n",
       "</tr>\n",
       "<tr>\n",
       "  <th>Last Activity</th>                          <td>    0.0940</td> <td>    0.013</td> <td>    7.385</td> <td> 0.000</td> <td>    0.069</td> <td>    0.119</td>\n",
       "</tr>\n",
       "<tr>\n",
       "  <th>What is your current occupation</th>        <td>    0.9228</td> <td>    0.061</td> <td>   15.182</td> <td> 0.000</td> <td>    0.804</td> <td>    1.042</td>\n",
       "</tr>\n",
       "<tr>\n",
       "  <th>Digital Advertisement</th>                  <td>  -22.1993</td> <td> 2.92e+04</td> <td>   -0.001</td> <td> 0.999</td> <td>-5.73e+04</td> <td> 5.73e+04</td>\n",
       "</tr>\n",
       "<tr>\n",
       "  <th>Through Recommendations</th>                <td>    0.2618</td> <td>    1.739</td> <td>    0.151</td> <td> 0.880</td> <td>   -3.146</td> <td>    3.670</td>\n",
       "</tr>\n",
       "<tr>\n",
       "  <th>Tags</th>                                   <td>    0.0951</td> <td>    0.006</td> <td>   14.750</td> <td> 0.000</td> <td>    0.082</td> <td>    0.108</td>\n",
       "</tr>\n",
       "<tr>\n",
       "  <th>Asymmetrique Activity Score</th>            <td>    0.8943</td> <td>    0.054</td> <td>   16.541</td> <td> 0.000</td> <td>    0.788</td> <td>    1.000</td>\n",
       "</tr>\n",
       "<tr>\n",
       "  <th>Asymmetrique Profile Score</th>             <td>    0.3299</td> <td>    0.046</td> <td>    7.233</td> <td> 0.000</td> <td>    0.241</td> <td>    0.419</td>\n",
       "</tr>\n",
       "<tr>\n",
       "  <th>A free copy of Mastering The Interview</th> <td>   -0.1510</td> <td>    0.093</td> <td>   -1.625</td> <td> 0.104</td> <td>   -0.333</td> <td>    0.031</td>\n",
       "</tr>\n",
       "</table>"
      ],
      "text/plain": [
       "<class 'statsmodels.iolib.summary.Summary'>\n",
       "\"\"\"\n",
       "                 Generalized Linear Model Regression Results                  \n",
       "==============================================================================\n",
       "Dep. Variable:              Converted   No. Observations:                 4307\n",
       "Model:                            GLM   Df Residuals:                     4291\n",
       "Model Family:                Binomial   Df Model:                           15\n",
       "Link Function:                  logit   Scale:                          1.0000\n",
       "Method:                          IRLS   Log-Likelihood:                -1853.5\n",
       "Date:                Mon, 07 Oct 2019   Deviance:                       3707.1\n",
       "Time:                        04:46:43   Pearson chi2:                 4.84e+03\n",
       "No. Iterations:                    20   Covariance Type:             nonrobust\n",
       "==========================================================================================================\n",
       "                                             coef    std err          z      P>|z|      [0.025      0.975]\n",
       "----------------------------------------------------------------------------------------------------------\n",
       "const                                     -6.7371      0.282    -23.893      0.000      -7.290      -6.184\n",
       "Lead Origin                                0.4823      0.085      5.661      0.000       0.315       0.649\n",
       "Lead Source                                0.1442      0.016      9.257      0.000       0.114       0.175\n",
       "Do Not Email                              -1.5393      0.194     -7.920      0.000      -1.920      -1.158\n",
       "Do Not Call                               19.7241   2.02e+04      0.001      0.999   -3.95e+04    3.95e+04\n",
       "TotalVisits                                0.1020      0.050      2.037      0.042       0.004       0.200\n",
       "Total Time Spent on Website                1.0651      0.046     23.192      0.000       0.975       1.155\n",
       "Page Views Per Visit                      -0.4009      0.051     -7.805      0.000      -0.502      -0.300\n",
       "Last Activity                              0.0940      0.013      7.385      0.000       0.069       0.119\n",
       "What is your current occupation            0.9228      0.061     15.182      0.000       0.804       1.042\n",
       "Digital Advertisement                    -22.1993   2.92e+04     -0.001      0.999   -5.73e+04    5.73e+04\n",
       "Through Recommendations                    0.2618      1.739      0.151      0.880      -3.146       3.670\n",
       "Tags                                       0.0951      0.006     14.750      0.000       0.082       0.108\n",
       "Asymmetrique Activity Score                0.8943      0.054     16.541      0.000       0.788       1.000\n",
       "Asymmetrique Profile Score                 0.3299      0.046      7.233      0.000       0.241       0.419\n",
       "A free copy of Mastering The Interview    -0.1510      0.093     -1.625      0.104      -0.333       0.031\n",
       "==========================================================================================================\n",
       "\"\"\""
      ]
     },
     "execution_count": 1177,
     "metadata": {},
     "output_type": "execute_result"
    }
   ],
   "source": [
    "X_train_sm = sm.add_constant(X_train[col])\n",
    "logm2 = sm.GLM(y_train,X_train_sm, family = sm.families.Binomial())\n",
    "res = logm2.fit()\n",
    "res.summary()"
   ]
  },
  {
   "cell_type": "code",
   "execution_count": 1178,
   "metadata": {},
   "outputs": [
    {
     "data": {
      "text/html": [
       "<table class=\"simpletable\">\n",
       "<caption>Generalized Linear Model Regression Results</caption>\n",
       "<tr>\n",
       "  <th>Dep. Variable:</th>      <td>Converted</td>    <th>  No. Observations:  </th>  <td>  4307</td>  \n",
       "</tr>\n",
       "<tr>\n",
       "  <th>Model:</th>                 <td>GLM</td>       <th>  Df Residuals:      </th>  <td>  4292</td>  \n",
       "</tr>\n",
       "<tr>\n",
       "  <th>Model Family:</th>       <td>Binomial</td>     <th>  Df Model:          </th>  <td>    14</td>  \n",
       "</tr>\n",
       "<tr>\n",
       "  <th>Link Function:</th>        <td>logit</td>      <th>  Scale:             </th> <td>  1.0000</td> \n",
       "</tr>\n",
       "<tr>\n",
       "  <th>Method:</th>               <td>IRLS</td>       <th>  Log-Likelihood:    </th> <td> -1853.8</td> \n",
       "</tr>\n",
       "<tr>\n",
       "  <th>Date:</th>           <td>Mon, 07 Oct 2019</td> <th>  Deviance:          </th> <td>  3707.7</td> \n",
       "</tr>\n",
       "<tr>\n",
       "  <th>Time:</th>               <td>04:46:43</td>     <th>  Pearson chi2:      </th> <td>4.84e+03</td> \n",
       "</tr>\n",
       "<tr>\n",
       "  <th>No. Iterations:</th>        <td>19</td>        <th>  Covariance Type:   </th> <td>nonrobust</td>\n",
       "</tr>\n",
       "</table>\n",
       "<table class=\"simpletable\">\n",
       "<tr>\n",
       "                     <td></td>                       <th>coef</th>     <th>std err</th>      <th>z</th>      <th>P>|z|</th>  <th>[0.025</th>    <th>0.975]</th>  \n",
       "</tr>\n",
       "<tr>\n",
       "  <th>const</th>                                  <td>   -6.7394</td> <td>    0.282</td> <td>  -23.898</td> <td> 0.000</td> <td>   -7.292</td> <td>   -6.187</td>\n",
       "</tr>\n",
       "<tr>\n",
       "  <th>Lead Origin</th>                            <td>    0.4837</td> <td>    0.085</td> <td>    5.683</td> <td> 0.000</td> <td>    0.317</td> <td>    0.651</td>\n",
       "</tr>\n",
       "<tr>\n",
       "  <th>Lead Source</th>                            <td>    0.1443</td> <td>    0.016</td> <td>    9.268</td> <td> 0.000</td> <td>    0.114</td> <td>    0.175</td>\n",
       "</tr>\n",
       "<tr>\n",
       "  <th>Do Not Email</th>                           <td>   -1.5402</td> <td>    0.194</td> <td>   -7.924</td> <td> 0.000</td> <td>   -1.921</td> <td>   -1.159</td>\n",
       "</tr>\n",
       "<tr>\n",
       "  <th>TotalVisits</th>                            <td>    0.1021</td> <td>    0.050</td> <td>    2.038</td> <td> 0.042</td> <td>    0.004</td> <td>    0.200</td>\n",
       "</tr>\n",
       "<tr>\n",
       "  <th>Total Time Spent on Website</th>            <td>    1.0655</td> <td>    0.046</td> <td>   23.200</td> <td> 0.000</td> <td>    0.975</td> <td>    1.156</td>\n",
       "</tr>\n",
       "<tr>\n",
       "  <th>Page Views Per Visit</th>                   <td>   -0.4013</td> <td>    0.051</td> <td>   -7.812</td> <td> 0.000</td> <td>   -0.502</td> <td>   -0.301</td>\n",
       "</tr>\n",
       "<tr>\n",
       "  <th>Last Activity</th>                          <td>    0.0940</td> <td>    0.013</td> <td>    7.389</td> <td> 0.000</td> <td>    0.069</td> <td>    0.119</td>\n",
       "</tr>\n",
       "<tr>\n",
       "  <th>What is your current occupation</th>        <td>    0.9232</td> <td>    0.061</td> <td>   15.185</td> <td> 0.000</td> <td>    0.804</td> <td>    1.042</td>\n",
       "</tr>\n",
       "<tr>\n",
       "  <th>Digital Advertisement</th>                  <td>  -21.2001</td> <td> 1.77e+04</td> <td>   -0.001</td> <td> 0.999</td> <td>-3.48e+04</td> <td> 3.47e+04</td>\n",
       "</tr>\n",
       "<tr>\n",
       "  <th>Through Recommendations</th>                <td>    0.2616</td> <td>    1.739</td> <td>    0.150</td> <td> 0.880</td> <td>   -3.147</td> <td>    3.671</td>\n",
       "</tr>\n",
       "<tr>\n",
       "  <th>Tags</th>                                   <td>    0.0951</td> <td>    0.006</td> <td>   14.749</td> <td> 0.000</td> <td>    0.082</td> <td>    0.108</td>\n",
       "</tr>\n",
       "<tr>\n",
       "  <th>Asymmetrique Activity Score</th>            <td>    0.8952</td> <td>    0.054</td> <td>   16.561</td> <td> 0.000</td> <td>    0.789</td> <td>    1.001</td>\n",
       "</tr>\n",
       "<tr>\n",
       "  <th>Asymmetrique Profile Score</th>             <td>    0.3300</td> <td>    0.046</td> <td>    7.234</td> <td> 0.000</td> <td>    0.241</td> <td>    0.419</td>\n",
       "</tr>\n",
       "<tr>\n",
       "  <th>A free copy of Mastering The Interview</th> <td>   -0.1517</td> <td>    0.093</td> <td>   -1.633</td> <td> 0.103</td> <td>   -0.334</td> <td>    0.030</td>\n",
       "</tr>\n",
       "</table>"
      ],
      "text/plain": [
       "<class 'statsmodels.iolib.summary.Summary'>\n",
       "\"\"\"\n",
       "                 Generalized Linear Model Regression Results                  \n",
       "==============================================================================\n",
       "Dep. Variable:              Converted   No. Observations:                 4307\n",
       "Model:                            GLM   Df Residuals:                     4292\n",
       "Model Family:                Binomial   Df Model:                           14\n",
       "Link Function:                  logit   Scale:                          1.0000\n",
       "Method:                          IRLS   Log-Likelihood:                -1853.8\n",
       "Date:                Mon, 07 Oct 2019   Deviance:                       3707.7\n",
       "Time:                        04:46:43   Pearson chi2:                 4.84e+03\n",
       "No. Iterations:                    19   Covariance Type:             nonrobust\n",
       "==========================================================================================================\n",
       "                                             coef    std err          z      P>|z|      [0.025      0.975]\n",
       "----------------------------------------------------------------------------------------------------------\n",
       "const                                     -6.7394      0.282    -23.898      0.000      -7.292      -6.187\n",
       "Lead Origin                                0.4837      0.085      5.683      0.000       0.317       0.651\n",
       "Lead Source                                0.1443      0.016      9.268      0.000       0.114       0.175\n",
       "Do Not Email                              -1.5402      0.194     -7.924      0.000      -1.921      -1.159\n",
       "TotalVisits                                0.1021      0.050      2.038      0.042       0.004       0.200\n",
       "Total Time Spent on Website                1.0655      0.046     23.200      0.000       0.975       1.156\n",
       "Page Views Per Visit                      -0.4013      0.051     -7.812      0.000      -0.502      -0.301\n",
       "Last Activity                              0.0940      0.013      7.389      0.000       0.069       0.119\n",
       "What is your current occupation            0.9232      0.061     15.185      0.000       0.804       1.042\n",
       "Digital Advertisement                    -21.2001   1.77e+04     -0.001      0.999   -3.48e+04    3.47e+04\n",
       "Through Recommendations                    0.2616      1.739      0.150      0.880      -3.147       3.671\n",
       "Tags                                       0.0951      0.006     14.749      0.000       0.082       0.108\n",
       "Asymmetrique Activity Score                0.8952      0.054     16.561      0.000       0.789       1.001\n",
       "Asymmetrique Profile Score                 0.3300      0.046      7.234      0.000       0.241       0.419\n",
       "A free copy of Mastering The Interview    -0.1517      0.093     -1.633      0.103      -0.334       0.030\n",
       "==========================================================================================================\n",
       "\"\"\""
      ]
     },
     "execution_count": 1178,
     "metadata": {},
     "output_type": "execute_result"
    }
   ],
   "source": [
    "#Remove Do Not Call\n",
    "col2=['Lead Origin', 'Lead Source', 'Do Not Email', \n",
    "       'TotalVisits', 'Total Time Spent on Website', 'Page Views Per Visit',\n",
    "       'Last Activity', 'What is your current occupation',\n",
    "       'Digital Advertisement', 'Through Recommendations', 'Tags',\n",
    "       'Asymmetrique Activity Score', 'Asymmetrique Profile Score',\n",
    "       'A free copy of Mastering The Interview']\n",
    "X_train_sm = sm.add_constant(X_train[col2])\n",
    "logm2 = sm.GLM(y_train,X_train_sm, family = sm.families.Binomial())\n",
    "res = logm2.fit()\n",
    "res.summary()\n"
   ]
  },
  {
   "cell_type": "code",
   "execution_count": 1179,
   "metadata": {},
   "outputs": [
    {
     "data": {
      "text/html": [
       "<table class=\"simpletable\">\n",
       "<caption>Generalized Linear Model Regression Results</caption>\n",
       "<tr>\n",
       "  <th>Dep. Variable:</th>      <td>Converted</td>    <th>  No. Observations:  </th>  <td>  4307</td>  \n",
       "</tr>\n",
       "<tr>\n",
       "  <th>Model:</th>                 <td>GLM</td>       <th>  Df Residuals:      </th>  <td>  4293</td>  \n",
       "</tr>\n",
       "<tr>\n",
       "  <th>Model Family:</th>       <td>Binomial</td>     <th>  Df Model:          </th>  <td>    13</td>  \n",
       "</tr>\n",
       "<tr>\n",
       "  <th>Link Function:</th>        <td>logit</td>      <th>  Scale:             </th> <td>  1.0000</td> \n",
       "</tr>\n",
       "<tr>\n",
       "  <th>Method:</th>               <td>IRLS</td>       <th>  Log-Likelihood:    </th> <td> -1854.9</td> \n",
       "</tr>\n",
       "<tr>\n",
       "  <th>Date:</th>           <td>Mon, 07 Oct 2019</td> <th>  Deviance:          </th> <td>  3709.8</td> \n",
       "</tr>\n",
       "<tr>\n",
       "  <th>Time:</th>               <td>04:46:43</td>     <th>  Pearson chi2:      </th> <td>4.84e+03</td> \n",
       "</tr>\n",
       "<tr>\n",
       "  <th>No. Iterations:</th>         <td>6</td>        <th>  Covariance Type:   </th> <td>nonrobust</td>\n",
       "</tr>\n",
       "</table>\n",
       "<table class=\"simpletable\">\n",
       "<tr>\n",
       "                     <td></td>                       <th>coef</th>     <th>std err</th>      <th>z</th>      <th>P>|z|</th>  <th>[0.025</th>    <th>0.975]</th>  \n",
       "</tr>\n",
       "<tr>\n",
       "  <th>const</th>                                  <td>   -6.7361</td> <td>    0.282</td> <td>  -23.891</td> <td> 0.000</td> <td>   -7.289</td> <td>   -6.184</td>\n",
       "</tr>\n",
       "<tr>\n",
       "  <th>Lead Origin</th>                            <td>    0.4823</td> <td>    0.085</td> <td>    5.667</td> <td> 0.000</td> <td>    0.315</td> <td>    0.649</td>\n",
       "</tr>\n",
       "<tr>\n",
       "  <th>Lead Source</th>                            <td>    0.1449</td> <td>    0.016</td> <td>    9.305</td> <td> 0.000</td> <td>    0.114</td> <td>    0.175</td>\n",
       "</tr>\n",
       "<tr>\n",
       "  <th>Do Not Email</th>                           <td>   -1.5385</td> <td>    0.194</td> <td>   -7.916</td> <td> 0.000</td> <td>   -1.919</td> <td>   -1.158</td>\n",
       "</tr>\n",
       "<tr>\n",
       "  <th>TotalVisits</th>                            <td>    0.1023</td> <td>    0.050</td> <td>    2.040</td> <td> 0.041</td> <td>    0.004</td> <td>    0.201</td>\n",
       "</tr>\n",
       "<tr>\n",
       "  <th>Total Time Spent on Website</th>            <td>    1.0666</td> <td>    0.046</td> <td>   23.226</td> <td> 0.000</td> <td>    0.977</td> <td>    1.157</td>\n",
       "</tr>\n",
       "<tr>\n",
       "  <th>Page Views Per Visit</th>                   <td>   -0.4022</td> <td>    0.051</td> <td>   -7.828</td> <td> 0.000</td> <td>   -0.503</td> <td>   -0.302</td>\n",
       "</tr>\n",
       "<tr>\n",
       "  <th>Last Activity</th>                          <td>    0.0938</td> <td>    0.013</td> <td>    7.368</td> <td> 0.000</td> <td>    0.069</td> <td>    0.119</td>\n",
       "</tr>\n",
       "<tr>\n",
       "  <th>What is your current occupation</th>        <td>    0.9229</td> <td>    0.061</td> <td>   15.182</td> <td> 0.000</td> <td>    0.804</td> <td>    1.042</td>\n",
       "</tr>\n",
       "<tr>\n",
       "  <th>Through Recommendations</th>                <td>    0.2631</td> <td>    1.739</td> <td>    0.151</td> <td> 0.880</td> <td>   -3.145</td> <td>    3.671</td>\n",
       "</tr>\n",
       "<tr>\n",
       "  <th>Tags</th>                                   <td>    0.0949</td> <td>    0.006</td> <td>   14.722</td> <td> 0.000</td> <td>    0.082</td> <td>    0.107</td>\n",
       "</tr>\n",
       "<tr>\n",
       "  <th>Asymmetrique Activity Score</th>            <td>    0.8934</td> <td>    0.054</td> <td>   16.542</td> <td> 0.000</td> <td>    0.788</td> <td>    0.999</td>\n",
       "</tr>\n",
       "<tr>\n",
       "  <th>Asymmetrique Profile Score</th>             <td>    0.3295</td> <td>    0.046</td> <td>    7.224</td> <td> 0.000</td> <td>    0.240</td> <td>    0.419</td>\n",
       "</tr>\n",
       "<tr>\n",
       "  <th>A free copy of Mastering The Interview</th> <td>   -0.1487</td> <td>    0.093</td> <td>   -1.601</td> <td> 0.109</td> <td>   -0.331</td> <td>    0.033</td>\n",
       "</tr>\n",
       "</table>"
      ],
      "text/plain": [
       "<class 'statsmodels.iolib.summary.Summary'>\n",
       "\"\"\"\n",
       "                 Generalized Linear Model Regression Results                  \n",
       "==============================================================================\n",
       "Dep. Variable:              Converted   No. Observations:                 4307\n",
       "Model:                            GLM   Df Residuals:                     4293\n",
       "Model Family:                Binomial   Df Model:                           13\n",
       "Link Function:                  logit   Scale:                          1.0000\n",
       "Method:                          IRLS   Log-Likelihood:                -1854.9\n",
       "Date:                Mon, 07 Oct 2019   Deviance:                       3709.8\n",
       "Time:                        04:46:43   Pearson chi2:                 4.84e+03\n",
       "No. Iterations:                     6   Covariance Type:             nonrobust\n",
       "==========================================================================================================\n",
       "                                             coef    std err          z      P>|z|      [0.025      0.975]\n",
       "----------------------------------------------------------------------------------------------------------\n",
       "const                                     -6.7361      0.282    -23.891      0.000      -7.289      -6.184\n",
       "Lead Origin                                0.4823      0.085      5.667      0.000       0.315       0.649\n",
       "Lead Source                                0.1449      0.016      9.305      0.000       0.114       0.175\n",
       "Do Not Email                              -1.5385      0.194     -7.916      0.000      -1.919      -1.158\n",
       "TotalVisits                                0.1023      0.050      2.040      0.041       0.004       0.201\n",
       "Total Time Spent on Website                1.0666      0.046     23.226      0.000       0.977       1.157\n",
       "Page Views Per Visit                      -0.4022      0.051     -7.828      0.000      -0.503      -0.302\n",
       "Last Activity                              0.0938      0.013      7.368      0.000       0.069       0.119\n",
       "What is your current occupation            0.9229      0.061     15.182      0.000       0.804       1.042\n",
       "Through Recommendations                    0.2631      1.739      0.151      0.880      -3.145       3.671\n",
       "Tags                                       0.0949      0.006     14.722      0.000       0.082       0.107\n",
       "Asymmetrique Activity Score                0.8934      0.054     16.542      0.000       0.788       0.999\n",
       "Asymmetrique Profile Score                 0.3295      0.046      7.224      0.000       0.240       0.419\n",
       "A free copy of Mastering The Interview    -0.1487      0.093     -1.601      0.109      -0.331       0.033\n",
       "==========================================================================================================\n",
       "\"\"\""
      ]
     },
     "execution_count": 1179,
     "metadata": {},
     "output_type": "execute_result"
    }
   ],
   "source": [
    "#Remove Digital Advertisement\n",
    "col2=['Lead Origin', 'Lead Source', 'Do Not Email', \n",
    "       'TotalVisits', 'Total Time Spent on Website', 'Page Views Per Visit',\n",
    "       'Last Activity', 'What is your current occupation',\n",
    "       'Through Recommendations', 'Tags',\n",
    "       'Asymmetrique Activity Score', 'Asymmetrique Profile Score',\n",
    "       'A free copy of Mastering The Interview']\n",
    "X_train_sm = sm.add_constant(X_train[col2])\n",
    "logm2 = sm.GLM(y_train,X_train_sm, family = sm.families.Binomial())\n",
    "res = logm2.fit()\n",
    "res.summary()"
   ]
  },
  {
   "cell_type": "code",
   "execution_count": 1180,
   "metadata": {},
   "outputs": [
    {
     "data": {
      "text/html": [
       "<table class=\"simpletable\">\n",
       "<caption>Generalized Linear Model Regression Results</caption>\n",
       "<tr>\n",
       "  <th>Dep. Variable:</th>      <td>Converted</td>    <th>  No. Observations:  </th>  <td>  4307</td>  \n",
       "</tr>\n",
       "<tr>\n",
       "  <th>Model:</th>                 <td>GLM</td>       <th>  Df Residuals:      </th>  <td>  4294</td>  \n",
       "</tr>\n",
       "<tr>\n",
       "  <th>Model Family:</th>       <td>Binomial</td>     <th>  Df Model:          </th>  <td>    12</td>  \n",
       "</tr>\n",
       "<tr>\n",
       "  <th>Link Function:</th>        <td>logit</td>      <th>  Scale:             </th> <td>  1.0000</td> \n",
       "</tr>\n",
       "<tr>\n",
       "  <th>Method:</th>               <td>IRLS</td>       <th>  Log-Likelihood:    </th> <td> -1854.9</td> \n",
       "</tr>\n",
       "<tr>\n",
       "  <th>Date:</th>           <td>Mon, 07 Oct 2019</td> <th>  Deviance:          </th> <td>  3709.8</td> \n",
       "</tr>\n",
       "<tr>\n",
       "  <th>Time:</th>               <td>04:46:43</td>     <th>  Pearson chi2:      </th> <td>4.84e+03</td> \n",
       "</tr>\n",
       "<tr>\n",
       "  <th>No. Iterations:</th>         <td>6</td>        <th>  Covariance Type:   </th> <td>nonrobust</td>\n",
       "</tr>\n",
       "</table>\n",
       "<table class=\"simpletable\">\n",
       "<tr>\n",
       "                     <td></td>                       <th>coef</th>     <th>std err</th>      <th>z</th>      <th>P>|z|</th>  <th>[0.025</th>    <th>0.975]</th>  \n",
       "</tr>\n",
       "<tr>\n",
       "  <th>const</th>                                  <td>   -6.7364</td> <td>    0.282</td> <td>  -23.893</td> <td> 0.000</td> <td>   -7.289</td> <td>   -6.184</td>\n",
       "</tr>\n",
       "<tr>\n",
       "  <th>Lead Origin</th>                            <td>    0.4823</td> <td>    0.085</td> <td>    5.667</td> <td> 0.000</td> <td>    0.316</td> <td>    0.649</td>\n",
       "</tr>\n",
       "<tr>\n",
       "  <th>Lead Source</th>                            <td>    0.1449</td> <td>    0.016</td> <td>    9.306</td> <td> 0.000</td> <td>    0.114</td> <td>    0.175</td>\n",
       "</tr>\n",
       "<tr>\n",
       "  <th>Do Not Email</th>                           <td>   -1.5387</td> <td>    0.194</td> <td>   -7.917</td> <td> 0.000</td> <td>   -1.920</td> <td>   -1.158</td>\n",
       "</tr>\n",
       "<tr>\n",
       "  <th>TotalVisits</th>                            <td>    0.1024</td> <td>    0.050</td> <td>    2.041</td> <td> 0.041</td> <td>    0.004</td> <td>    0.201</td>\n",
       "</tr>\n",
       "<tr>\n",
       "  <th>Total Time Spent on Website</th>            <td>    1.0667</td> <td>    0.046</td> <td>   23.230</td> <td> 0.000</td> <td>    0.977</td> <td>    1.157</td>\n",
       "</tr>\n",
       "<tr>\n",
       "  <th>Page Views Per Visit</th>                   <td>   -0.4022</td> <td>    0.051</td> <td>   -7.827</td> <td> 0.000</td> <td>   -0.503</td> <td>   -0.301</td>\n",
       "</tr>\n",
       "<tr>\n",
       "  <th>Last Activity</th>                          <td>    0.0937</td> <td>    0.013</td> <td>    7.367</td> <td> 0.000</td> <td>    0.069</td> <td>    0.119</td>\n",
       "</tr>\n",
       "<tr>\n",
       "  <th>What is your current occupation</th>        <td>    0.9230</td> <td>    0.061</td> <td>   15.185</td> <td> 0.000</td> <td>    0.804</td> <td>    1.042</td>\n",
       "</tr>\n",
       "<tr>\n",
       "  <th>Tags</th>                                   <td>    0.0949</td> <td>    0.006</td> <td>   14.726</td> <td> 0.000</td> <td>    0.082</td> <td>    0.107</td>\n",
       "</tr>\n",
       "<tr>\n",
       "  <th>Asymmetrique Activity Score</th>            <td>    0.8935</td> <td>    0.054</td> <td>   16.544</td> <td> 0.000</td> <td>    0.788</td> <td>    0.999</td>\n",
       "</tr>\n",
       "<tr>\n",
       "  <th>Asymmetrique Profile Score</th>             <td>    0.3295</td> <td>    0.046</td> <td>    7.224</td> <td> 0.000</td> <td>    0.240</td> <td>    0.419</td>\n",
       "</tr>\n",
       "<tr>\n",
       "  <th>A free copy of Mastering The Interview</th> <td>   -0.1487</td> <td>    0.093</td> <td>   -1.601</td> <td> 0.109</td> <td>   -0.331</td> <td>    0.033</td>\n",
       "</tr>\n",
       "</table>"
      ],
      "text/plain": [
       "<class 'statsmodels.iolib.summary.Summary'>\n",
       "\"\"\"\n",
       "                 Generalized Linear Model Regression Results                  \n",
       "==============================================================================\n",
       "Dep. Variable:              Converted   No. Observations:                 4307\n",
       "Model:                            GLM   Df Residuals:                     4294\n",
       "Model Family:                Binomial   Df Model:                           12\n",
       "Link Function:                  logit   Scale:                          1.0000\n",
       "Method:                          IRLS   Log-Likelihood:                -1854.9\n",
       "Date:                Mon, 07 Oct 2019   Deviance:                       3709.8\n",
       "Time:                        04:46:43   Pearson chi2:                 4.84e+03\n",
       "No. Iterations:                     6   Covariance Type:             nonrobust\n",
       "==========================================================================================================\n",
       "                                             coef    std err          z      P>|z|      [0.025      0.975]\n",
       "----------------------------------------------------------------------------------------------------------\n",
       "const                                     -6.7364      0.282    -23.893      0.000      -7.289      -6.184\n",
       "Lead Origin                                0.4823      0.085      5.667      0.000       0.316       0.649\n",
       "Lead Source                                0.1449      0.016      9.306      0.000       0.114       0.175\n",
       "Do Not Email                              -1.5387      0.194     -7.917      0.000      -1.920      -1.158\n",
       "TotalVisits                                0.1024      0.050      2.041      0.041       0.004       0.201\n",
       "Total Time Spent on Website                1.0667      0.046     23.230      0.000       0.977       1.157\n",
       "Page Views Per Visit                      -0.4022      0.051     -7.827      0.000      -0.503      -0.301\n",
       "Last Activity                              0.0937      0.013      7.367      0.000       0.069       0.119\n",
       "What is your current occupation            0.9230      0.061     15.185      0.000       0.804       1.042\n",
       "Tags                                       0.0949      0.006     14.726      0.000       0.082       0.107\n",
       "Asymmetrique Activity Score                0.8935      0.054     16.544      0.000       0.788       0.999\n",
       "Asymmetrique Profile Score                 0.3295      0.046      7.224      0.000       0.240       0.419\n",
       "A free copy of Mastering The Interview    -0.1487      0.093     -1.601      0.109      -0.331       0.033\n",
       "==========================================================================================================\n",
       "\"\"\""
      ]
     },
     "execution_count": 1180,
     "metadata": {},
     "output_type": "execute_result"
    }
   ],
   "source": [
    "#Remove Through Recommendations\n",
    "col2=['Lead Origin', 'Lead Source', 'Do Not Email', \n",
    "       'TotalVisits', 'Total Time Spent on Website', 'Page Views Per Visit',\n",
    "       'Last Activity', 'What is your current occupation',\n",
    "       'Tags',\n",
    "       'Asymmetrique Activity Score', 'Asymmetrique Profile Score',\n",
    "       'A free copy of Mastering The Interview']\n",
    "X_train_sm = sm.add_constant(X_train[col2])\n",
    "logm2 = sm.GLM(y_train,X_train_sm, family = sm.families.Binomial())\n",
    "res = logm2.fit()\n",
    "res.summary()"
   ]
  },
  {
   "cell_type": "code",
   "execution_count": 1181,
   "metadata": {},
   "outputs": [
    {
     "data": {
      "text/plain": [
       "8050    0.869532\n",
       "4317    0.197147\n",
       "580     0.895710\n",
       "846     0.915090\n",
       "2348    0.033684\n",
       "2503    0.021928\n",
       "6476    0.155633\n",
       "8411    0.705424\n",
       "2018    0.930474\n",
       "7662    0.098405\n",
       "dtype: float64"
      ]
     },
     "execution_count": 1181,
     "metadata": {},
     "output_type": "execute_result"
    }
   ],
   "source": [
    "# Getting the predicted values on the train set\n",
    "y_train_pred = res.predict(X_train_sm)\n",
    "y_train_pred[:10]"
   ]
  },
  {
   "cell_type": "code",
   "execution_count": 1182,
   "metadata": {},
   "outputs": [
    {
     "data": {
      "text/plain": [
       "array([0.86953173, 0.19714731, 0.89570968, 0.91509024, 0.0336838 ,\n",
       "       0.02192786, 0.15563264, 0.70542428, 0.93047389, 0.09840479])"
      ]
     },
     "execution_count": 1182,
     "metadata": {},
     "output_type": "execute_result"
    }
   ],
   "source": [
    "y_train_pred = y_train_pred.values.reshape(-1)\n",
    "y_train_pred[:10]"
   ]
  },
  {
   "cell_type": "code",
   "execution_count": 1183,
   "metadata": {},
   "outputs": [
    {
     "data": {
      "text/html": [
       "<div>\n",
       "<style scoped>\n",
       "    .dataframe tbody tr th:only-of-type {\n",
       "        vertical-align: middle;\n",
       "    }\n",
       "\n",
       "    .dataframe tbody tr th {\n",
       "        vertical-align: top;\n",
       "    }\n",
       "\n",
       "    .dataframe thead th {\n",
       "        text-align: right;\n",
       "    }\n",
       "</style>\n",
       "<table border=\"1\" class=\"dataframe\">\n",
       "  <thead>\n",
       "    <tr style=\"text-align: right;\">\n",
       "      <th></th>\n",
       "      <th>Converted</th>\n",
       "      <th>Converted_Prob</th>\n",
       "      <th>Prospect ID</th>\n",
       "    </tr>\n",
       "  </thead>\n",
       "  <tbody>\n",
       "    <tr>\n",
       "      <th>0</th>\n",
       "      <td>1</td>\n",
       "      <td>0.869532</td>\n",
       "      <td>8050</td>\n",
       "    </tr>\n",
       "    <tr>\n",
       "      <th>1</th>\n",
       "      <td>1</td>\n",
       "      <td>0.197147</td>\n",
       "      <td>4317</td>\n",
       "    </tr>\n",
       "    <tr>\n",
       "      <th>2</th>\n",
       "      <td>1</td>\n",
       "      <td>0.895710</td>\n",
       "      <td>580</td>\n",
       "    </tr>\n",
       "    <tr>\n",
       "      <th>3</th>\n",
       "      <td>1</td>\n",
       "      <td>0.915090</td>\n",
       "      <td>846</td>\n",
       "    </tr>\n",
       "    <tr>\n",
       "      <th>4</th>\n",
       "      <td>0</td>\n",
       "      <td>0.033684</td>\n",
       "      <td>2348</td>\n",
       "    </tr>\n",
       "    <tr>\n",
       "      <th>5</th>\n",
       "      <td>0</td>\n",
       "      <td>0.021928</td>\n",
       "      <td>2503</td>\n",
       "    </tr>\n",
       "    <tr>\n",
       "      <th>6</th>\n",
       "      <td>0</td>\n",
       "      <td>0.155633</td>\n",
       "      <td>6476</td>\n",
       "    </tr>\n",
       "    <tr>\n",
       "      <th>7</th>\n",
       "      <td>1</td>\n",
       "      <td>0.705424</td>\n",
       "      <td>8411</td>\n",
       "    </tr>\n",
       "    <tr>\n",
       "      <th>8</th>\n",
       "      <td>1</td>\n",
       "      <td>0.930474</td>\n",
       "      <td>2018</td>\n",
       "    </tr>\n",
       "    <tr>\n",
       "      <th>9</th>\n",
       "      <td>0</td>\n",
       "      <td>0.098405</td>\n",
       "      <td>7662</td>\n",
       "    </tr>\n",
       "  </tbody>\n",
       "</table>\n",
       "</div>"
      ],
      "text/plain": [
       "   Converted  Converted_Prob  Prospect ID\n",
       "0          1        0.869532         8050\n",
       "1          1        0.197147         4317\n",
       "2          1        0.895710          580\n",
       "3          1        0.915090          846\n",
       "4          0        0.033684         2348\n",
       "5          0        0.021928         2503\n",
       "6          0        0.155633         6476\n",
       "7          1        0.705424         8411\n",
       "8          1        0.930474         2018\n",
       "9          0        0.098405         7662"
      ]
     },
     "execution_count": 1183,
     "metadata": {},
     "output_type": "execute_result"
    }
   ],
   "source": [
    "y_train_pred_final = pd.DataFrame({'Converted':y_train.values, 'Converted_Prob':y_train_pred})\n",
    "y_train_pred_final['Prospect ID'] = y_train.index\n",
    "y_train_pred_final.head(10)"
   ]
  },
  {
   "cell_type": "code",
   "execution_count": 1184,
   "metadata": {},
   "outputs": [
    {
     "data": {
      "text/html": [
       "<div>\n",
       "<style scoped>\n",
       "    .dataframe tbody tr th:only-of-type {\n",
       "        vertical-align: middle;\n",
       "    }\n",
       "\n",
       "    .dataframe tbody tr th {\n",
       "        vertical-align: top;\n",
       "    }\n",
       "\n",
       "    .dataframe thead th {\n",
       "        text-align: right;\n",
       "    }\n",
       "</style>\n",
       "<table border=\"1\" class=\"dataframe\">\n",
       "  <thead>\n",
       "    <tr style=\"text-align: right;\">\n",
       "      <th></th>\n",
       "      <th>Converted</th>\n",
       "      <th>Converted_Prob</th>\n",
       "      <th>Prospect ID</th>\n",
       "      <th>predicted</th>\n",
       "    </tr>\n",
       "  </thead>\n",
       "  <tbody>\n",
       "    <tr>\n",
       "      <th>0</th>\n",
       "      <td>1</td>\n",
       "      <td>0.869532</td>\n",
       "      <td>8050</td>\n",
       "      <td>1</td>\n",
       "    </tr>\n",
       "    <tr>\n",
       "      <th>1</th>\n",
       "      <td>1</td>\n",
       "      <td>0.197147</td>\n",
       "      <td>4317</td>\n",
       "      <td>0</td>\n",
       "    </tr>\n",
       "    <tr>\n",
       "      <th>2</th>\n",
       "      <td>1</td>\n",
       "      <td>0.895710</td>\n",
       "      <td>580</td>\n",
       "      <td>1</td>\n",
       "    </tr>\n",
       "    <tr>\n",
       "      <th>3</th>\n",
       "      <td>1</td>\n",
       "      <td>0.915090</td>\n",
       "      <td>846</td>\n",
       "      <td>1</td>\n",
       "    </tr>\n",
       "    <tr>\n",
       "      <th>4</th>\n",
       "      <td>0</td>\n",
       "      <td>0.033684</td>\n",
       "      <td>2348</td>\n",
       "      <td>0</td>\n",
       "    </tr>\n",
       "    <tr>\n",
       "      <th>5</th>\n",
       "      <td>0</td>\n",
       "      <td>0.021928</td>\n",
       "      <td>2503</td>\n",
       "      <td>0</td>\n",
       "    </tr>\n",
       "    <tr>\n",
       "      <th>6</th>\n",
       "      <td>0</td>\n",
       "      <td>0.155633</td>\n",
       "      <td>6476</td>\n",
       "      <td>0</td>\n",
       "    </tr>\n",
       "    <tr>\n",
       "      <th>7</th>\n",
       "      <td>1</td>\n",
       "      <td>0.705424</td>\n",
       "      <td>8411</td>\n",
       "      <td>1</td>\n",
       "    </tr>\n",
       "    <tr>\n",
       "      <th>8</th>\n",
       "      <td>1</td>\n",
       "      <td>0.930474</td>\n",
       "      <td>2018</td>\n",
       "      <td>1</td>\n",
       "    </tr>\n",
       "    <tr>\n",
       "      <th>9</th>\n",
       "      <td>0</td>\n",
       "      <td>0.098405</td>\n",
       "      <td>7662</td>\n",
       "      <td>0</td>\n",
       "    </tr>\n",
       "  </tbody>\n",
       "</table>\n",
       "</div>"
      ],
      "text/plain": [
       "   Converted  Converted_Prob  Prospect ID  predicted\n",
       "0          1        0.869532         8050          1\n",
       "1          1        0.197147         4317          0\n",
       "2          1        0.895710          580          1\n",
       "3          1        0.915090          846          1\n",
       "4          0        0.033684         2348          0\n",
       "5          0        0.021928         2503          0\n",
       "6          0        0.155633         6476          0\n",
       "7          1        0.705424         8411          1\n",
       "8          1        0.930474         2018          1\n",
       "9          0        0.098405         7662          0"
      ]
     },
     "execution_count": 1184,
     "metadata": {},
     "output_type": "execute_result"
    }
   ],
   "source": [
    "y_train_pred_final['predicted'] = y_train_pred_final.Converted_Prob.map(lambda x: 1 if x > 0.5 else 0)\n",
    "\n",
    "# Let's see the head\n",
    "y_train_pred_final.head(10)"
   ]
  },
  {
   "cell_type": "code",
   "execution_count": 1185,
   "metadata": {},
   "outputs": [],
   "source": [
    "from sklearn import metrics"
   ]
  },
  {
   "cell_type": "code",
   "execution_count": 1186,
   "metadata": {},
   "outputs": [
    {
     "name": "stdout",
     "output_type": "stream",
     "text": [
      "[[2153  353]\n",
      " [ 460 1341]]\n"
     ]
    }
   ],
   "source": [
    "# Confusion matrix \n",
    "confusion = metrics.confusion_matrix(y_train_pred_final.Converted, y_train_pred_final.predicted )\n",
    "print(confusion)"
   ]
  },
  {
   "cell_type": "code",
   "execution_count": 1187,
   "metadata": {},
   "outputs": [
    {
     "name": "stdout",
     "output_type": "stream",
     "text": [
      "0.811237520315765\n"
     ]
    }
   ],
   "source": [
    "# Let's check the overall accuracy.\n",
    "print(metrics.accuracy_score(y_train_pred_final.Converted, y_train_pred_final.predicted))"
   ]
  },
  {
   "cell_type": "markdown",
   "metadata": {},
   "source": [
    "Checking VIFS"
   ]
  },
  {
   "cell_type": "code",
   "execution_count": 1188,
   "metadata": {},
   "outputs": [],
   "source": [
    "# Check for the VIF values of the feature variables. \n",
    "from statsmodels.stats.outliers_influence import variance_inflation_factor"
   ]
  },
  {
   "cell_type": "code",
   "execution_count": 1189,
   "metadata": {},
   "outputs": [
    {
     "data": {
      "text/html": [
       "<div>\n",
       "<style scoped>\n",
       "    .dataframe tbody tr th:only-of-type {\n",
       "        vertical-align: middle;\n",
       "    }\n",
       "\n",
       "    .dataframe tbody tr th {\n",
       "        vertical-align: top;\n",
       "    }\n",
       "\n",
       "    .dataframe thead th {\n",
       "        text-align: right;\n",
       "    }\n",
       "</style>\n",
       "<table border=\"1\" class=\"dataframe\">\n",
       "  <thead>\n",
       "    <tr style=\"text-align: right;\">\n",
       "      <th></th>\n",
       "      <th>Features</th>\n",
       "      <th>VIF</th>\n",
       "    </tr>\n",
       "  </thead>\n",
       "  <tbody>\n",
       "    <tr>\n",
       "      <th>8</th>\n",
       "      <td>What is your current occupation</td>\n",
       "      <td>9.95</td>\n",
       "    </tr>\n",
       "    <tr>\n",
       "      <th>7</th>\n",
       "      <td>Last Activity</td>\n",
       "      <td>5.51</td>\n",
       "    </tr>\n",
       "    <tr>\n",
       "      <th>11</th>\n",
       "      <td>Tags</td>\n",
       "      <td>5.26</td>\n",
       "    </tr>\n",
       "    <tr>\n",
       "      <th>0</th>\n",
       "      <td>Lead Origin</td>\n",
       "      <td>3.93</td>\n",
       "    </tr>\n",
       "    <tr>\n",
       "      <th>1</th>\n",
       "      <td>Lead Source</td>\n",
       "      <td>2.82</td>\n",
       "    </tr>\n",
       "    <tr>\n",
       "      <th>14</th>\n",
       "      <td>A free copy of Mastering The Interview</td>\n",
       "      <td>2.00</td>\n",
       "    </tr>\n",
       "    <tr>\n",
       "      <th>6</th>\n",
       "      <td>Page Views Per Visit</td>\n",
       "      <td>1.27</td>\n",
       "    </tr>\n",
       "    <tr>\n",
       "      <th>4</th>\n",
       "      <td>TotalVisits</td>\n",
       "      <td>1.22</td>\n",
       "    </tr>\n",
       "    <tr>\n",
       "      <th>13</th>\n",
       "      <td>Asymmetrique Profile Score</td>\n",
       "      <td>1.18</td>\n",
       "    </tr>\n",
       "    <tr>\n",
       "      <th>2</th>\n",
       "      <td>Do Not Email</td>\n",
       "      <td>1.10</td>\n",
       "    </tr>\n",
       "    <tr>\n",
       "      <th>5</th>\n",
       "      <td>Total Time Spent on Website</td>\n",
       "      <td>1.10</td>\n",
       "    </tr>\n",
       "    <tr>\n",
       "      <th>12</th>\n",
       "      <td>Asymmetrique Activity Score</td>\n",
       "      <td>1.03</td>\n",
       "    </tr>\n",
       "    <tr>\n",
       "      <th>3</th>\n",
       "      <td>Do Not Call</td>\n",
       "      <td>1.00</td>\n",
       "    </tr>\n",
       "    <tr>\n",
       "      <th>9</th>\n",
       "      <td>Digital Advertisement</td>\n",
       "      <td>1.00</td>\n",
       "    </tr>\n",
       "    <tr>\n",
       "      <th>10</th>\n",
       "      <td>Through Recommendations</td>\n",
       "      <td>1.00</td>\n",
       "    </tr>\n",
       "  </tbody>\n",
       "</table>\n",
       "</div>"
      ],
      "text/plain": [
       "                                  Features   VIF\n",
       "8          What is your current occupation  9.95\n",
       "7                            Last Activity  5.51\n",
       "11                                    Tags  5.26\n",
       "0                              Lead Origin  3.93\n",
       "1                              Lead Source  2.82\n",
       "14  A free copy of Mastering The Interview  2.00\n",
       "6                     Page Views Per Visit  1.27\n",
       "4                              TotalVisits  1.22\n",
       "13              Asymmetrique Profile Score  1.18\n",
       "2                             Do Not Email  1.10\n",
       "5              Total Time Spent on Website  1.10\n",
       "12             Asymmetrique Activity Score  1.03\n",
       "3                              Do Not Call  1.00\n",
       "9                    Digital Advertisement  1.00\n",
       "10                 Through Recommendations  1.00"
      ]
     },
     "execution_count": 1189,
     "metadata": {},
     "output_type": "execute_result"
    }
   ],
   "source": [
    "# Create a dataframe that will contain the names of all the feature variables and their respective VIFs\n",
    "vif = pd.DataFrame()\n",
    "vif['Features'] = X_train[col].columns\n",
    "vif['VIF'] = [variance_inflation_factor(X_train[col].values, i) for i in range(X_train[col].shape[1])]\n",
    "vif['VIF'] = round(vif['VIF'], 2)\n",
    "vif = vif.sort_values(by = \"VIF\", ascending = False)\n",
    "vif"
   ]
  },
  {
   "cell_type": "markdown",
   "metadata": {},
   "source": [
    "There are a few variables with high VIF. It's best to drop these variables as they aren't helping much with prediction and unnecessarily making the model complex. The variable 'What is your current occupation' has the highest VIF. So let's start by dropping that."
   ]
  },
  {
   "cell_type": "code",
   "execution_count": 1190,
   "metadata": {},
   "outputs": [],
   "source": [
    "#Remove Through Recommendations\n",
    "col3=['Lead Origin', 'Lead Source', 'Do Not Email', \n",
    "       'TotalVisits', 'Total Time Spent on Website', 'Page Views Per Visit',\n",
    "       'Last Activity', \n",
    "       'Tags',\n",
    "       'Asymmetrique Activity Score', 'Asymmetrique Profile Score',\n",
    "       'A free copy of Mastering The Interview']"
   ]
  },
  {
   "cell_type": "code",
   "execution_count": 1191,
   "metadata": {},
   "outputs": [
    {
     "data": {
      "text/html": [
       "<table class=\"simpletable\">\n",
       "<caption>Generalized Linear Model Regression Results</caption>\n",
       "<tr>\n",
       "  <th>Dep. Variable:</th>      <td>Converted</td>    <th>  No. Observations:  </th>  <td>  4307</td>  \n",
       "</tr>\n",
       "<tr>\n",
       "  <th>Model:</th>                 <td>GLM</td>       <th>  Df Residuals:      </th>  <td>  4295</td>  \n",
       "</tr>\n",
       "<tr>\n",
       "  <th>Model Family:</th>       <td>Binomial</td>     <th>  Df Model:          </th>  <td>    11</td>  \n",
       "</tr>\n",
       "<tr>\n",
       "  <th>Link Function:</th>        <td>logit</td>      <th>  Scale:             </th> <td>  1.0000</td> \n",
       "</tr>\n",
       "<tr>\n",
       "  <th>Method:</th>               <td>IRLS</td>       <th>  Log-Likelihood:    </th> <td> -1999.4</td> \n",
       "</tr>\n",
       "<tr>\n",
       "  <th>Date:</th>           <td>Mon, 07 Oct 2019</td> <th>  Deviance:          </th> <td>  3998.8</td> \n",
       "</tr>\n",
       "<tr>\n",
       "  <th>Time:</th>               <td>04:46:44</td>     <th>  Pearson chi2:      </th> <td>4.69e+03</td> \n",
       "</tr>\n",
       "<tr>\n",
       "  <th>No. Iterations:</th>         <td>6</td>        <th>  Covariance Type:   </th> <td>nonrobust</td>\n",
       "</tr>\n",
       "</table>\n",
       "<table class=\"simpletable\">\n",
       "<tr>\n",
       "                     <td></td>                       <th>coef</th>     <th>std err</th>      <th>z</th>      <th>P>|z|</th>  <th>[0.025</th>    <th>0.975]</th>  \n",
       "</tr>\n",
       "<tr>\n",
       "  <th>const</th>                                  <td>   -3.5801</td> <td>    0.163</td> <td>  -21.932</td> <td> 0.000</td> <td>   -3.900</td> <td>   -3.260</td>\n",
       "</tr>\n",
       "<tr>\n",
       "  <th>Lead Origin</th>                            <td>    0.6241</td> <td>    0.082</td> <td>    7.587</td> <td> 0.000</td> <td>    0.463</td> <td>    0.785</td>\n",
       "</tr>\n",
       "<tr>\n",
       "  <th>Lead Source</th>                            <td>    0.1474</td> <td>    0.015</td> <td>    9.877</td> <td> 0.000</td> <td>    0.118</td> <td>    0.177</td>\n",
       "</tr>\n",
       "<tr>\n",
       "  <th>Do Not Email</th>                           <td>   -1.6066</td> <td>    0.188</td> <td>   -8.533</td> <td> 0.000</td> <td>   -1.976</td> <td>   -1.238</td>\n",
       "</tr>\n",
       "<tr>\n",
       "  <th>TotalVisits</th>                            <td>    0.0685</td> <td>    0.038</td> <td>    1.794</td> <td> 0.073</td> <td>   -0.006</td> <td>    0.143</td>\n",
       "</tr>\n",
       "<tr>\n",
       "  <th>Total Time Spent on Website</th>            <td>    1.0474</td> <td>    0.044</td> <td>   23.799</td> <td> 0.000</td> <td>    0.961</td> <td>    1.134</td>\n",
       "</tr>\n",
       "<tr>\n",
       "  <th>Page Views Per Visit</th>                   <td>   -0.4384</td> <td>    0.048</td> <td>   -9.180</td> <td> 0.000</td> <td>   -0.532</td> <td>   -0.345</td>\n",
       "</tr>\n",
       "<tr>\n",
       "  <th>Last Activity</th>                          <td>    0.0980</td> <td>    0.012</td> <td>    8.037</td> <td> 0.000</td> <td>    0.074</td> <td>    0.122</td>\n",
       "</tr>\n",
       "<tr>\n",
       "  <th>Tags</th>                                   <td>    0.1076</td> <td>    0.006</td> <td>   16.762</td> <td> 0.000</td> <td>    0.095</td> <td>    0.120</td>\n",
       "</tr>\n",
       "<tr>\n",
       "  <th>Asymmetrique Activity Score</th>            <td>    0.8670</td> <td>    0.051</td> <td>   16.962</td> <td> 0.000</td> <td>    0.767</td> <td>    0.967</td>\n",
       "</tr>\n",
       "<tr>\n",
       "  <th>Asymmetrique Profile Score</th>             <td>    0.2829</td> <td>    0.043</td> <td>    6.538</td> <td> 0.000</td> <td>    0.198</td> <td>    0.368</td>\n",
       "</tr>\n",
       "<tr>\n",
       "  <th>A free copy of Mastering The Interview</th> <td>   -0.1104</td> <td>    0.089</td> <td>   -1.244</td> <td> 0.213</td> <td>   -0.284</td> <td>    0.063</td>\n",
       "</tr>\n",
       "</table>"
      ],
      "text/plain": [
       "<class 'statsmodels.iolib.summary.Summary'>\n",
       "\"\"\"\n",
       "                 Generalized Linear Model Regression Results                  \n",
       "==============================================================================\n",
       "Dep. Variable:              Converted   No. Observations:                 4307\n",
       "Model:                            GLM   Df Residuals:                     4295\n",
       "Model Family:                Binomial   Df Model:                           11\n",
       "Link Function:                  logit   Scale:                          1.0000\n",
       "Method:                          IRLS   Log-Likelihood:                -1999.4\n",
       "Date:                Mon, 07 Oct 2019   Deviance:                       3998.8\n",
       "Time:                        04:46:44   Pearson chi2:                 4.69e+03\n",
       "No. Iterations:                     6   Covariance Type:             nonrobust\n",
       "==========================================================================================================\n",
       "                                             coef    std err          z      P>|z|      [0.025      0.975]\n",
       "----------------------------------------------------------------------------------------------------------\n",
       "const                                     -3.5801      0.163    -21.932      0.000      -3.900      -3.260\n",
       "Lead Origin                                0.6241      0.082      7.587      0.000       0.463       0.785\n",
       "Lead Source                                0.1474      0.015      9.877      0.000       0.118       0.177\n",
       "Do Not Email                              -1.6066      0.188     -8.533      0.000      -1.976      -1.238\n",
       "TotalVisits                                0.0685      0.038      1.794      0.073      -0.006       0.143\n",
       "Total Time Spent on Website                1.0474      0.044     23.799      0.000       0.961       1.134\n",
       "Page Views Per Visit                      -0.4384      0.048     -9.180      0.000      -0.532      -0.345\n",
       "Last Activity                              0.0980      0.012      8.037      0.000       0.074       0.122\n",
       "Tags                                       0.1076      0.006     16.762      0.000       0.095       0.120\n",
       "Asymmetrique Activity Score                0.8670      0.051     16.962      0.000       0.767       0.967\n",
       "Asymmetrique Profile Score                 0.2829      0.043      6.538      0.000       0.198       0.368\n",
       "A free copy of Mastering The Interview    -0.1104      0.089     -1.244      0.213      -0.284       0.063\n",
       "==========================================================================================================\n",
       "\"\"\""
      ]
     },
     "execution_count": 1191,
     "metadata": {},
     "output_type": "execute_result"
    }
   ],
   "source": [
    "# Let's re-run the model using the selected variables\n",
    "X_train_sm = sm.add_constant(X_train[col3])\n",
    "logm3 = sm.GLM(y_train,X_train_sm, family = sm.families.Binomial())\n",
    "res = logm3.fit()\n",
    "res.summary()"
   ]
  },
  {
   "cell_type": "code",
   "execution_count": 1192,
   "metadata": {},
   "outputs": [],
   "source": [
    "y_train_pred = res.predict(X_train_sm).values.reshape(-1)"
   ]
  },
  {
   "cell_type": "code",
   "execution_count": 1193,
   "metadata": {},
   "outputs": [
    {
     "data": {
      "text/plain": [
       "array([0.84139781, 0.19325753, 0.86597898, 0.91805901, 0.1405775 ,\n",
       "       0.10220485, 0.13694429, 0.64441722, 0.8199159 , 0.06192533])"
      ]
     },
     "execution_count": 1193,
     "metadata": {},
     "output_type": "execute_result"
    }
   ],
   "source": [
    "y_train_pred[:10]"
   ]
  },
  {
   "cell_type": "code",
   "execution_count": 1194,
   "metadata": {},
   "outputs": [],
   "source": [
    "y_train_pred_final['Converted_Prob'] = y_train_pred"
   ]
  },
  {
   "cell_type": "code",
   "execution_count": 1195,
   "metadata": {},
   "outputs": [
    {
     "data": {
      "text/html": [
       "<div>\n",
       "<style scoped>\n",
       "    .dataframe tbody tr th:only-of-type {\n",
       "        vertical-align: middle;\n",
       "    }\n",
       "\n",
       "    .dataframe tbody tr th {\n",
       "        vertical-align: top;\n",
       "    }\n",
       "\n",
       "    .dataframe thead th {\n",
       "        text-align: right;\n",
       "    }\n",
       "</style>\n",
       "<table border=\"1\" class=\"dataframe\">\n",
       "  <thead>\n",
       "    <tr style=\"text-align: right;\">\n",
       "      <th></th>\n",
       "      <th>Converted</th>\n",
       "      <th>Converted_Prob</th>\n",
       "      <th>Prospect ID</th>\n",
       "      <th>predicted</th>\n",
       "    </tr>\n",
       "  </thead>\n",
       "  <tbody>\n",
       "    <tr>\n",
       "      <th>0</th>\n",
       "      <td>1</td>\n",
       "      <td>0.841398</td>\n",
       "      <td>8050</td>\n",
       "      <td>1</td>\n",
       "    </tr>\n",
       "    <tr>\n",
       "      <th>1</th>\n",
       "      <td>1</td>\n",
       "      <td>0.193258</td>\n",
       "      <td>4317</td>\n",
       "      <td>0</td>\n",
       "    </tr>\n",
       "    <tr>\n",
       "      <th>2</th>\n",
       "      <td>1</td>\n",
       "      <td>0.865979</td>\n",
       "      <td>580</td>\n",
       "      <td>1</td>\n",
       "    </tr>\n",
       "    <tr>\n",
       "      <th>3</th>\n",
       "      <td>1</td>\n",
       "      <td>0.918059</td>\n",
       "      <td>846</td>\n",
       "      <td>1</td>\n",
       "    </tr>\n",
       "    <tr>\n",
       "      <th>4</th>\n",
       "      <td>0</td>\n",
       "      <td>0.140577</td>\n",
       "      <td>2348</td>\n",
       "      <td>0</td>\n",
       "    </tr>\n",
       "  </tbody>\n",
       "</table>\n",
       "</div>"
      ],
      "text/plain": [
       "   Converted  Converted_Prob  Prospect ID  predicted\n",
       "0          1        0.841398         8050          1\n",
       "1          1        0.193258         4317          0\n",
       "2          1        0.865979          580          1\n",
       "3          1        0.918059          846          1\n",
       "4          0        0.140577         2348          0"
      ]
     },
     "execution_count": 1195,
     "metadata": {},
     "output_type": "execute_result"
    }
   ],
   "source": [
    "# Creating new column 'predicted' with 1 if Churn_Prob > 0.5 else 0\n",
    "y_train_pred_final['predicted'] = y_train_pred_final.Converted_Prob.map(lambda x: 1 if x > 0.5 else 0)\n",
    "y_train_pred_final.head()"
   ]
  },
  {
   "cell_type": "code",
   "execution_count": 1196,
   "metadata": {},
   "outputs": [
    {
     "name": "stdout",
     "output_type": "stream",
     "text": [
      "0.7901091246807522\n"
     ]
    }
   ],
   "source": [
    "# Let's check the overall accuracy.\n",
    "print(metrics.accuracy_score(y_train_pred_final.Converted, y_train_pred_final.predicted))"
   ]
  },
  {
   "cell_type": "code",
   "execution_count": 1197,
   "metadata": {
    "scrolled": true
   },
   "outputs": [
    {
     "data": {
      "text/html": [
       "<div>\n",
       "<style scoped>\n",
       "    .dataframe tbody tr th:only-of-type {\n",
       "        vertical-align: middle;\n",
       "    }\n",
       "\n",
       "    .dataframe tbody tr th {\n",
       "        vertical-align: top;\n",
       "    }\n",
       "\n",
       "    .dataframe thead th {\n",
       "        text-align: right;\n",
       "    }\n",
       "</style>\n",
       "<table border=\"1\" class=\"dataframe\">\n",
       "  <thead>\n",
       "    <tr style=\"text-align: right;\">\n",
       "      <th></th>\n",
       "      <th>Features</th>\n",
       "      <th>VIF</th>\n",
       "    </tr>\n",
       "  </thead>\n",
       "  <tbody>\n",
       "    <tr>\n",
       "      <th>6</th>\n",
       "      <td>Last Activity</td>\n",
       "      <td>4.55</td>\n",
       "    </tr>\n",
       "    <tr>\n",
       "      <th>7</th>\n",
       "      <td>Tags</td>\n",
       "      <td>4.27</td>\n",
       "    </tr>\n",
       "    <tr>\n",
       "      <th>0</th>\n",
       "      <td>Lead Origin</td>\n",
       "      <td>3.58</td>\n",
       "    </tr>\n",
       "    <tr>\n",
       "      <th>1</th>\n",
       "      <td>Lead Source</td>\n",
       "      <td>2.53</td>\n",
       "    </tr>\n",
       "    <tr>\n",
       "      <th>10</th>\n",
       "      <td>A free copy of Mastering The Interview</td>\n",
       "      <td>1.91</td>\n",
       "    </tr>\n",
       "    <tr>\n",
       "      <th>5</th>\n",
       "      <td>Page Views Per Visit</td>\n",
       "      <td>1.26</td>\n",
       "    </tr>\n",
       "    <tr>\n",
       "      <th>3</th>\n",
       "      <td>TotalVisits</td>\n",
       "      <td>1.22</td>\n",
       "    </tr>\n",
       "    <tr>\n",
       "      <th>9</th>\n",
       "      <td>Asymmetrique Profile Score</td>\n",
       "      <td>1.17</td>\n",
       "    </tr>\n",
       "    <tr>\n",
       "      <th>2</th>\n",
       "      <td>Do Not Email</td>\n",
       "      <td>1.10</td>\n",
       "    </tr>\n",
       "    <tr>\n",
       "      <th>4</th>\n",
       "      <td>Total Time Spent on Website</td>\n",
       "      <td>1.10</td>\n",
       "    </tr>\n",
       "    <tr>\n",
       "      <th>8</th>\n",
       "      <td>Asymmetrique Activity Score</td>\n",
       "      <td>1.03</td>\n",
       "    </tr>\n",
       "  </tbody>\n",
       "</table>\n",
       "</div>"
      ],
      "text/plain": [
       "                                  Features   VIF\n",
       "6                            Last Activity  4.55\n",
       "7                                     Tags  4.27\n",
       "0                              Lead Origin  3.58\n",
       "1                              Lead Source  2.53\n",
       "10  A free copy of Mastering The Interview  1.91\n",
       "5                     Page Views Per Visit  1.26\n",
       "3                              TotalVisits  1.22\n",
       "9               Asymmetrique Profile Score  1.17\n",
       "2                             Do Not Email  1.10\n",
       "4              Total Time Spent on Website  1.10\n",
       "8              Asymmetrique Activity Score  1.03"
      ]
     },
     "execution_count": 1197,
     "metadata": {},
     "output_type": "execute_result"
    }
   ],
   "source": [
    "vif = pd.DataFrame()\n",
    "vif['Features'] = X_train[col3].columns\n",
    "vif['VIF'] = [variance_inflation_factor(X_train[col3].values, i) for i in range(X_train[col3].shape[1])]\n",
    "vif['VIF'] = round(vif['VIF'], 2)\n",
    "vif = vif.sort_values(by = \"VIF\", ascending = False)\n",
    "vif"
   ]
  },
  {
   "cell_type": "markdown",
   "metadata": {},
   "source": [
    "All variables have a good value of VIF. So we need not drop any more variables and we can proceed with making predictions using this model only"
   ]
  },
  {
   "cell_type": "code",
   "execution_count": 1198,
   "metadata": {},
   "outputs": [
    {
     "data": {
      "text/plain": [
       "array([[2121,  385],\n",
       "       [ 519, 1282]], dtype=int64)"
      ]
     },
     "execution_count": 1198,
     "metadata": {},
     "output_type": "execute_result"
    }
   ],
   "source": [
    "# Let's take a look at the confusion matrix again \n",
    "confusion = metrics.confusion_matrix(y_train_pred_final.Converted, y_train_pred_final.predicted )\n",
    "confusion"
   ]
  },
  {
   "cell_type": "code",
   "execution_count": 1199,
   "metadata": {},
   "outputs": [],
   "source": [
    "TP = confusion[1,1] # true positive \n",
    "TN = confusion[0,0] # true negatives\n",
    "FP = confusion[0,1] # false positives\n",
    "FN = confusion[1,0] # false negatives"
   ]
  },
  {
   "cell_type": "code",
   "execution_count": 1200,
   "metadata": {},
   "outputs": [
    {
     "data": {
      "text/plain": [
       "0.7118267629094948"
      ]
     },
     "execution_count": 1200,
     "metadata": {},
     "output_type": "execute_result"
    }
   ],
   "source": [
    "# Let's see the sensitivity of our logistic regression model\n",
    "TP / float(TP+FN)"
   ]
  },
  {
   "cell_type": "code",
   "execution_count": 1201,
   "metadata": {},
   "outputs": [
    {
     "data": {
      "text/plain": [
       "0.8463687150837989"
      ]
     },
     "execution_count": 1201,
     "metadata": {},
     "output_type": "execute_result"
    }
   ],
   "source": [
    "# Let us calculate specificity\n",
    "TN / float(TN+FP)"
   ]
  },
  {
   "cell_type": "code",
   "execution_count": 1202,
   "metadata": {},
   "outputs": [
    {
     "name": "stdout",
     "output_type": "stream",
     "text": [
      "0.15363128491620112\n"
     ]
    }
   ],
   "source": [
    "# Calculate false postive rate - predicting churn when customer does not have churned\n",
    "print(FP/ float(TN+FP))"
   ]
  },
  {
   "cell_type": "code",
   "execution_count": 1203,
   "metadata": {},
   "outputs": [
    {
     "name": "stdout",
     "output_type": "stream",
     "text": [
      "0.7690461907618477\n"
     ]
    }
   ],
   "source": [
    "# positive predictive value \n",
    "print (TP / float(TP+FP))"
   ]
  },
  {
   "cell_type": "code",
   "execution_count": 1204,
   "metadata": {},
   "outputs": [
    {
     "name": "stdout",
     "output_type": "stream",
     "text": [
      "0.803409090909091\n"
     ]
    }
   ],
   "source": [
    "# Negative predictive value\n",
    "print (TN / float(TN+ FN))"
   ]
  },
  {
   "cell_type": "markdown",
   "metadata": {},
   "source": [
    "An ROC curve demonstrates several things:\n",
    "\n",
    "It shows the tradeoff between sensitivity and specificity (any increase in sensitivity will be accompanied by a decrease in specificity).\n",
    "The closer the curve follows the left-hand border and then the top border of the ROC space, the more accurate the test.\n",
    "The closer the curve comes to the 45-degree diagonal of the ROC space, the less accurate the test."
   ]
  },
  {
   "cell_type": "code",
   "execution_count": 1205,
   "metadata": {},
   "outputs": [],
   "source": [
    "def draw_roc( actual, probs ):\n",
    "    fpr, tpr, thresholds = metrics.roc_curve( actual, probs,\n",
    "                                              drop_intermediate = False )\n",
    "    auc_score = metrics.roc_auc_score( actual, probs )\n",
    "    plt.figure(figsize=(5, 5))\n",
    "    plt.plot( fpr, tpr, label='ROC curve (area = %0.2f)' % auc_score )\n",
    "    plt.plot([0, 1], [0, 1], 'k--')\n",
    "    plt.xlim([0.0, 1.0])\n",
    "    plt.ylim([0.0, 1.05])\n",
    "    plt.xlabel('False Positive Rate or [1 - True Negative Rate]')\n",
    "    plt.ylabel('True Positive Rate')\n",
    "    plt.title('Receiver operating characteristic example')\n",
    "    plt.legend(loc=\"lower right\")\n",
    "    plt.show()\n",
    "\n",
    "    return None"
   ]
  },
  {
   "cell_type": "code",
   "execution_count": 1206,
   "metadata": {},
   "outputs": [],
   "source": [
    "fpr, tpr, thresholds = metrics.roc_curve( y_train_pred_final.Converted, y_train_pred_final.Converted_Prob, drop_intermediate = False )"
   ]
  },
  {
   "cell_type": "code",
   "execution_count": 1207,
   "metadata": {},
   "outputs": [
    {
     "data": {
      "image/png": "[encoded data removed]",
      "text/plain": [
       "<Figure size 360x360 with 1 Axes>"
      ]
     },
     "metadata": {
      "needs_background": "light"
     },
     "output_type": "display_data"
    }
   ],
   "source": [
    "draw_roc(y_train_pred_final.Converted, y_train_pred_final.Converted_Prob)"
   ]
  },
  {
   "cell_type": "markdown",
   "metadata": {},
   "source": [
    "Optimal cutoff probability is that prob where we get balanced sensitivity and specificity"
   ]
  },
  {
   "cell_type": "code",
   "execution_count": 1208,
   "metadata": {},
   "outputs": [
    {
     "data": {
      "text/html": [
       "<div>\n",
       "<style scoped>\n",
       "    .dataframe tbody tr th:only-of-type {\n",
       "        vertical-align: middle;\n",
       "    }\n",
       "\n",
       "    .dataframe tbody tr th {\n",
       "        vertical-align: top;\n",
       "    }\n",
       "\n",
       "    .dataframe thead th {\n",
       "        text-align: right;\n",
       "    }\n",
       "</style>\n",
       "<table border=\"1\" class=\"dataframe\">\n",
       "  <thead>\n",
       "    <tr style=\"text-align: right;\">\n",
       "      <th></th>\n",
       "      <th>Converted</th>\n",
       "      <th>Converted_Prob</th>\n",
       "      <th>Prospect ID</th>\n",
       "      <th>predicted</th>\n",
       "      <th>0.0</th>\n",
       "      <th>0.1</th>\n",
       "      <th>0.2</th>\n",
       "      <th>0.3</th>\n",
       "      <th>0.4</th>\n",
       "      <th>0.5</th>\n",
       "      <th>0.6</th>\n",
       "      <th>0.7</th>\n",
       "      <th>0.8</th>\n",
       "      <th>0.9</th>\n",
       "    </tr>\n",
       "  </thead>\n",
       "  <tbody>\n",
       "    <tr>\n",
       "      <th>0</th>\n",
       "      <td>1</td>\n",
       "      <td>0.841398</td>\n",
       "      <td>8050</td>\n",
       "      <td>1</td>\n",
       "      <td>1</td>\n",
       "      <td>1</td>\n",
       "      <td>1</td>\n",
       "      <td>1</td>\n",
       "      <td>1</td>\n",
       "      <td>1</td>\n",
       "      <td>1</td>\n",
       "      <td>1</td>\n",
       "      <td>1</td>\n",
       "      <td>0</td>\n",
       "    </tr>\n",
       "    <tr>\n",
       "      <th>1</th>\n",
       "      <td>1</td>\n",
       "      <td>0.193258</td>\n",
       "      <td>4317</td>\n",
       "      <td>0</td>\n",
       "      <td>1</td>\n",
       "      <td>1</td>\n",
       "      <td>0</td>\n",
       "      <td>0</td>\n",
       "      <td>0</td>\n",
       "      <td>0</td>\n",
       "      <td>0</td>\n",
       "      <td>0</td>\n",
       "      <td>0</td>\n",
       "      <td>0</td>\n",
       "    </tr>\n",
       "    <tr>\n",
       "      <th>2</th>\n",
       "      <td>1</td>\n",
       "      <td>0.865979</td>\n",
       "      <td>580</td>\n",
       "      <td>1</td>\n",
       "      <td>1</td>\n",
       "      <td>1</td>\n",
       "      <td>1</td>\n",
       "      <td>1</td>\n",
       "      <td>1</td>\n",
       "      <td>1</td>\n",
       "      <td>1</td>\n",
       "      <td>1</td>\n",
       "      <td>1</td>\n",
       "      <td>0</td>\n",
       "    </tr>\n",
       "    <tr>\n",
       "      <th>3</th>\n",
       "      <td>1</td>\n",
       "      <td>0.918059</td>\n",
       "      <td>846</td>\n",
       "      <td>1</td>\n",
       "      <td>1</td>\n",
       "      <td>1</td>\n",
       "      <td>1</td>\n",
       "      <td>1</td>\n",
       "      <td>1</td>\n",
       "      <td>1</td>\n",
       "      <td>1</td>\n",
       "      <td>1</td>\n",
       "      <td>1</td>\n",
       "      <td>1</td>\n",
       "    </tr>\n",
       "    <tr>\n",
       "      <th>4</th>\n",
       "      <td>0</td>\n",
       "      <td>0.140577</td>\n",
       "      <td>2348</td>\n",
       "      <td>0</td>\n",
       "      <td>1</td>\n",
       "      <td>1</td>\n",
       "      <td>0</td>\n",
       "      <td>0</td>\n",
       "      <td>0</td>\n",
       "      <td>0</td>\n",
       "      <td>0</td>\n",
       "      <td>0</td>\n",
       "      <td>0</td>\n",
       "      <td>0</td>\n",
       "    </tr>\n",
       "  </tbody>\n",
       "</table>\n",
       "</div>"
      ],
      "text/plain": [
       "   Converted  Converted_Prob  Prospect ID  predicted  0.0  0.1  0.2  0.3  0.4  \\\n",
       "0          1        0.841398         8050          1    1    1    1    1    1   \n",
       "1          1        0.193258         4317          0    1    1    0    0    0   \n",
       "2          1        0.865979          580          1    1    1    1    1    1   \n",
       "3          1        0.918059          846          1    1    1    1    1    1   \n",
       "4          0        0.140577         2348          0    1    1    0    0    0   \n",
       "\n",
       "   0.5  0.6  0.7  0.8  0.9  \n",
       "0    1    1    1    1    0  \n",
       "1    0    0    0    0    0  \n",
       "2    1    1    1    1    0  \n",
       "3    1    1    1    1    1  \n",
       "4    0    0    0    0    0  "
      ]
     },
     "execution_count": 1208,
     "metadata": {},
     "output_type": "execute_result"
    }
   ],
   "source": [
    "# Let's create columns with different probability cutoffs \n",
    "numbers = [float(x)/10 for x in range(10)]\n",
    "for i in numbers:\n",
    "    y_train_pred_final[i]= y_train_pred_final.Converted_Prob.map(lambda x: 1 if x > i else 0)\n",
    "y_train_pred_final.head()"
   ]
  },
  {
   "cell_type": "code",
   "execution_count": 1209,
   "metadata": {},
   "outputs": [
    {
     "name": "stdout",
     "output_type": "stream",
     "text": [
      "     prob  accuracy     sensi     speci\n",
      "0.0   0.0  0.418156  1.000000  0.000000\n",
      "0.1   0.1  0.579522  0.975014  0.295291\n",
      "0.2   0.2  0.693987  0.931149  0.523543\n",
      "0.3   0.3  0.760390  0.875069  0.677973\n",
      "0.4   0.4  0.787091  0.801777  0.776536\n",
      "0.5   0.5  0.790109  0.711827  0.846369\n",
      "0.6   0.6  0.777804  0.619656  0.891460\n",
      "0.7   0.7  0.743673  0.484175  0.930168\n",
      "0.8   0.8  0.705131  0.345919  0.963288\n",
      "0.9   0.9  0.641746  0.159356  0.988428\n"
     ]
    }
   ],
   "source": [
    "# Now let's calculate accuracy sensitivity and specificity for various probability cutoffs.\n",
    "cutoff_df = pd.DataFrame( columns = ['prob','accuracy','sensi','speci'])\n",
    "from sklearn.metrics import confusion_matrix\n",
    "\n",
    "# TP = confusion[1,1] # true positive \n",
    "# TN = confusion[0,0] # true negatives\n",
    "# FP = confusion[0,1] # false positives\n",
    "# FN = confusion[1,0] # false negatives\n",
    "\n",
    "num = [0.0,0.1,0.2,0.3,0.4,0.5,0.6,0.7,0.8,0.9]\n",
    "for i in num:\n",
    "    cm1 = metrics.confusion_matrix(y_train_pred_final.Converted, y_train_pred_final[i] )\n",
    "    total1=sum(sum(cm1))\n",
    "    accuracy = (cm1[0,0]+cm1[1,1])/total1\n",
    "    \n",
    "    speci = cm1[0,0]/(cm1[0,0]+cm1[0,1])\n",
    "    sensi = cm1[1,1]/(cm1[1,0]+cm1[1,1])\n",
    "    cutoff_df.loc[i] =[ i ,accuracy,sensi,speci]\n",
    "print(cutoff_df)"
   ]
  },
  {
   "cell_type": "code",
   "execution_count": 1210,
   "metadata": {},
   "outputs": [
    {
     "data": {
      "image/png": "[encoded data removed]",
      "text/plain": [
       "<Figure size 432x288 with 1 Axes>"
      ]
     },
     "metadata": {
      "needs_background": "light"
     },
     "output_type": "display_data"
    }
   ],
   "source": [
    "# Let's plot accuracy sensitivity and specificity for various probabilities.\n",
    "cutoff_df.plot.line(x='prob', y=['accuracy','sensi','speci'])\n",
    "plt.show()"
   ]
  },
  {
   "cell_type": "markdown",
   "metadata": {},
   "source": [
    "From the curve above, 0.42 is the optimum point to take it as a cutoff probability."
   ]
  },
  {
   "cell_type": "code",
   "execution_count": 1211,
   "metadata": {},
   "outputs": [
    {
     "data": {
      "text/html": [
       "<div>\n",
       "<style scoped>\n",
       "    .dataframe tbody tr th:only-of-type {\n",
       "        vertical-align: middle;\n",
       "    }\n",
       "\n",
       "    .dataframe tbody tr th {\n",
       "        vertical-align: top;\n",
       "    }\n",
       "\n",
       "    .dataframe thead th {\n",
       "        text-align: right;\n",
       "    }\n",
       "</style>\n",
       "<table border=\"1\" class=\"dataframe\">\n",
       "  <thead>\n",
       "    <tr style=\"text-align: right;\">\n",
       "      <th></th>\n",
       "      <th>Converted</th>\n",
       "      <th>Converted_Prob</th>\n",
       "      <th>Prospect ID</th>\n",
       "      <th>predicted</th>\n",
       "      <th>0.0</th>\n",
       "      <th>0.1</th>\n",
       "      <th>0.2</th>\n",
       "      <th>0.3</th>\n",
       "      <th>0.4</th>\n",
       "      <th>0.5</th>\n",
       "      <th>0.6</th>\n",
       "      <th>0.7</th>\n",
       "      <th>0.8</th>\n",
       "      <th>0.9</th>\n",
       "      <th>final_predicted</th>\n",
       "    </tr>\n",
       "  </thead>\n",
       "  <tbody>\n",
       "    <tr>\n",
       "      <th>0</th>\n",
       "      <td>1</td>\n",
       "      <td>0.841398</td>\n",
       "      <td>8050</td>\n",
       "      <td>1</td>\n",
       "      <td>1</td>\n",
       "      <td>1</td>\n",
       "      <td>1</td>\n",
       "      <td>1</td>\n",
       "      <td>1</td>\n",
       "      <td>1</td>\n",
       "      <td>1</td>\n",
       "      <td>1</td>\n",
       "      <td>1</td>\n",
       "      <td>0</td>\n",
       "      <td>1</td>\n",
       "    </tr>\n",
       "    <tr>\n",
       "      <th>1</th>\n",
       "      <td>1</td>\n",
       "      <td>0.193258</td>\n",
       "      <td>4317</td>\n",
       "      <td>0</td>\n",
       "      <td>1</td>\n",
       "      <td>1</td>\n",
       "      <td>0</td>\n",
       "      <td>0</td>\n",
       "      <td>0</td>\n",
       "      <td>0</td>\n",
       "      <td>0</td>\n",
       "      <td>0</td>\n",
       "      <td>0</td>\n",
       "      <td>0</td>\n",
       "      <td>0</td>\n",
       "    </tr>\n",
       "    <tr>\n",
       "      <th>2</th>\n",
       "      <td>1</td>\n",
       "      <td>0.865979</td>\n",
       "      <td>580</td>\n",
       "      <td>1</td>\n",
       "      <td>1</td>\n",
       "      <td>1</td>\n",
       "      <td>1</td>\n",
       "      <td>1</td>\n",
       "      <td>1</td>\n",
       "      <td>1</td>\n",
       "      <td>1</td>\n",
       "      <td>1</td>\n",
       "      <td>1</td>\n",
       "      <td>0</td>\n",
       "      <td>1</td>\n",
       "    </tr>\n",
       "    <tr>\n",
       "      <th>3</th>\n",
       "      <td>1</td>\n",
       "      <td>0.918059</td>\n",
       "      <td>846</td>\n",
       "      <td>1</td>\n",
       "      <td>1</td>\n",
       "      <td>1</td>\n",
       "      <td>1</td>\n",
       "      <td>1</td>\n",
       "      <td>1</td>\n",
       "      <td>1</td>\n",
       "      <td>1</td>\n",
       "      <td>1</td>\n",
       "      <td>1</td>\n",
       "      <td>1</td>\n",
       "      <td>1</td>\n",
       "    </tr>\n",
       "    <tr>\n",
       "      <th>4</th>\n",
       "      <td>0</td>\n",
       "      <td>0.140577</td>\n",
       "      <td>2348</td>\n",
       "      <td>0</td>\n",
       "      <td>1</td>\n",
       "      <td>1</td>\n",
       "      <td>0</td>\n",
       "      <td>0</td>\n",
       "      <td>0</td>\n",
       "      <td>0</td>\n",
       "      <td>0</td>\n",
       "      <td>0</td>\n",
       "      <td>0</td>\n",
       "      <td>0</td>\n",
       "      <td>0</td>\n",
       "    </tr>\n",
       "  </tbody>\n",
       "</table>\n",
       "</div>"
      ],
      "text/plain": [
       "   Converted  Converted_Prob  Prospect ID  predicted  0.0  0.1  0.2  0.3  0.4  \\\n",
       "0          1        0.841398         8050          1    1    1    1    1    1   \n",
       "1          1        0.193258         4317          0    1    1    0    0    0   \n",
       "2          1        0.865979          580          1    1    1    1    1    1   \n",
       "3          1        0.918059          846          1    1    1    1    1    1   \n",
       "4          0        0.140577         2348          0    1    1    0    0    0   \n",
       "\n",
       "   0.5  0.6  0.7  0.8  0.9  final_predicted  \n",
       "0    1    1    1    1    0                1  \n",
       "1    0    0    0    0    0                0  \n",
       "2    1    1    1    1    0                1  \n",
       "3    1    1    1    1    1                1  \n",
       "4    0    0    0    0    0                0  "
      ]
     },
     "execution_count": 1211,
     "metadata": {},
     "output_type": "execute_result"
    }
   ],
   "source": [
    "y_train_pred_final['final_predicted'] = y_train_pred_final.Converted_Prob.map( lambda x: 1 if x > 0.3 else 0)\n",
    "\n",
    "y_train_pred_final.head()"
   ]
  },
  {
   "cell_type": "code",
   "execution_count": 1212,
   "metadata": {},
   "outputs": [
    {
     "data": {
      "text/plain": [
       "0.7603900626886464"
      ]
     },
     "execution_count": 1212,
     "metadata": {},
     "output_type": "execute_result"
    }
   ],
   "source": [
    "# Let's check the overall accuracy.\n",
    "metrics.accuracy_score(y_train_pred_final.Converted, y_train_pred_final.final_predicted)"
   ]
  },
  {
   "cell_type": "code",
   "execution_count": 1213,
   "metadata": {},
   "outputs": [
    {
     "data": {
      "text/plain": [
       "array([[1699,  807],\n",
       "       [ 225, 1576]], dtype=int64)"
      ]
     },
     "execution_count": 1213,
     "metadata": {},
     "output_type": "execute_result"
    }
   ],
   "source": [
    "confusion2 = metrics.confusion_matrix(y_train_pred_final.Converted, y_train_pred_final.final_predicted )\n",
    "confusion2"
   ]
  },
  {
   "cell_type": "code",
   "execution_count": 1214,
   "metadata": {},
   "outputs": [],
   "source": [
    "TP = confusion2[1,1] # true positive \n",
    "TN = confusion2[0,0] # true negatives\n",
    "FP = confusion2[0,1] # false positives\n",
    "FN = confusion2[1,0] # false negatives"
   ]
  },
  {
   "cell_type": "code",
   "execution_count": 1215,
   "metadata": {},
   "outputs": [
    {
     "data": {
      "text/plain": [
       "0.8750694058856191"
      ]
     },
     "execution_count": 1215,
     "metadata": {},
     "output_type": "execute_result"
    }
   ],
   "source": [
    "# Let's see the sensitivity of our logistic regression model\n",
    "TP / float(TP+FN)"
   ]
  },
  {
   "cell_type": "code",
   "execution_count": 1216,
   "metadata": {},
   "outputs": [
    {
     "data": {
      "text/plain": [
       "0.6779728651237031"
      ]
     },
     "execution_count": 1216,
     "metadata": {},
     "output_type": "execute_result"
    }
   ],
   "source": [
    "# Let us calculate specificity\n",
    "TN / float(TN+FP)"
   ]
  },
  {
   "cell_type": "code",
   "execution_count": 1217,
   "metadata": {},
   "outputs": [
    {
     "name": "stdout",
     "output_type": "stream",
     "text": [
      "0.32202713487629686\n"
     ]
    }
   ],
   "source": [
    "# Calculate false postive rate - predicting churn when customer does not have churned\n",
    "print(FP/ float(TN+FP))"
   ]
  },
  {
   "cell_type": "code",
   "execution_count": 1218,
   "metadata": {},
   "outputs": [
    {
     "name": "stdout",
     "output_type": "stream",
     "text": [
      "0.6613512379353755\n"
     ]
    }
   ],
   "source": [
    "# Positive predictive value \n",
    "print (TP / float(TP+FP))"
   ]
  },
  {
   "cell_type": "code",
   "execution_count": 1219,
   "metadata": {},
   "outputs": [
    {
     "name": "stdout",
     "output_type": "stream",
     "text": [
      "0.8830561330561331\n"
     ]
    }
   ],
   "source": [
    "# Negative predictive value\n",
    "print (TN / float(TN+ FN))"
   ]
  },
  {
   "cell_type": "markdown",
   "metadata": {},
   "source": [
    "Making predictions on test set"
   ]
  },
  {
   "cell_type": "code",
   "execution_count": 1220,
   "metadata": {},
   "outputs": [],
   "source": [
    "X_test[['TotalVisits','Total Time Spent on Website','Page Views Per Visit','Asymmetrique Activity Score','Asymmetrique Profile Score']] = scaler.fit_transform(X_test[['TotalVisits','Total Time Spent on Website','Page Views Per Visit','Asymmetrique Activity Score','Asymmetrique Profile Score']])"
   ]
  },
  {
   "cell_type": "code",
   "execution_count": 1221,
   "metadata": {},
   "outputs": [
    {
     "data": {
      "text/html": [
       "<div>\n",
       "<style scoped>\n",
       "    .dataframe tbody tr th:only-of-type {\n",
       "        vertical-align: middle;\n",
       "    }\n",
       "\n",
       "    .dataframe tbody tr th {\n",
       "        vertical-align: top;\n",
       "    }\n",
       "\n",
       "    .dataframe thead th {\n",
       "        text-align: right;\n",
       "    }\n",
       "</style>\n",
       "<table border=\"1\" class=\"dataframe\">\n",
       "  <thead>\n",
       "    <tr style=\"text-align: right;\">\n",
       "      <th></th>\n",
       "      <th>Lead Origin</th>\n",
       "      <th>Lead Source</th>\n",
       "      <th>Do Not Email</th>\n",
       "      <th>TotalVisits</th>\n",
       "      <th>Total Time Spent on Website</th>\n",
       "      <th>Page Views Per Visit</th>\n",
       "      <th>Last Activity</th>\n",
       "      <th>Tags</th>\n",
       "      <th>Asymmetrique Activity Score</th>\n",
       "      <th>Asymmetrique Profile Score</th>\n",
       "      <th>A free copy of Mastering The Interview</th>\n",
       "    </tr>\n",
       "  </thead>\n",
       "  <tbody>\n",
       "    <tr>\n",
       "      <th>2291</th>\n",
       "      <td>1</td>\n",
       "      <td>1</td>\n",
       "      <td>0</td>\n",
       "      <td>-0.567657</td>\n",
       "      <td>-0.861249</td>\n",
       "      <td>-0.393514</td>\n",
       "      <td>5</td>\n",
       "      <td>20</td>\n",
       "      <td>-0.988804</td>\n",
       "      <td>0.525786</td>\n",
       "      <td>1</td>\n",
       "    </tr>\n",
       "    <tr>\n",
       "      <th>1730</th>\n",
       "      <td>1</td>\n",
       "      <td>3</td>\n",
       "      <td>0</td>\n",
       "      <td>-0.837525</td>\n",
       "      <td>2.099297</td>\n",
       "      <td>-0.913580</td>\n",
       "      <td>1</td>\n",
       "      <td>20</td>\n",
       "      <td>0.816668</td>\n",
       "      <td>2.252834</td>\n",
       "      <td>0</td>\n",
       "    </tr>\n",
       "    <tr>\n",
       "      <th>6153</th>\n",
       "      <td>1</td>\n",
       "      <td>3</td>\n",
       "      <td>0</td>\n",
       "      <td>-0.027922</td>\n",
       "      <td>0.177762</td>\n",
       "      <td>0.646617</td>\n",
       "      <td>5</td>\n",
       "      <td>8</td>\n",
       "      <td>-0.086068</td>\n",
       "      <td>-0.625579</td>\n",
       "      <td>0</td>\n",
       "    </tr>\n",
       "    <tr>\n",
       "      <th>1687</th>\n",
       "      <td>1</td>\n",
       "      <td>7</td>\n",
       "      <td>0</td>\n",
       "      <td>-0.297790</td>\n",
       "      <td>-0.741153</td>\n",
       "      <td>0.126551</td>\n",
       "      <td>10</td>\n",
       "      <td>12</td>\n",
       "      <td>-0.086068</td>\n",
       "      <td>-0.625579</td>\n",
       "      <td>1</td>\n",
       "    </tr>\n",
       "    <tr>\n",
       "      <th>8991</th>\n",
       "      <td>0</td>\n",
       "      <td>3</td>\n",
       "      <td>0</td>\n",
       "      <td>-0.837525</td>\n",
       "      <td>-0.388144</td>\n",
       "      <td>-0.913580</td>\n",
       "      <td>1</td>\n",
       "      <td>0</td>\n",
       "      <td>1.719404</td>\n",
       "      <td>-1.201262</td>\n",
       "      <td>0</td>\n",
       "    </tr>\n",
       "  </tbody>\n",
       "</table>\n",
       "</div>"
      ],
      "text/plain": [
       "      Lead Origin  Lead Source  Do Not Email  TotalVisits  \\\n",
       "2291            1            1             0    -0.567657   \n",
       "1730            1            3             0    -0.837525   \n",
       "6153            1            3             0    -0.027922   \n",
       "1687            1            7             0    -0.297790   \n",
       "8991            0            3             0    -0.837525   \n",
       "\n",
       "      Total Time Spent on Website  Page Views Per Visit  Last Activity  Tags  \\\n",
       "2291                    -0.861249             -0.393514              5    20   \n",
       "1730                     2.099297             -0.913580              1    20   \n",
       "6153                     0.177762              0.646617              5     8   \n",
       "1687                    -0.741153              0.126551             10    12   \n",
       "8991                    -0.388144             -0.913580              1     0   \n",
       "\n",
       "      Asymmetrique Activity Score  Asymmetrique Profile Score  \\\n",
       "2291                    -0.988804                    0.525786   \n",
       "1730                     0.816668                    2.252834   \n",
       "6153                    -0.086068                   -0.625579   \n",
       "1687                    -0.086068                   -0.625579   \n",
       "8991                     1.719404                   -1.201262   \n",
       "\n",
       "      A free copy of Mastering The Interview  \n",
       "2291                                       1  \n",
       "1730                                       0  \n",
       "6153                                       0  \n",
       "1687                                       1  \n",
       "8991                                       0  "
      ]
     },
     "execution_count": 1221,
     "metadata": {},
     "output_type": "execute_result"
    }
   ],
   "source": [
    "X_test = X_test[col3]\n",
    "X_test.head()"
   ]
  },
  {
   "cell_type": "code",
   "execution_count": 1222,
   "metadata": {},
   "outputs": [],
   "source": [
    "X_test_sm = sm.add_constant(X_test)"
   ]
  },
  {
   "cell_type": "code",
   "execution_count": 1223,
   "metadata": {},
   "outputs": [],
   "source": [
    "y_test_pred = res.predict(X_test_sm)"
   ]
  },
  {
   "cell_type": "code",
   "execution_count": 1224,
   "metadata": {},
   "outputs": [
    {
     "data": {
      "text/plain": [
       "2291    0.147654\n",
       "1730    0.974029\n",
       "6153    0.180458\n",
       "1687    0.296016\n",
       "8991    0.124296\n",
       "8235    0.228779\n",
       "131     0.056221\n",
       "1805    0.701385\n",
       "5362    0.906289\n",
       "7674    0.818016\n",
       "dtype: float64"
      ]
     },
     "execution_count": 1224,
     "metadata": {},
     "output_type": "execute_result"
    }
   ],
   "source": [
    "y_test_pred[:10]"
   ]
  },
  {
   "cell_type": "code",
   "execution_count": 1225,
   "metadata": {},
   "outputs": [],
   "source": [
    "# Converting y_pred to a dataframe which is an array\n",
    "y_pred_1 = pd.DataFrame(y_test_pred)"
   ]
  },
  {
   "cell_type": "code",
   "execution_count": 1226,
   "metadata": {},
   "outputs": [
    {
     "data": {
      "text/html": [
       "<div>\n",
       "<style scoped>\n",
       "    .dataframe tbody tr th:only-of-type {\n",
       "        vertical-align: middle;\n",
       "    }\n",
       "\n",
       "    .dataframe tbody tr th {\n",
       "        vertical-align: top;\n",
       "    }\n",
       "\n",
       "    .dataframe thead th {\n",
       "        text-align: right;\n",
       "    }\n",
       "</style>\n",
       "<table border=\"1\" class=\"dataframe\">\n",
       "  <thead>\n",
       "    <tr style=\"text-align: right;\">\n",
       "      <th></th>\n",
       "      <th>0</th>\n",
       "    </tr>\n",
       "  </thead>\n",
       "  <tbody>\n",
       "    <tr>\n",
       "      <th>2291</th>\n",
       "      <td>0.147654</td>\n",
       "    </tr>\n",
       "    <tr>\n",
       "      <th>1730</th>\n",
       "      <td>0.974029</td>\n",
       "    </tr>\n",
       "    <tr>\n",
       "      <th>6153</th>\n",
       "      <td>0.180458</td>\n",
       "    </tr>\n",
       "    <tr>\n",
       "      <th>1687</th>\n",
       "      <td>0.296016</td>\n",
       "    </tr>\n",
       "    <tr>\n",
       "      <th>8991</th>\n",
       "      <td>0.124296</td>\n",
       "    </tr>\n",
       "  </tbody>\n",
       "</table>\n",
       "</div>"
      ],
      "text/plain": [
       "             0\n",
       "2291  0.147654\n",
       "1730  0.974029\n",
       "6153  0.180458\n",
       "1687  0.296016\n",
       "8991  0.124296"
      ]
     },
     "execution_count": 1226,
     "metadata": {},
     "output_type": "execute_result"
    }
   ],
   "source": [
    "# Let's see the head\n",
    "y_pred_1.head()"
   ]
  },
  {
   "cell_type": "code",
   "execution_count": 1227,
   "metadata": {},
   "outputs": [],
   "source": [
    "# Converting y_test to dataframe\n",
    "y_test_df = pd.DataFrame(y_test)"
   ]
  },
  {
   "cell_type": "code",
   "execution_count": 1228,
   "metadata": {},
   "outputs": [],
   "source": [
    "# Putting CustID to index\n",
    "y_test_df['Prospect ID'] = y_test_df.index\n"
   ]
  },
  {
   "cell_type": "code",
   "execution_count": 1229,
   "metadata": {},
   "outputs": [],
   "source": [
    "# Removing index for both dataframes to append them side by side \n",
    "y_pred_1.reset_index(drop=True, inplace=True)\n",
    "y_test_df.reset_index(drop=True, inplace=True)"
   ]
  },
  {
   "cell_type": "code",
   "execution_count": 1230,
   "metadata": {},
   "outputs": [],
   "source": [
    "# Appending y_test_df and y_pred_1\n",
    "y_pred_final = pd.concat([y_test_df, y_pred_1],axis=1)"
   ]
  },
  {
   "cell_type": "code",
   "execution_count": 1231,
   "metadata": {},
   "outputs": [
    {
     "data": {
      "text/html": [
       "<div>\n",
       "<style scoped>\n",
       "    .dataframe tbody tr th:only-of-type {\n",
       "        vertical-align: middle;\n",
       "    }\n",
       "\n",
       "    .dataframe tbody tr th {\n",
       "        vertical-align: top;\n",
       "    }\n",
       "\n",
       "    .dataframe thead th {\n",
       "        text-align: right;\n",
       "    }\n",
       "</style>\n",
       "<table border=\"1\" class=\"dataframe\">\n",
       "  <thead>\n",
       "    <tr style=\"text-align: right;\">\n",
       "      <th></th>\n",
       "      <th>Converted</th>\n",
       "      <th>Prospect ID</th>\n",
       "      <th>0</th>\n",
       "    </tr>\n",
       "  </thead>\n",
       "  <tbody>\n",
       "    <tr>\n",
       "      <th>0</th>\n",
       "      <td>0</td>\n",
       "      <td>2291</td>\n",
       "      <td>0.147654</td>\n",
       "    </tr>\n",
       "    <tr>\n",
       "      <th>1</th>\n",
       "      <td>1</td>\n",
       "      <td>1730</td>\n",
       "      <td>0.974029</td>\n",
       "    </tr>\n",
       "    <tr>\n",
       "      <th>2</th>\n",
       "      <td>0</td>\n",
       "      <td>6153</td>\n",
       "      <td>0.180458</td>\n",
       "    </tr>\n",
       "    <tr>\n",
       "      <th>3</th>\n",
       "      <td>0</td>\n",
       "      <td>1687</td>\n",
       "      <td>0.296016</td>\n",
       "    </tr>\n",
       "    <tr>\n",
       "      <th>4</th>\n",
       "      <td>0</td>\n",
       "      <td>8991</td>\n",
       "      <td>0.124296</td>\n",
       "    </tr>\n",
       "  </tbody>\n",
       "</table>\n",
       "</div>"
      ],
      "text/plain": [
       "   Converted  Prospect ID         0\n",
       "0          0         2291  0.147654\n",
       "1          1         1730  0.974029\n",
       "2          0         6153  0.180458\n",
       "3          0         1687  0.296016\n",
       "4          0         8991  0.124296"
      ]
     },
     "execution_count": 1231,
     "metadata": {},
     "output_type": "execute_result"
    }
   ],
   "source": [
    "y_pred_final.head()"
   ]
  },
  {
   "cell_type": "code",
   "execution_count": 1232,
   "metadata": {},
   "outputs": [],
   "source": [
    "# Renaming the column \n",
    "y_pred_final= y_pred_final.rename(columns={ 0 : 'Converted_Prob'})"
   ]
  },
  {
   "cell_type": "code",
   "execution_count": 1233,
   "metadata": {},
   "outputs": [],
   "source": [
    "# Rearranging the columns\n",
    "y_pred_final = y_pred_final.reindex_axis(['Prospect ID','Converted','Converted_Prob'], axis=1)"
   ]
  },
  {
   "cell_type": "code",
   "execution_count": 1234,
   "metadata": {},
   "outputs": [
    {
     "data": {
      "text/html": [
       "<div>\n",
       "<style scoped>\n",
       "    .dataframe tbody tr th:only-of-type {\n",
       "        vertical-align: middle;\n",
       "    }\n",
       "\n",
       "    .dataframe tbody tr th {\n",
       "        vertical-align: top;\n",
       "    }\n",
       "\n",
       "    .dataframe thead th {\n",
       "        text-align: right;\n",
       "    }\n",
       "</style>\n",
       "<table border=\"1\" class=\"dataframe\">\n",
       "  <thead>\n",
       "    <tr style=\"text-align: right;\">\n",
       "      <th></th>\n",
       "      <th>Prospect ID</th>\n",
       "      <th>Converted</th>\n",
       "      <th>Converted_Prob</th>\n",
       "    </tr>\n",
       "  </thead>\n",
       "  <tbody>\n",
       "    <tr>\n",
       "      <th>0</th>\n",
       "      <td>2291</td>\n",
       "      <td>0</td>\n",
       "      <td>0.147654</td>\n",
       "    </tr>\n",
       "    <tr>\n",
       "      <th>1</th>\n",
       "      <td>1730</td>\n",
       "      <td>1</td>\n",
       "      <td>0.974029</td>\n",
       "    </tr>\n",
       "    <tr>\n",
       "      <th>2</th>\n",
       "      <td>6153</td>\n",
       "      <td>0</td>\n",
       "      <td>0.180458</td>\n",
       "    </tr>\n",
       "    <tr>\n",
       "      <th>3</th>\n",
       "      <td>1687</td>\n",
       "      <td>0</td>\n",
       "      <td>0.296016</td>\n",
       "    </tr>\n",
       "    <tr>\n",
       "      <th>4</th>\n",
       "      <td>8991</td>\n",
       "      <td>0</td>\n",
       "      <td>0.124296</td>\n",
       "    </tr>\n",
       "  </tbody>\n",
       "</table>\n",
       "</div>"
      ],
      "text/plain": [
       "   Prospect ID  Converted  Converted_Prob\n",
       "0         2291          0        0.147654\n",
       "1         1730          1        0.974029\n",
       "2         6153          0        0.180458\n",
       "3         1687          0        0.296016\n",
       "4         8991          0        0.124296"
      ]
     },
     "execution_count": 1234,
     "metadata": {},
     "output_type": "execute_result"
    }
   ],
   "source": [
    "# Let's see the head of y_pred_final\n",
    "y_pred_final.head()"
   ]
  },
  {
   "cell_type": "code",
   "execution_count": 1238,
   "metadata": {},
   "outputs": [],
   "source": [
    "y_pred_final['final_predicted'] = y_pred_final.Converted_Prob.map(lambda x: 1 if x > 0.42 else 0)"
   ]
  },
  {
   "cell_type": "code",
   "execution_count": 1239,
   "metadata": {},
   "outputs": [
    {
     "data": {
      "text/html": [
       "<div>\n",
       "<style scoped>\n",
       "    .dataframe tbody tr th:only-of-type {\n",
       "        vertical-align: middle;\n",
       "    }\n",
       "\n",
       "    .dataframe tbody tr th {\n",
       "        vertical-align: top;\n",
       "    }\n",
       "\n",
       "    .dataframe thead th {\n",
       "        text-align: right;\n",
       "    }\n",
       "</style>\n",
       "<table border=\"1\" class=\"dataframe\">\n",
       "  <thead>\n",
       "    <tr style=\"text-align: right;\">\n",
       "      <th></th>\n",
       "      <th>Prospect ID</th>\n",
       "      <th>Converted</th>\n",
       "      <th>Converted_Prob</th>\n",
       "      <th>final_predicted</th>\n",
       "    </tr>\n",
       "  </thead>\n",
       "  <tbody>\n",
       "    <tr>\n",
       "      <th>0</th>\n",
       "      <td>2291</td>\n",
       "      <td>0</td>\n",
       "      <td>0.147654</td>\n",
       "      <td>0</td>\n",
       "    </tr>\n",
       "    <tr>\n",
       "      <th>1</th>\n",
       "      <td>1730</td>\n",
       "      <td>1</td>\n",
       "      <td>0.974029</td>\n",
       "      <td>1</td>\n",
       "    </tr>\n",
       "    <tr>\n",
       "      <th>2</th>\n",
       "      <td>6153</td>\n",
       "      <td>0</td>\n",
       "      <td>0.180458</td>\n",
       "      <td>0</td>\n",
       "    </tr>\n",
       "    <tr>\n",
       "      <th>3</th>\n",
       "      <td>1687</td>\n",
       "      <td>0</td>\n",
       "      <td>0.296016</td>\n",
       "      <td>0</td>\n",
       "    </tr>\n",
       "    <tr>\n",
       "      <th>4</th>\n",
       "      <td>8991</td>\n",
       "      <td>0</td>\n",
       "      <td>0.124296</td>\n",
       "      <td>0</td>\n",
       "    </tr>\n",
       "  </tbody>\n",
       "</table>\n",
       "</div>"
      ],
      "text/plain": [
       "   Prospect ID  Converted  Converted_Prob  final_predicted\n",
       "0         2291          0        0.147654                0\n",
       "1         1730          1        0.974029                1\n",
       "2         6153          0        0.180458                0\n",
       "3         1687          0        0.296016                0\n",
       "4         8991          0        0.124296                0"
      ]
     },
     "execution_count": 1239,
     "metadata": {},
     "output_type": "execute_result"
    }
   ],
   "source": [
    "y_pred_final.head()"
   ]
  },
  {
   "cell_type": "code",
   "execution_count": 1241,
   "metadata": {},
   "outputs": [
    {
     "data": {
      "text/plain": [
       "0.7605633802816901"
      ]
     },
     "execution_count": 1241,
     "metadata": {},
     "output_type": "execute_result"
    }
   ],
   "source": [
    "# Let's check the overall accuracy.\n",
    "metrics.accuracy_score(y_pred_final.Converted, y_pred_final.final_predicted)"
   ]
  },
  {
   "cell_type": "code",
   "execution_count": 1242,
   "metadata": {},
   "outputs": [
    {
     "data": {
      "text/plain": [
       "array([[836, 285],\n",
       "       [157, 568]], dtype=int64)"
      ]
     },
     "execution_count": 1242,
     "metadata": {},
     "output_type": "execute_result"
    }
   ],
   "source": [
    "confusion2 = metrics.confusion_matrix(y_pred_final.Converted, y_pred_final.final_predicted )\n",
    "confusion2"
   ]
  },
  {
   "cell_type": "code",
   "execution_count": 1243,
   "metadata": {},
   "outputs": [],
   "source": [
    "TP = confusion2[1,1] # true positive \n",
    "TN = confusion2[0,0] # true negatives\n",
    "FP = confusion2[0,1] # false positives\n",
    "FN = confusion2[1,0] # false negatives"
   ]
  },
  {
   "cell_type": "code",
   "execution_count": 1244,
   "metadata": {},
   "outputs": [
    {
     "data": {
      "text/plain": [
       "0.783448275862069"
      ]
     },
     "execution_count": 1244,
     "metadata": {},
     "output_type": "execute_result"
    }
   ],
   "source": [
    "# Let's see the sensitivity of our logistic regression model\n",
    "TP / float(TP+FN)"
   ]
  },
  {
   "cell_type": "code",
   "execution_count": 1245,
   "metadata": {},
   "outputs": [
    {
     "data": {
      "text/plain": [
       "0.7457627118644068"
      ]
     },
     "execution_count": 1245,
     "metadata": {},
     "output_type": "execute_result"
    }
   ],
   "source": [
    "# Let us calculate specificity\n",
    "TN / float(TN+FP)"
   ]
  },
  {
   "cell_type": "code",
   "execution_count": null,
   "metadata": {},
   "outputs": [],
   "source": []
  }
 ],
 "metadata": {
  "kernelspec": {
   "display_name": "Python 3",
   "language": "python",
   "name": "python3"
  },
  "language_info": {
   "codemirror_mode": {
    "name": "ipython",
    "version": 3
   },
   "file_extension": ".py",
   "mimetype": "text/x-python",
   "name": "python",
   "nbconvert_exporter": "python",
   "pygments_lexer": "ipython3",
   "version": "3.7.3"
  }
 },
 "nbformat": 4,
 "nbformat_minor": 2
}
